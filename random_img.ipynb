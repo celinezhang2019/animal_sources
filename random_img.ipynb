{
 "cells": [
  {
   "cell_type": "markdown",
   "metadata": {},
   "source": [
    "## Pick images to certain data file"
   ]
  },
  {
   "cell_type": "markdown",
   "metadata": {},
   "source": [
    "### Step-1: randomly select images"
   ]
  },
  {
   "cell_type": "code",
   "execution_count": 1,
   "metadata": {},
   "outputs": [],
   "source": [
    "import random, os, shutil,json\n",
    "\n",
    "animal_15 = [1,9,10,34,3,11,6,16,33,8,5,99,37,51,7]\n",
    "label_dict = {1:[],9:[],10:[],34:[],3:[],11:[],6:[],16:[],33:[],8:[],5:[],99:[],37:[],51:[],7:[]}"
   ]
  },
  {
   "cell_type": "code",
   "execution_count": 2,
   "metadata": {},
   "outputs": [],
   "source": [
    "train_file = \"/home/zxt/data/caltech_images_20190919.json\"\n",
    "with open(train_file) as data_file:\n",
    "    train_anns = json.load(data_file)"
   ]
  },
  {
   "cell_type": "code",
   "execution_count": 3,
   "metadata": {},
   "outputs": [],
   "source": [
    "for i in train_anns['annotations']:   \n",
    "    if i['category_id'] in animal_15:\n",
    "        label_dict[i['category_id']].append(i['image_id']+'.jpg')"
   ]
  },
  {
   "cell_type": "code",
   "execution_count": 4,
   "metadata": {},
   "outputs": [
    {
     "data": {
      "text/plain": [
       "8098"
      ]
     },
     "execution_count": 4,
     "metadata": {},
     "output_type": "execute_result"
    }
   ],
   "source": [
    "len(label_dict[6])"
   ]
  },
  {
   "cell_type": "code",
   "execution_count": 5,
   "metadata": {},
   "outputs": [
    {
     "data": {
      "text/plain": [
       "['58d61304-23d2-11e8-a6a3-ec086b02610b.jpg',\n",
       " '591cb305-23d2-11e8-a6a3-ec086b02610b.jpg',\n",
       " '593734f9-23d2-11e8-a6a3-ec086b02610b.jpg']"
      ]
     },
     "execution_count": 5,
     "metadata": {},
     "output_type": "execute_result"
    }
   ],
   "source": [
    "label_dict[6][:3]"
   ]
  },
  {
   "cell_type": "markdown",
   "metadata": {},
   "source": [
    "animal_15 = [1,9,10,34,3,11,6,16,33,8,5,99,37,51,7]"
   ]
  },
  {
   "cell_type": "code",
   "execution_count": 6,
   "metadata": {},
   "outputs": [
    {
     "name": "stdout",
     "output_type": "stream",
     "text": [
      "sample_all: 15000\n"
     ]
    }
   ],
   "source": [
    "sample_1 = random.sample(label_dict[1], 1000)\n",
    "sample_9 = random.sample(label_dict[9], 1000)\n",
    "sample_10 = random.sample(label_dict[10], 1000)\n",
    "sample_34 = random.sample(label_dict[34], 1000)\n",
    "sample_3 = random.sample(label_dict[3], 1000)\n",
    "sample_11 = random.sample(label_dict[11], 1000)\n",
    "sample_6 = random.sample(label_dict[6], 1000)\n",
    "sample_16 = random.sample(label_dict[16], 1000)\n",
    "sample_33 = random.sample(label_dict[33], 1000)\n",
    "sample_8 = random.sample(label_dict[8], 1000)\n",
    "sample_5 = random.sample(label_dict[5], 1000)\n",
    "sample_99 = random.sample(label_dict[99], 1000)\n",
    "sample_37 = random.sample(label_dict[37], 1000)\n",
    "sample_51 = random.sample(label_dict[51], 1000)\n",
    "sample_7 = random.sample(label_dict[7], 1000)\n",
    "\n",
    "sample_all = sample_1+sample_9+sample_10+sample_34+sample_3+sample_11+sample_6+sample_16+sample_33+sample_8+sample_5+sample_99+sample_37+sample_51+sample_7\n",
    "print('sample_all: '+str(len(sample_all)))"
   ]
  },
  {
   "cell_type": "code",
   "execution_count": 7,
   "metadata": {},
   "outputs": [
    {
     "data": {
      "text/plain": [
       "list"
      ]
     },
     "execution_count": 7,
     "metadata": {},
     "output_type": "execute_result"
    }
   ],
   "source": [
    "type(sample_all)"
   ]
  },
  {
   "cell_type": "code",
   "execution_count": 8,
   "metadata": {},
   "outputs": [
    {
     "data": {
      "text/plain": [
       "['5a02fcdb-23d2-11e8-a6a3-ec086b02610b.jpg',\n",
       " '59e918a4-23d2-11e8-a6a3-ec086b02610b.jpg']"
      ]
     },
     "execution_count": 8,
     "metadata": {},
     "output_type": "execute_result"
    }
   ],
   "source": [
    "sample_all[:2]"
   ]
  },
  {
   "cell_type": "markdown",
   "metadata": {},
   "source": [
    "### Step-2: find the path of the choosed images"
   ]
  },
  {
   "cell_type": "code",
   "execution_count": 15,
   "metadata": {},
   "outputs": [],
   "source": [
    "import os, shutil\n",
    "# the target path\n",
    "target_path = '/home/zxt/data/test/picked_data_caltech/'\n",
    "\n",
    "# the original file path \n",
    "origi_path = '/home/zxt/data/cct_images/'"
   ]
  },
  {
   "cell_type": "markdown",
   "metadata": {},
   "source": [
    "trial: if the simple merge can generate the address"
   ]
  },
  {
   "cell_type": "code",
   "execution_count": 16,
   "metadata": {},
   "outputs": [],
   "source": [
    "sample0 = sample_all[0]"
   ]
  },
  {
   "cell_type": "code",
   "execution_count": 17,
   "metadata": {},
   "outputs": [
    {
     "data": {
      "text/plain": [
       "'/home/zxt/data/cct_images/5a02fcdb-23d2-11e8-a6a3-ec086b02610b.jpg'"
      ]
     },
     "execution_count": 17,
     "metadata": {},
     "output_type": "execute_result"
    }
   ],
   "source": [
    "origi_path+sample0"
   ]
  },
  {
   "cell_type": "markdown",
   "metadata": {},
   "source": [
    "yes, it exists."
   ]
  },
  {
   "cell_type": "code",
   "execution_count": 20,
   "metadata": {},
   "outputs": [],
   "source": [
    "Filelist = []\n",
    "for i in sample_all:\n",
    "    Filelist.append(origi_path+i)"
   ]
  },
  {
   "cell_type": "code",
   "execution_count": 22,
   "metadata": {},
   "outputs": [
    {
     "data": {
      "text/plain": [
       "['/home/zxt/data/cct_images/5a02fcdb-23d2-11e8-a6a3-ec086b02610b.jpg',\n",
       " '/home/zxt/data/cct_images/59e918a4-23d2-11e8-a6a3-ec086b02610b.jpg',\n",
       " '/home/zxt/data/cct_images/59fc7f28-23d2-11e8-a6a3-ec086b02610b.jpg']"
      ]
     },
     "execution_count": 22,
     "metadata": {},
     "output_type": "execute_result"
    }
   ],
   "source": [
    "Filelist[:3]"
   ]
  },
  {
   "cell_type": "markdown",
   "metadata": {},
   "source": [
    "### Step-3: copy the image files to the target path"
   ]
  },
  {
   "cell_type": "code",
   "execution_count": null,
   "metadata": {},
   "outputs": [],
   "source": [
    "# Copy the files to the target folder\n",
    "for i in Filelist:\n",
    "    shutil.copy(i,target_path)"
   ]
  },
  {
   "cell_type": "code",
   "execution_count": null,
   "metadata": {},
   "outputs": [],
   "source": []
  },
  {
   "cell_type": "code",
   "execution_count": null,
   "metadata": {},
   "outputs": [],
   "source": []
  },
  {
   "cell_type": "code",
   "execution_count": null,
   "metadata": {},
   "outputs": [],
   "source": []
  },
  {
   "cell_type": "code",
   "execution_count": null,
   "metadata": {},
   "outputs": [],
   "source": []
  },
  {
   "cell_type": "code",
   "execution_count": null,
   "metadata": {},
   "outputs": [],
   "source": []
  },
  {
   "cell_type": "code",
   "execution_count": null,
   "metadata": {},
   "outputs": [],
   "source": []
  }
 ],
 "metadata": {
  "kernelspec": {
   "display_name": "Python 3",
   "language": "python",
   "name": "python3"
  },
  "language_info": {
   "codemirror_mode": {
    "name": "ipython",
    "version": 3
   },
   "file_extension": ".py",
   "mimetype": "text/x-python",
   "name": "python",
   "nbconvert_exporter": "python",
   "pygments_lexer": "ipython3",
   "version": "3.7.4"
  }
 },
 "nbformat": 4,
 "nbformat_minor": 4
}
