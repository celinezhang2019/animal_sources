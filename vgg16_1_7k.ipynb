{
 "cells": [
  {
   "cell_type": "markdown",
   "metadata": {},
   "source": [
    "## vgg16_5k_20categories"
   ]
  },
  {
   "cell_type": "code",
   "execution_count": 7,
   "metadata": {},
   "outputs": [],
   "source": [
    "import numpy as np\n",
    "X_train = np.load('/home/zxt/code/final/7k_new/X_train.npy')\n",
    "Y_train = np.load('/home/zxt/code/final/7k_new/Y_train.npy')\n",
    "X_validate = np.load('/home/zxt/code/final/7k_new/X_validate.npy')\n",
    "Y_validate = np.load('/home/zxt/code/final/7k_new/Y_validate.npy')\n",
    "X_test = np.load('/home/zxt/code/final/7k_new/X_test.npy')\n",
    "Y_test = np.load('/home/zxt/code/final/7k_new/Y_test.npy')"
   ]
  },
  {
   "cell_type": "code",
   "execution_count": 8,
   "metadata": {},
   "outputs": [
    {
     "data": {
      "text/plain": [
       "array([['wildebeest'],\n",
       "       ['black_bear'],\n",
       "       ['vehicle'],\n",
       "       ...,\n",
       "       ['black_bear'],\n",
       "       ['fox'],\n",
       "       ['bird']], dtype='<U16')"
      ]
     },
     "execution_count": 8,
     "metadata": {},
     "output_type": "execute_result"
    }
   ],
   "source": [
    "Y_train"
   ]
  },
  {
   "cell_type": "code",
   "execution_count": 9,
   "metadata": {},
   "outputs": [],
   "source": [
    "for i in Y_train:\n",
    "    if i[0]=='elephant':\n",
    "        i[0]=0\n",
    "    if i[0]=='wild_boar':\n",
    "        i[0]=1\n",
    "    if i[0]=='gazellethomosons':\n",
    "        i[0]=2\n",
    "    if i[0]=='squirrel':\n",
    "        i[0]=3 \n",
    "    if i[0]=='hedgehog':\n",
    "        i[0]=4\n",
    "    if i[0]=='guineafowl':\n",
    "        i[0]=5\n",
    "    if i[0]=='moose':\n",
    "        i[0]=6\n",
    "    if i[0]=='bobcat':\n",
    "        i[0]=7   \n",
    "    if i[0]=='bird':\n",
    "        i[0]=8\n",
    "    if i[0]=='fox':\n",
    "        i[0]=9\n",
    "    if i[0]=='giraffe':\n",
    "        i[0]=10\n",
    "    if i[0]=='buffalo':\n",
    "        i[0]=11\n",
    "    if i[0]=='hare':\n",
    "        i[0]=12\n",
    "    if i[0]=='vehicle':\n",
    "        i[0]=13\n",
    "    if i[0]=='wildebeest':\n",
    "        i[0]=14\n",
    "    if i[0]=='cattle':\n",
    "        i[0]=15 \n",
    "    if i[0]=='skunk':\n",
    "        i[0]=16\n",
    "    if i[0]=='lion':\n",
    "        i[0]=17\n",
    "    if i[0]=='zebra':\n",
    "        i[0]=18\n",
    "    if i[0]=='black_bear':\n",
    "        i[0]=19  "
   ]
  },
  {
   "cell_type": "code",
   "execution_count": 10,
   "metadata": {},
   "outputs": [
    {
     "name": "stdout",
     "output_type": "stream",
     "text": [
      "['0' '1' '10' '11' '12' '13' '14' '15' '16' '17' '18' '19' '2' '3' '4' '5'\n",
      " '6' '7' '8' '9']\n"
     ]
    }
   ],
   "source": [
    "unique_data = np.unique(Y_train)\n",
    "print(unique_data)"
   ]
  },
  {
   "cell_type": "code",
   "execution_count": 11,
   "metadata": {},
   "outputs": [],
   "source": [
    "for i in Y_validate:\n",
    "    if i[0]=='elephant':\n",
    "        i[0]=0\n",
    "    if i[0]=='wild_boar':\n",
    "        i[0]=1\n",
    "    if i[0]=='gazellethomosons':\n",
    "        i[0]=2\n",
    "    if i[0]=='squirrel':\n",
    "        i[0]=3 \n",
    "    if i[0]=='hedgehog':\n",
    "        i[0]=4\n",
    "    if i[0]=='guineafowl':\n",
    "        i[0]=5\n",
    "    if i[0]=='moose':\n",
    "        i[0]=6\n",
    "    if i[0]=='bobcat':\n",
    "        i[0]=7   \n",
    "    if i[0]=='bird':\n",
    "        i[0]=8\n",
    "    if i[0]=='fox':\n",
    "        i[0]=9\n",
    "    if i[0]=='giraffe':\n",
    "        i[0]=10\n",
    "    if i[0]=='buffalo':\n",
    "        i[0]=11\n",
    "    if i[0]=='hare':\n",
    "        i[0]=12\n",
    "    if i[0]=='vehicle':\n",
    "        i[0]=13\n",
    "    if i[0]=='wildebeest':\n",
    "        i[0]=14\n",
    "    if i[0]=='cattle':\n",
    "        i[0]=15 \n",
    "    if i[0]=='skunk':\n",
    "        i[0]=16\n",
    "    if i[0]=='lion':\n",
    "        i[0]=17\n",
    "    if i[0]=='zebra':\n",
    "        i[0]=18\n",
    "    if i[0]=='black_bear':\n",
    "        i[0]=19  "
   ]
  },
  {
   "cell_type": "code",
   "execution_count": 12,
   "metadata": {},
   "outputs": [
    {
     "name": "stdout",
     "output_type": "stream",
     "text": [
      "['0' '1' '10' '11' '12' '13' '14' '15' '16' '17' '18' '19' '2' '3' '4' '5'\n",
      " '6' '7' '8' '9']\n"
     ]
    }
   ],
   "source": [
    "unique_data = np.unique(Y_validate)\n",
    "print(unique_data)"
   ]
  },
  {
   "cell_type": "code",
   "execution_count": 13,
   "metadata": {},
   "outputs": [],
   "source": [
    "for i in Y_test:\n",
    "    if i[0]=='elephant':\n",
    "        i[0]=0\n",
    "    if i[0]=='wild_boar':\n",
    "        i[0]=1\n",
    "    if i[0]=='gazellethomosons':\n",
    "        i[0]=2\n",
    "    if i[0]=='squirrel':\n",
    "        i[0]=3 \n",
    "    if i[0]=='hedgehog':\n",
    "        i[0]=4\n",
    "    if i[0]=='guineafowl':\n",
    "        i[0]=5\n",
    "    if i[0]=='moose':\n",
    "        i[0]=6\n",
    "    if i[0]=='bobcat':\n",
    "        i[0]=7   \n",
    "    if i[0]=='bird':\n",
    "        i[0]=8\n",
    "    if i[0]=='fox':\n",
    "        i[0]=9\n",
    "    if i[0]=='giraffe':\n",
    "        i[0]=10\n",
    "    if i[0]=='buffalo':\n",
    "        i[0]=11\n",
    "    if i[0]=='hare':\n",
    "        i[0]=12\n",
    "    if i[0]=='vehicle':\n",
    "        i[0]=13\n",
    "    if i[0]=='wildebeest':\n",
    "        i[0]=14\n",
    "    if i[0]=='cattle':\n",
    "        i[0]=15 \n",
    "    if i[0]=='skunk':\n",
    "        i[0]=16\n",
    "    if i[0]=='lion':\n",
    "        i[0]=17\n",
    "    if i[0]=='zebra':\n",
    "        i[0]=18\n",
    "    if i[0]=='black_bear':\n",
    "        i[0]=19  "
   ]
  },
  {
   "cell_type": "code",
   "execution_count": 14,
   "metadata": {},
   "outputs": [
    {
     "name": "stdout",
     "output_type": "stream",
     "text": [
      "['0' '1' '10' '11' '12' '13' '14' '15' '16' '17' '18' '19' '2' '3' '4' '5'\n",
      " '6' '7' '8' '9']\n"
     ]
    }
   ],
   "source": [
    "unique_data = np.unique(Y_test)\n",
    "print(unique_data)"
   ]
  },
  {
   "cell_type": "code",
   "execution_count": 15,
   "metadata": {},
   "outputs": [
    {
     "name": "stderr",
     "output_type": "stream",
     "text": [
      "Using TensorFlow backend.\n"
     ]
    }
   ],
   "source": [
    "from keras.models import Sequential \n",
    "from keras.layers import Dense, Dropout,Activation, Flatten, Input\n",
    "from keras.layers import Conv2D, MaxPooling2D\n",
    "import keras, matplotlib\n",
    "matplotlib.use('Agg')\n",
    "import matplotlib.pyplot as plt\n",
    "from keras.preprocessing.image import ImageDataGenerator\n",
    "from keras.applications import VGG16\n",
    "import numpy as np\n",
    "from time import time\n",
    "from keras.optimizers import SGD\n",
    "from keras.models import Model\n",
    "from keras.utils import np_utils\n",
    "\n",
    "class_num = 20\n",
    "batch_size = 64\n",
    "epochs_num = 10"
   ]
  },
  {
   "cell_type": "code",
   "execution_count": 16,
   "metadata": {},
   "outputs": [
    {
     "data": {
      "text/plain": [
       "12600"
      ]
     },
     "execution_count": 16,
     "metadata": {},
     "output_type": "execute_result"
    }
   ],
   "source": [
    "len(Y_test)"
   ]
  },
  {
   "cell_type": "code",
   "execution_count": null,
   "metadata": {},
   "outputs": [
    {
     "name": "stdout",
     "output_type": "stream",
     "text": [
      "[INFO] loading dataset......\n",
      "[INFO] initializing model......\n",
      "WARNING:tensorflow:From /home/zxt/anaconda3/lib/python3.7/site-packages/keras/backend/tensorflow_backend.py:74: The name tf.get_default_graph is deprecated. Please use tf.compat.v1.get_default_graph instead.\n",
      "\n",
      "WARNING:tensorflow:From /home/zxt/anaconda3/lib/python3.7/site-packages/keras/backend/tensorflow_backend.py:517: The name tf.placeholder is deprecated. Please use tf.compat.v1.placeholder instead.\n",
      "\n",
      "WARNING:tensorflow:From /home/zxt/anaconda3/lib/python3.7/site-packages/keras/backend/tensorflow_backend.py:4138: The name tf.random_uniform is deprecated. Please use tf.random.uniform instead.\n",
      "\n",
      "WARNING:tensorflow:From /home/zxt/anaconda3/lib/python3.7/site-packages/keras/backend/tensorflow_backend.py:3976: The name tf.nn.max_pool is deprecated. Please use tf.nn.max_pool2d instead.\n",
      "\n",
      "WARNING:tensorflow:From /home/zxt/anaconda3/lib/python3.7/site-packages/keras/backend/tensorflow_backend.py:174: The name tf.get_default_session is deprecated. Please use tf.compat.v1.get_default_session instead.\n",
      "\n",
      "WARNING:tensorflow:From /home/zxt/anaconda3/lib/python3.7/site-packages/keras/backend/tensorflow_backend.py:181: The name tf.ConfigProto is deprecated. Please use tf.compat.v1.ConfigProto instead.\n",
      "\n",
      "WARNING:tensorflow:From /home/zxt/anaconda3/lib/python3.7/site-packages/keras/backend/tensorflow_backend.py:186: The name tf.Session is deprecated. Please use tf.compat.v1.Session instead.\n",
      "\n",
      "WARNING:tensorflow:From /home/zxt/anaconda3/lib/python3.7/site-packages/keras/backend/tensorflow_backend.py:190: The name tf.global_variables is deprecated. Please use tf.compat.v1.global_variables instead.\n",
      "\n",
      "WARNING:tensorflow:From /home/zxt/anaconda3/lib/python3.7/site-packages/keras/backend/tensorflow_backend.py:199: The name tf.is_variable_initialized is deprecated. Please use tf.compat.v1.is_variable_initialized instead.\n",
      "\n",
      "WARNING:tensorflow:From /home/zxt/anaconda3/lib/python3.7/site-packages/keras/backend/tensorflow_backend.py:206: The name tf.variables_initializer is deprecated. Please use tf.compat.v1.variables_initializer instead.\n",
      "\n",
      "WARNING:tensorflow:From /home/zxt/anaconda3/lib/python3.7/site-packages/keras/backend/tensorflow_backend.py:133: The name tf.placeholder_with_default is deprecated. Please use tf.compat.v1.placeholder_with_default instead.\n",
      "\n",
      "WARNING:tensorflow:From /home/zxt/anaconda3/lib/python3.7/site-packages/keras/backend/tensorflow_backend.py:3445: calling dropout (from tensorflow.python.ops.nn_ops) with keep_prob is deprecated and will be removed in a future version.\n",
      "Instructions for updating:\n",
      "Please use `rate` instead of `keep_prob`. Rate should be set to `rate = 1 - keep_prob`.\n",
      "[INFO] compiling model\n",
      "WARNING:tensorflow:From /home/zxt/anaconda3/lib/python3.7/site-packages/keras/optimizers.py:790: The name tf.train.Optimizer is deprecated. Please use tf.compat.v1.train.Optimizer instead.\n",
      "\n",
      "WARNING:tensorflow:From /home/zxt/anaconda3/lib/python3.7/site-packages/keras/backend/tensorflow_backend.py:3295: The name tf.log is deprecated. Please use tf.math.log instead.\n",
      "\n",
      "[INFO] training model\n",
      "WARNING:tensorflow:From /home/zxt/anaconda3/lib/python3.7/site-packages/tensorflow_core/python/ops/math_grad.py:1424: where (from tensorflow.python.ops.array_ops) is deprecated and will be removed in a future version.\n",
      "Instructions for updating:\n",
      "Use tf.where in 2.0, which has the same broadcast rule as np.where\n",
      "WARNING:tensorflow:From /home/zxt/anaconda3/lib/python3.7/site-packages/keras/backend/tensorflow_backend.py:986: The name tf.assign_add is deprecated. Please use tf.compat.v1.assign_add instead.\n",
      "\n",
      "WARNING:tensorflow:From /home/zxt/anaconda3/lib/python3.7/site-packages/keras/backend/tensorflow_backend.py:973: The name tf.assign is deprecated. Please use tf.compat.v1.assign instead.\n",
      "\n",
      "Train on 98000 samples, validate on 29400 samples\n",
      "Epoch 1/10\n",
      "64704/98000 [==================>...........] - ETA: 7:52 - loss: 4.6820 - acc: 0.1231"
     ]
    }
   ],
   "source": [
    "start_time = time()\n",
    "\n",
    "print('[INFO] loading dataset......')\n",
    "(x_train,y_train)=(X_train, Y_train)\n",
    "(x_valid,y_valid)=(X_validate, Y_validate)\n",
    "y_train=np_utils.to_categorical(y_train,class_num)\n",
    "y_valid=np_utils.to_categorical(y_valid,class_num)\n",
    "\n",
    "print('[INFO] initializing model......')\n",
    "base_model=VGG16(weights='imagenet',include_top=False,input_tensor=Input(shape=(32,32,3)))\n",
    "head_model=base_model.output\n",
    "head_model=Flatten(name=\"flatten\")(head_model)\n",
    "head_model = Dense(512, activation=\"relu\")(head_model)\n",
    "head_model = Dropout(0.5)(head_model)\n",
    "head_model=Dense(64,activation='relu')(head_model)\n",
    "head_model = Dense(20, activation=\"softmax\")(head_model)\n",
    "model=Model(base_model.input,head_model)\n",
    "\n",
    "for layer in base_model.layers:\n",
    "    layer.trainable=False\n",
    "print('[INFO] compiling model')\n",
    "sgd=SGD(lr=0.0001,momentum=0.9)\n",
    "model.compile(loss='categorical_crossentropy',metrics=['accuracy'],optimizer=sgd)\n",
    "print('[INFO] training model')\n",
    "model.fit(x_train, y_train, batch_size=batch_size , epochs=epochs_num, validation_data=(x_valid,y_valid))\n",
    "print('[INFO] saving model and weights')\n",
    "model_json=model.to_json()\n",
    "open('model_architecture.json','w').write(model_json)\n",
    "\n",
    "model.save_weights('/home/zxt/code/final/5k_new/model/model_5k_vgg_1_weights.h5', overwrite=True)\n",
    "model.save('/home/zxt/code/final/5k_new/model/model_5k_vgg_1.h5')\n",
    "\n",
    "\n",
    "end_time = time()\n",
    "print(\"Running time: %s seconds\"%(end_time - start_time))"
   ]
  },
  {
   "cell_type": "code",
   "execution_count": null,
   "metadata": {},
   "outputs": [],
   "source": []
  }
 ],
 "metadata": {
  "kernelspec": {
   "display_name": "Python 3",
   "language": "python",
   "name": "python3"
  },
  "language_info": {
   "codemirror_mode": {
    "name": "ipython",
    "version": 3
   },
   "file_extension": ".py",
   "mimetype": "text/x-python",
   "name": "python",
   "nbconvert_exporter": "python",
   "pygments_lexer": "ipython3",
   "version": "3.7.4"
  }
 },
 "nbformat": 4,
 "nbformat_minor": 4
}
