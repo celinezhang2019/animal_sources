{
 "cells": [
  {
   "cell_type": "code",
   "execution_count": 1,
   "metadata": {},
   "outputs": [],
   "source": [
    "import random, os, shutil,json\n",
    "\n",
    "animal_1w = [37,11,5,6,10,51,33,40,7]\n",
    "label_dict = {37:[],11:[],5:[],6:[],10:[],51:[],33:[],40:[],7:[]}"
   ]
  },
  {
   "cell_type": "code",
   "execution_count": 2,
   "metadata": {},
   "outputs": [],
   "source": [
    "train_file = \"/home/zxt/data/caltech_images_20190919.json\"\n",
    "with open(train_file) as data_file:\n",
    "    train_anns = json.load(data_file)\n",
    "    \n",
    "for i in train_anns['annotations']:   \n",
    "    if i['category_id'] in animal_1w:\n",
    "        label_dict[i['category_id']].append(i['image_id']+'.jpg')"
   ]
  },
  {
   "cell_type": "code",
   "execution_count": 4,
   "metadata": {},
   "outputs": [
    {
     "data": {
      "text/plain": [
       "['58d61304-23d2-11e8-a6a3-ec086b02610b.jpg',\n",
       " '591cb305-23d2-11e8-a6a3-ec086b02610b.jpg',\n",
       " '593734f9-23d2-11e8-a6a3-ec086b02610b.jpg']"
      ]
     },
     "execution_count": 4,
     "metadata": {},
     "output_type": "execute_result"
    }
   ],
   "source": [
    "# see an example:\n",
    "label_dict[6][:3]"
   ]
  },
  {
   "cell_type": "markdown",
   "metadata": {},
   "source": [
    "FIND THE DUPLICATED VALUE"
   ]
  },
  {
   "cell_type": "code",
   "execution_count": 18,
   "metadata": {},
   "outputs": [],
   "source": [
    "all_37 = label_dict[37]\n",
    "all_11 = label_dict[11]\n",
    "all_5 = label_dict[5]\n",
    "all_6 = label_dict[6]\n",
    "all_10 = label_dict[10]\n",
    "all_51 = label_dict[51]\n",
    "all_33 = label_dict[33]\n",
    "all_40 = label_dict[40]\n",
    "all_7 = label_dict[7]"
   ]
  },
  {
   "cell_type": "code",
   "execution_count": 19,
   "metadata": {},
   "outputs": [
    {
     "data": {
      "text/plain": [
       "48030"
      ]
     },
     "execution_count": 19,
     "metadata": {},
     "output_type": "execute_result"
    }
   ],
   "source": [
    "all = all_37+all_11+all_5+all_6+all_10+all_51+all_33+all_40+all_7\n",
    "len(all)"
   ]
  },
  {
   "cell_type": "code",
   "execution_count": 20,
   "metadata": {},
   "outputs": [
    {
     "data": {
      "text/plain": [
       "'58f73f1e-23d2-11e8-a6a3-ec086b02610b.jpg'"
      ]
     },
     "execution_count": 20,
     "metadata": {},
     "output_type": "execute_result"
    }
   ],
   "source": [
    "all[0]"
   ]
  },
  {
   "cell_type": "code",
   "execution_count": 21,
   "metadata": {},
   "outputs": [],
   "source": [
    "# check if any duplicated value:\n",
    "from collections import Counter\n",
    "b = dict(Counter(all))\n",
    "# print ([key for key,value in b.items()if value > 1])\n",
    "duplicated_image = [key for key,value in b.items()if value > 1]\n",
    "# print ({key:value for key,value in b.items()if value > 1})"
   ]
  },
  {
   "cell_type": "code",
   "execution_count": 22,
   "metadata": {},
   "outputs": [
    {
     "data": {
      "text/plain": [
       "499"
      ]
     },
     "execution_count": 22,
     "metadata": {},
     "output_type": "execute_result"
    }
   ],
   "source": [
    "len(duplicated_image)"
   ]
  },
  {
   "cell_type": "markdown",
   "metadata": {},
   "source": [
    "DELETE THE DUPLICATED IMAGES FOR EACH CATEGORY"
   ]
  },
  {
   "cell_type": "code",
   "execution_count": 23,
   "metadata": {},
   "outputs": [],
   "source": [
    "sample_base_37 = list(set(all_37).difference(set(duplicated_image)))\n",
    "sample_base_11 = list(set(all_11).difference(set(duplicated_image)))\n",
    "sample_base_5  = list(set(all_5).difference(set(duplicated_image)))\n",
    "sample_base_6  = list(set(all_6).difference(set(duplicated_image)))\n",
    "\n",
    "sample_base_10 = list(set(all_10).difference(set(duplicated_image)))\n",
    "sample_base_51 = list(set(all_51).difference(set(duplicated_image)))\n",
    "sample_base_33 = list(set(all_33).difference(set(duplicated_image)))\n",
    "sample_base_40 = list(set(all_40).difference(set(duplicated_image)))\n",
    "sample_base_7  = list(set(all_7).difference(set(duplicated_image)))"
   ]
  },
  {
   "cell_type": "code",
   "execution_count": 24,
   "metadata": {},
   "outputs": [
    {
     "name": "stdout",
     "output_type": "stream",
     "text": [
      "sample_base_37:3626\n",
      "sample_base_11:9325\n",
      "sample_base_5:4416\n",
      "sample_base_6:7834\n",
      "sample_base_10:12186\n",
      "sample_base_51:2574\n",
      "sample_base_33:4717\n",
      "sample_base_40:145\n",
      "sample_base_7:1886\n"
     ]
    }
   ],
   "source": [
    "print('sample_base_37:' + str(len(sample_base_37)))\n",
    "print('sample_base_11:' + str(len(sample_base_11)))\n",
    "print('sample_base_5:' + str(len(sample_base_5)))\n",
    "print('sample_base_6:' + str(len(sample_base_6)))\n",
    "print('sample_base_10:' + str(len(sample_base_10)))\n",
    "print('sample_base_51:' + str(len(sample_base_51)))\n",
    "print('sample_base_33:' + str(len(sample_base_33)))\n",
    "print('sample_base_40:' + str(len(sample_base_40)))\n",
    "print('sample_base_7:' + str(len(sample_base_7)))"
   ]
  },
  {
   "cell_type": "code",
   "execution_count": 28,
   "metadata": {},
   "outputs": [
    {
     "name": "stdout",
     "output_type": "stream",
     "text": [
      "3626\n",
      "10003\n",
      "4450\n",
      "8098\n",
      "12519\n",
      "2574\n",
      "4717\n",
      "145\n",
      "1898\n"
     ]
    }
   ],
   "source": [
    "print(len(all_37))\n",
    "print(len(all_11))\n",
    "print(len(all_5))\n",
    "print(len(all_6))\n",
    "print(len(all_10))\n",
    "print(len(all_51))\n",
    "print(len(all_33))\n",
    "print(len(all_40))\n",
    "print(len(all_7))"
   ]
  },
  {
   "cell_type": "markdown",
   "metadata": {},
   "source": [
    "### SAMPLING"
   ]
  },
  {
   "cell_type": "code",
   "execution_count": 5,
   "metadata": {},
   "outputs": [],
   "source": [
    "random.seed(523)"
   ]
  },
  {
   "cell_type": "code",
   "execution_count": 29,
   "metadata": {},
   "outputs": [],
   "source": [
    "sample_37 = random.sample(sample_base_37,3000)\n",
    "sample_11 = random.sample(sample_base_11,3000)\n",
    "sample_5 = random.sample(sample_base_5,4000)\n",
    "sample_6 = random.sample(sample_base_6,4000)\n",
    "sample_10 = random.sample(sample_base_10,4000)\n",
    "sample_51 = random.sample(sample_base_51,2500)\n",
    "sample_33 = random.sample(sample_base_33,4000)\n",
    "sample_40 = random.sample(sample_base_40,40)\n",
    "sample_7 = random.sample(sample_base_7,1800)"
   ]
  },
  {
   "cell_type": "code",
   "execution_count": 30,
   "metadata": {},
   "outputs": [
    {
     "name": "stdout",
     "output_type": "stream",
     "text": [
      "sample_all: 26340\n"
     ]
    }
   ],
   "source": [
    "sample_all = sample_37+sample_11+sample_5+sample_6+sample_10+sample_51+sample_33+sample_40+sample_7\n",
    "print('sample_all: '+str(len(sample_all)))"
   ]
  },
  {
   "cell_type": "code",
   "execution_count": 31,
   "metadata": {},
   "outputs": [
    {
     "data": {
      "text/plain": [
       "26340"
      ]
     },
     "execution_count": 31,
     "metadata": {},
     "output_type": "execute_result"
    }
   ],
   "source": [
    "3000*2+4000*4+2500+40+1800"
   ]
  },
  {
   "cell_type": "code",
   "execution_count": 32,
   "metadata": {},
   "outputs": [
    {
     "name": "stdout",
     "output_type": "stream",
     "text": [
      "{}\n"
     ]
    }
   ],
   "source": [
    "# check if any duplicated value:\n",
    "from collections import Counter\n",
    "b = dict(Counter(sample_all))\n",
    "# print ([key for key,value in b.items()if value > 1])\n",
    "# duplicated_image = [key for key,value in b.items()if value > 1]\n",
    "print ({key:value for key,value in b.items()if value > 1})"
   ]
  },
  {
   "cell_type": "markdown",
   "metadata": {},
   "source": [
    "FIND THE IMAGE PATH"
   ]
  },
  {
   "cell_type": "code",
   "execution_count": 34,
   "metadata": {},
   "outputs": [],
   "source": [
    "import os, shutil\n",
    "# the target path\n",
    "target_path = '/home/zxt/data/CAL1W/'\n",
    "\n",
    "# the original file path \n",
    "origi_path = '/home/zxt/data/cct_images/'"
   ]
  },
  {
   "cell_type": "code",
   "execution_count": 35,
   "metadata": {},
   "outputs": [],
   "source": [
    "Filelist = []\n",
    "for i in sample_all:\n",
    "    Filelist.append(origi_path+i)"
   ]
  },
  {
   "cell_type": "code",
   "execution_count": 36,
   "metadata": {},
   "outputs": [
    {
     "data": {
      "text/plain": [
       "26340"
      ]
     },
     "execution_count": 36,
     "metadata": {},
     "output_type": "execute_result"
    }
   ],
   "source": [
    "len(Filelist)"
   ]
  },
  {
   "cell_type": "code",
   "execution_count": 37,
   "metadata": {},
   "outputs": [
    {
     "data": {
      "text/plain": [
       "['/home/zxt/data/cct_images/5879d560-23d2-11e8-a6a3-ec086b02610b.jpg',\n",
       " '/home/zxt/data/cct_images/5874d6f6-23d2-11e8-a6a3-ec086b02610b.jpg']"
      ]
     },
     "execution_count": 37,
     "metadata": {},
     "output_type": "execute_result"
    }
   ],
   "source": [
    "Filelist[:2]"
   ]
  },
  {
   "cell_type": "markdown",
   "metadata": {},
   "source": [
    "COPY THE IMGAE TO THE TARGET PATH"
   ]
  },
  {
   "cell_type": "code",
   "execution_count": 39,
   "metadata": {},
   "outputs": [
    {
     "ename": "NameError",
     "evalue": "name 'count' is not defined",
     "output_type": "error",
     "traceback": [
      "\u001b[0;31m---------------------------------------------------------------------------\u001b[0m",
      "\u001b[0;31mNameError\u001b[0m                                 Traceback (most recent call last)",
      "\u001b[0;32m<ipython-input-39-db6894f734af>\u001b[0m in \u001b[0;36m<module>\u001b[0;34m\u001b[0m\n\u001b[1;32m      6\u001b[0m         \u001b[0mnonelist\u001b[0m\u001b[0;34m.\u001b[0m\u001b[0mappend\u001b[0m\u001b[0;34m(\u001b[0m\u001b[0mi\u001b[0m\u001b[0;34m)\u001b[0m\u001b[0;34m\u001b[0m\u001b[0;34m\u001b[0m\u001b[0m\n\u001b[1;32m      7\u001b[0m \u001b[0;34m\u001b[0m\u001b[0m\n\u001b[0;32m----> 8\u001b[0;31m \u001b[0mprint\u001b[0m\u001b[0;34m(\u001b[0m\u001b[0;34m'Total '\u001b[0m\u001b[0;34m+\u001b[0m\u001b[0mstr\u001b[0m\u001b[0;34m(\u001b[0m\u001b[0mcount\u001b[0m\u001b[0;34m)\u001b[0m\u001b[0;34m+\u001b[0m\u001b[0;34m' images copied into the folder.'\u001b[0m\u001b[0;34m)\u001b[0m\u001b[0;34m\u001b[0m\u001b[0;34m\u001b[0m\u001b[0m\n\u001b[0m\u001b[1;32m      9\u001b[0m \u001b[0mprint\u001b[0m\u001b[0;34m(\u001b[0m\u001b[0;34m'There are '\u001b[0m\u001b[0;34m+\u001b[0m\u001b[0mstr\u001b[0m\u001b[0;34m(\u001b[0m\u001b[0mlen\u001b[0m\u001b[0;34m(\u001b[0m\u001b[0mnonelist\u001b[0m\u001b[0;34m)\u001b[0m\u001b[0;34m)\u001b[0m\u001b[0;34m+\u001b[0m \u001b[0;34m' images in json but not exist in images.'\u001b[0m\u001b[0;34m)\u001b[0m\u001b[0;34m\u001b[0m\u001b[0;34m\u001b[0m\u001b[0m\n",
      "\u001b[0;31mNameError\u001b[0m: name 'count' is not defined"
     ]
    }
   ],
   "source": [
    "nonelist = []\n",
    "count = 0 \n",
    "for i in Filelist:\n",
    "    try:\n",
    "        shutil.copy(i, target_path)\n",
    "        count += 1\n",
    "    except:\n",
    "        nonelist.append(i)\n",
    "\n",
    "print('Total '+str(count)+' images copied into the folder.')\n",
    "print('There are '+str(len(nonelist))+ ' images in json but not exist in images.')"
   ]
  },
  {
   "cell_type": "code",
   "execution_count": 40,
   "metadata": {},
   "outputs": [
    {
     "data": {
      "text/plain": [
       "0"
      ]
     },
     "execution_count": 40,
     "metadata": {},
     "output_type": "execute_result"
    }
   ],
   "source": [
    "len(nonelist)"
   ]
  },
  {
   "cell_type": "markdown",
   "metadata": {},
   "source": [
    "### STORING THE FILELIST TO CSV\n",
    "\n"
   ]
  },
  {
   "cell_type": "code",
   "execution_count": 42,
   "metadata": {},
   "outputs": [],
   "source": [
    "import pandas as pd\n",
    "name = ['image_id']\n",
    "filelist = pd.DataFrame(columns=name, data=Filelist)\n",
    "filelist.head()\n",
    "filelist.shape\n",
    "filelist.to_csv('/home/zxt/data/backupdata/CAL/filelist.csv', encoding='gbk')"
   ]
  },
  {
   "cell_type": "code",
   "execution_count": null,
   "metadata": {},
   "outputs": [],
   "source": []
  },
  {
   "cell_type": "code",
   "execution_count": null,
   "metadata": {},
   "outputs": [],
   "source": []
  },
  {
   "cell_type": "code",
   "execution_count": null,
   "metadata": {},
   "outputs": [],
   "source": []
  },
  {
   "cell_type": "code",
   "execution_count": null,
   "metadata": {},
   "outputs": [],
   "source": []
  },
  {
   "cell_type": "code",
   "execution_count": null,
   "metadata": {},
   "outputs": [],
   "source": []
  }
 ],
 "metadata": {
  "kernelspec": {
   "display_name": "Python 3",
   "language": "python",
   "name": "python3"
  },
  "language_info": {
   "codemirror_mode": {
    "name": "ipython",
    "version": 3
   },
   "file_extension": ".py",
   "mimetype": "text/x-python",
   "name": "python",
   "nbconvert_exporter": "python",
   "pygments_lexer": "ipython3",
   "version": "3.7.4"
  }
 },
 "nbformat": 4,
 "nbformat_minor": 4
}
