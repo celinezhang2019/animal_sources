{
 "cells": [
  {
   "cell_type": "code",
   "execution_count": 1,
   "metadata": {},
   "outputs": [],
   "source": [
    "import json,pandas as pd, numpy as np, os,csv,random,time\n",
    "import matplotlib.pyplot as plt\n",
    "from sklearn.model_selection import train_test_split\n",
    "import csv,time\n",
    "import numpy as np\n",
    "import pandas as pd\n",
    "import os\n",
    "import matplotlib.pyplot as plt\n",
    "from sklearn.model_selection import train_test_split\n",
    "from tensorflow.keras.preprocessing import image\n",
    "from time import time"
   ]
  },
  {
   "cell_type": "code",
   "execution_count": 2,
   "metadata": {},
   "outputs": [
    {
     "data": {
      "text/plain": [
       "'/home/zxt/code/final/2k_new'"
      ]
     },
     "execution_count": 2,
     "metadata": {},
     "output_type": "execute_result"
    }
   ],
   "source": [
    "import os\n",
    "os.getcwd()"
   ]
  },
  {
   "cell_type": "code",
   "execution_count": 3,
   "metadata": {},
   "outputs": [],
   "source": [
    "csv_file = '/home/zxt/data/final/data.csv'\n",
    "csv_data = pd.read_csv(csv_file, low_memory=False)\n",
    "df = pd.DataFrame(csv_data)"
   ]
  },
  {
   "cell_type": "code",
   "execution_count": 4,
   "metadata": {},
   "outputs": [
    {
     "data": {
      "text/plain": [
       "212266"
      ]
     },
     "execution_count": 4,
     "metadata": {},
     "output_type": "execute_result"
    }
   ],
   "source": [
    "len(df)"
   ]
  },
  {
   "cell_type": "code",
   "execution_count": 5,
   "metadata": {},
   "outputs": [],
   "source": [
    "df = df[df['image_id']!='S7_T12_R1_IMAG0179.JPG']"
   ]
  },
  {
   "cell_type": "code",
   "execution_count": 6,
   "metadata": {},
   "outputs": [
    {
     "data": {
      "text/plain": [
       "212265"
      ]
     },
     "execution_count": 6,
     "metadata": {},
     "output_type": "execute_result"
    }
   ],
   "source": [
    "len(df)"
   ]
  },
  {
   "cell_type": "code",
   "execution_count": 7,
   "metadata": {},
   "outputs": [],
   "source": [
    "elephant = df[df['label']=='elephant']\n",
    "wild_boar = df[df['label']=='wild_boar']\n",
    "gazellethomosons = df[df['label']=='gazellethomosons']\n",
    "squirrel = df[df['label']=='squirrel']\n",
    "hedgehog= df[df['label']=='hedgehog']\n",
    "\n",
    "guineafowl = df[df['label']=='guineafowl']\n",
    "moose = df[df['label']=='moose']\n",
    "bobcat = df[df['label']=='bobcat']\n",
    "bird = df[df['label']=='bird']\n",
    "fox = df[df['label']=='fox']\n",
    "\n",
    "giraffe = df[df['label']=='giraffe']\n",
    "buffalo = df[df['label']=='buffalo']\n",
    "hare = df[df['label']=='hare']\n",
    "vehicle = df[df['label']=='vehicle']\n",
    "wildebeest = df[df['label']=='wildebeest']\n",
    "\n",
    "cattle = df[df['label']=='cattle']\n",
    "skunk = df[df['label']=='skunk']\n",
    "lion = df[df['label']=='lion']\n",
    "zebra = df[df['label']=='zebra']\n",
    "black_bear = df[df['label']=='black_bear']"
   ]
  },
  {
   "cell_type": "code",
   "execution_count": 8,
   "metadata": {},
   "outputs": [],
   "source": [
    "elephant_2k = elephant.sample(n=7000,random_state=912,replace=False)\n",
    "wild_boar_2k = wild_boar.sample(n=7000,random_state=912,replace=False)\n",
    "gazellethomosons_2k = gazellethomosons.sample(n=7000,random_state=912,replace=False)\n",
    "squirrel_2k = squirrel.sample(n=7000,random_state=912,replace=False)\n",
    "hedgehog_2k = hedgehog.sample(n=7000,random_state=912,replace=False)\n",
    "\n",
    "guineafowl_2k = guineafowl.sample(n=7000,random_state=912,replace=False)\n",
    "moose_2k = moose.sample(n=7000,random_state=912,replace=False)\n",
    "bobcat_2k = bobcat.sample(n=7000,random_state=912,replace=False)\n",
    "bird_2k = bird.sample(n=7000,random_state=912,replace=False)\n",
    "fox_2k = fox.sample(n=7000,random_state=912,replace=False)\n",
    "\n",
    "giraffe_2k = giraffe.sample(n=7000,random_state=912,replace=False)\n",
    "buffalo_2k = buffalo.sample(n=7000,random_state=912,replace=False)\n",
    "hare_2k = hare.sample(n=7000, random_state=912,replace=False)\n",
    "vehicle_2k = vehicle.sample(n=7000,random_state=912,replace=False)\n",
    "wildebeest_2k = wildebeest.sample(n=7000,random_state=912,replace=False)\n",
    "\n",
    "cattle_2k = cattle.sample(n=7000,random_state=912,replace=False)\n",
    "skunk_2k = skunk.sample(n=7000,random_state=912,replace=False)\n",
    "lion_2k = lion.sample(n=7000,random_state=912,replace=False)\n",
    "zebra_2k = zebra.sample(n=7000,random_state=912,replace=False)\n",
    "black_bear_2k = black_bear.sample(n=7000,random_state=912,replace=False)"
   ]
  },
  {
   "cell_type": "code",
   "execution_count": 9,
   "metadata": {},
   "outputs": [
    {
     "data": {
      "text/plain": [
       "7000"
      ]
     },
     "execution_count": 9,
     "metadata": {},
     "output_type": "execute_result"
    }
   ],
   "source": [
    "len(cattle_2k)"
   ]
  },
  {
   "cell_type": "code",
   "execution_count": 10,
   "metadata": {},
   "outputs": [],
   "source": [
    "df_all = pd.concat([elephant_2k,wild_boar_2k,gazellethomosons_2k,squirrel_2k,hedgehog_2k,guineafowl_2k,moose_2k,bobcat_2k,bird_2k,fox_2k,giraffe_2k,buffalo_2k,hare_2k,vehicle_2k,wildebeest_2k,cattle_2k,skunk_2k,lion_2k,zebra_2k,black_bear_2k ])"
   ]
  },
  {
   "cell_type": "code",
   "execution_count": 11,
   "metadata": {},
   "outputs": [
    {
     "data": {
      "text/plain": [
       "140000"
      ]
     },
     "execution_count": 11,
     "metadata": {},
     "output_type": "execute_result"
    }
   ],
   "source": [
    "len(df_all)"
   ]
  },
  {
   "cell_type": "code",
   "execution_count": 12,
   "metadata": {},
   "outputs": [
    {
     "data": {
      "text/plain": [
       "<matplotlib.axes._subplots.AxesSubplot at 0x7fa055d99f10>"
      ]
     },
     "execution_count": 12,
     "metadata": {},
     "output_type": "execute_result"
    },
    {
     "data": {
      "image/png": "[encoded data removed]",
      "text/plain": [
       "<Figure size 432x288 with 1 Axes>"
      ]
     },
     "metadata": {
      "needs_background": "light"
     },
     "output_type": "display_data"
    }
   ],
   "source": [
    "df_all['label'].value_counts().plot.bar()"
   ]
  },
  {
   "cell_type": "code",
   "execution_count": 13,
   "metadata": {},
   "outputs": [],
   "source": [
    "train_df, validate0_df = train_test_split(df_all, test_size=0.30, random_state=522)\n",
    "train_df = train_df.reset_index(drop=True)\n",
    "validate0_df = validate0_df.reset_index(drop=True)"
   ]
  },
  {
   "cell_type": "code",
   "execution_count": 14,
   "metadata": {},
   "outputs": [],
   "source": [
    "validate_df, test_df = train_test_split(validate0_df, test_size=0.30, random_state=626)\n",
    "validate_df = validate_df.reset_index(drop=True)\n",
    "test_df = test_df.reset_index(drop=True)"
   ]
  },
  {
   "cell_type": "code",
   "execution_count": 15,
   "metadata": {},
   "outputs": [
    {
     "data": {
      "text/plain": [
       "98000"
      ]
     },
     "execution_count": 15,
     "metadata": {},
     "output_type": "execute_result"
    }
   ],
   "source": [
    "len(train_df)"
   ]
  },
  {
   "cell_type": "markdown",
   "metadata": {},
   "source": [
    "### train set"
   ]
  },
  {
   "cell_type": "code",
   "execution_count": 16,
   "metadata": {},
   "outputs": [
    {
     "ename": "MemoryError",
     "evalue": "Unable to allocate array with shape (98000, 128, 128, 3) and data type float64",
     "output_type": "error",
     "traceback": [
      "\u001b[0;31m---------------------------------------------------------------------------\u001b[0m",
      "\u001b[0;31mMemoryError\u001b[0m                               Traceback (most recent call last)",
      "\u001b[0;32m<ipython-input-16-6ce40c2814fd>\u001b[0m in \u001b[0;36m<module>\u001b[0;34m\u001b[0m\n\u001b[1;32m      1\u001b[0m \u001b[0mimglist\u001b[0m \u001b[0;34m=\u001b[0m \u001b[0mtrain_df\u001b[0m\u001b[0;34m[\u001b[0m\u001b[0;34m'image_id'\u001b[0m\u001b[0;34m]\u001b[0m\u001b[0;34m.\u001b[0m\u001b[0mtolist\u001b[0m\u001b[0;34m(\u001b[0m\u001b[0;34m)\u001b[0m\u001b[0;34m\u001b[0m\u001b[0;34m\u001b[0m\u001b[0m\n\u001b[0;32m----> 2\u001b[0;31m \u001b[0mX_train\u001b[0m \u001b[0;34m=\u001b[0m \u001b[0mnp\u001b[0m\u001b[0;34m.\u001b[0m\u001b[0mempty\u001b[0m\u001b[0;34m(\u001b[0m\u001b[0;34m(\u001b[0m\u001b[0mlen\u001b[0m\u001b[0;34m(\u001b[0m\u001b[0mimglist\u001b[0m\u001b[0;34m)\u001b[0m\u001b[0;34m,\u001b[0m\u001b[0;36m128\u001b[0m\u001b[0;34m,\u001b[0m\u001b[0;36m128\u001b[0m\u001b[0;34m,\u001b[0m\u001b[0;36m3\u001b[0m\u001b[0;34m)\u001b[0m\u001b[0;34m)\u001b[0m\u001b[0;34m\u001b[0m\u001b[0;34m\u001b[0m\u001b[0m\n\u001b[0m\u001b[1;32m      3\u001b[0m \u001b[0mX_train\u001b[0m\u001b[0;34m.\u001b[0m\u001b[0mshape\u001b[0m\u001b[0;34m\u001b[0m\u001b[0;34m\u001b[0m\u001b[0m\n",
      "\u001b[0;31mMemoryError\u001b[0m: Unable to allocate array with shape (98000, 128, 128, 3) and data type float64"
     ]
    }
   ],
   "source": [
    "imglist = train_df['image_id'].tolist()\n",
    "X_train = np.empty((len(imglist),128,128,3))\n",
    "X_train.shape"
   ]
  },
  {
   "cell_type": "code",
   "execution_count": 17,
   "metadata": {},
   "outputs": [
    {
     "data": {
      "text/plain": [
       "(98000, 1)"
      ]
     },
     "execution_count": 17,
     "metadata": {},
     "output_type": "execute_result"
    }
   ],
   "source": [
    "Y_train = np.empty((len(imglist),1))\n",
    "Y_train.shape"
   ]
  },
  {
   "cell_type": "code",
   "execution_count": null,
   "metadata": {},
   "outputs": [],
   "source": []
  },
  {
   "cell_type": "code",
   "execution_count": 19,
   "metadata": {},
   "outputs": [
    {
     "name": "stdout",
     "output_type": "stream",
     "text": [
      "Running time: 9122.731010913849 seconds\n"
     ]
    }
   ],
   "source": [
    "start = time()\n",
    "\n",
    "path = '/home/zxt/data/raw_data_all/'\n",
    "count =0\n",
    "nonelist=[]\n",
    "for img_name in imglist:\n",
    "    img_path = path + img_name\n",
    "    try:\n",
    "        img = image.load_img(img_path, target_size=(128,128))\n",
    "        X_train[count]=img\n",
    "        count+=1\n",
    "    except:\n",
    "        nonelist.append(img_path)\n",
    "        \n",
    "end = time()\n",
    "print(\"Running time: %s seconds\"%(end - start))"
   ]
  },
  {
   "cell_type": "code",
   "execution_count": 20,
   "metadata": {},
   "outputs": [
    {
     "data": {
      "text/plain": [
       "0"
      ]
     },
     "execution_count": 20,
     "metadata": {},
     "output_type": "execute_result"
    }
   ],
   "source": [
    "len(nonelist)"
   ]
  },
  {
   "cell_type": "code",
   "execution_count": 21,
   "metadata": {},
   "outputs": [
    {
     "data": {
      "text/plain": [
       "[]"
      ]
     },
     "execution_count": 21,
     "metadata": {},
     "output_type": "execute_result"
    }
   ],
   "source": [
    "nonelist"
   ]
  },
  {
   "cell_type": "code",
   "execution_count": 17,
   "metadata": {},
   "outputs": [],
   "source": [
    "path = '/home/zxt/data/raw_data_all/'"
   ]
  },
  {
   "cell_type": "code",
   "execution_count": null,
   "metadata": {},
   "outputs": [],
   "source": []
  },
  {
   "cell_type": "code",
   "execution_count": 20,
   "metadata": {},
   "outputs": [],
   "source": [
    "# train_df"
   ]
  },
  {
   "cell_type": "code",
   "execution_count": 22,
   "metadata": {},
   "outputs": [
    {
     "data": {
      "text/plain": [
       "(70000, 1)"
      ]
     },
     "execution_count": 22,
     "metadata": {},
     "output_type": "execute_result"
    }
   ],
   "source": [
    "label = train_df['label']\n",
    "Y_train = [i for i in label]\n",
    "Y_train = np.array(Y_train)\n",
    "Y_train = Y_train.reshape(len(Y_train),1)\n",
    "Y_train.shape"
   ]
  },
  {
   "cell_type": "code",
   "execution_count": 23,
   "metadata": {},
   "outputs": [
    {
     "data": {
      "text/plain": [
       "array([['hare'],\n",
       "       ['hedgehog'],\n",
       "       ['fox'],\n",
       "       ...,\n",
       "       ['gazellethomosons'],\n",
       "       ['vehicle'],\n",
       "       ['hare']], dtype='<U16')"
      ]
     },
     "execution_count": 23,
     "metadata": {},
     "output_type": "execute_result"
    }
   ],
   "source": [
    "Y_train"
   ]
  },
  {
   "cell_type": "code",
   "execution_count": 24,
   "metadata": {},
   "outputs": [
    {
     "data": {
      "text/plain": [
       "array([[[  0.,   0.,   0.],\n",
       "        [  0.,   0.,   0.],\n",
       "        [  1.,   1.,   1.],\n",
       "        ...,\n",
       "        [  0.,   0.,   0.],\n",
       "        [  0.,   0.,   0.],\n",
       "        [  0.,   0.,   0.]],\n",
       "\n",
       "       [[  0.,   0.,   0.],\n",
       "        [  0.,   0.,   0.],\n",
       "        [  0.,   0.,   0.],\n",
       "        ...,\n",
       "        [  0.,   0.,   0.],\n",
       "        [  0.,   0.,   0.],\n",
       "        [  0.,   0.,   0.]],\n",
       "\n",
       "       [[  0.,   0.,   0.],\n",
       "        [  0.,   0.,   0.],\n",
       "        [  1.,   1.,   1.],\n",
       "        ...,\n",
       "        [  0.,   0.,   0.],\n",
       "        [  0.,   0.,   0.],\n",
       "        [  0.,   0.,   0.]],\n",
       "\n",
       "       ...,\n",
       "\n",
       "       [[  0.,   0.,   0.],\n",
       "        [  0.,   0.,   0.],\n",
       "        [  0.,   0.,   0.],\n",
       "        ...,\n",
       "        [  0.,   6.,   7.],\n",
       "        [ 14.,   3.,  33.],\n",
       "        [  0.,   0.,   0.]],\n",
       "\n",
       "       [[  0.,   0.,   0.],\n",
       "        [  0.,   0.,   0.],\n",
       "        [  0.,   0.,   0.],\n",
       "        ...,\n",
       "        [ 42.,  84.,   0.],\n",
       "        [ 20.,   0.,  23.],\n",
       "        [  0.,   0.,   0.]],\n",
       "\n",
       "       [[  0.,   0.,   0.],\n",
       "        [  0.,   0.,   0.],\n",
       "        [255., 255., 255.],\n",
       "        ...,\n",
       "        [  0.,   0.,   0.],\n",
       "        [  0.,   0.,   0.],\n",
       "        [  0.,   0.,   0.]]])"
      ]
     },
     "execution_count": 24,
     "metadata": {},
     "output_type": "execute_result"
    }
   ],
   "source": [
    "X_train[0]"
   ]
  },
  {
   "cell_type": "code",
   "execution_count": 25,
   "metadata": {},
   "outputs": [
    {
     "data": {
      "text/plain": [
       "70000"
      ]
     },
     "execution_count": 25,
     "metadata": {},
     "output_type": "execute_result"
    }
   ],
   "source": [
    "len(Y_train)"
   ]
  },
  {
   "cell_type": "code",
   "execution_count": 26,
   "metadata": {},
   "outputs": [
    {
     "data": {
      "text/plain": [
       "70000"
      ]
     },
     "execution_count": 26,
     "metadata": {},
     "output_type": "execute_result"
    }
   ],
   "source": [
    "len(X_train)"
   ]
  },
  {
   "cell_type": "code",
   "execution_count": 27,
   "metadata": {},
   "outputs": [
    {
     "data": {
      "text/plain": [
       "array([['hare'],\n",
       "       ['hedgehog'],\n",
       "       ['fox'],\n",
       "       ...,\n",
       "       ['gazellethomosons'],\n",
       "       ['vehicle'],\n",
       "       ['hare']], dtype='<U16')"
      ]
     },
     "execution_count": 27,
     "metadata": {},
     "output_type": "execute_result"
    }
   ],
   "source": [
    "Y_train"
   ]
  },
  {
   "cell_type": "code",
   "execution_count": 28,
   "metadata": {},
   "outputs": [],
   "source": [
    "np.save('/home/zxt/code/final/5k_new/X_train_128',X_train)\n",
    "np.save('/home/zxt/code/final/5k_new/Y_train_128',Y_train)"
   ]
  },
  {
   "cell_type": "markdown",
   "metadata": {},
   "source": [
    "### validate set"
   ]
  },
  {
   "cell_type": "code",
   "execution_count": 18,
   "metadata": {},
   "outputs": [
    {
     "data": {
      "text/plain": [
       "(21000, 2)"
      ]
     },
     "execution_count": 18,
     "metadata": {},
     "output_type": "execute_result"
    }
   ],
   "source": [
    "validate_df.shape"
   ]
  },
  {
   "cell_type": "code",
   "execution_count": 19,
   "metadata": {},
   "outputs": [
    {
     "data": {
      "text/plain": [
       "(21000, 128, 128, 3)"
      ]
     },
     "execution_count": 19,
     "metadata": {},
     "output_type": "execute_result"
    }
   ],
   "source": [
    "imglist = validate_df['image_id'].tolist()\n",
    "X_validate = np.empty((len(imglist),128,128,3))\n",
    "X_validate.shape"
   ]
  },
  {
   "cell_type": "code",
   "execution_count": 20,
   "metadata": {},
   "outputs": [
    {
     "name": "stdout",
     "output_type": "stream",
     "text": [
      "Running time: 2669.0513768196106 seconds\n"
     ]
    }
   ],
   "source": [
    "start = time()\n",
    "count=0\n",
    "nonelist=[]\n",
    "for img_name in imglist:\n",
    "    img_path = path + img_name\n",
    "    try:\n",
    "        img = image.load_img(img_path, target_size=(128,128))\n",
    "        X_validate[count]=img\n",
    "        count+=1\n",
    "    except:\n",
    "        nonelist.append(img_path)\n",
    "        \n",
    "end = time()\n",
    "print(\"Running time: %s seconds\"%(end - start))"
   ]
  },
  {
   "cell_type": "code",
   "execution_count": 21,
   "metadata": {},
   "outputs": [
    {
     "data": {
      "text/plain": [
       "0"
      ]
     },
     "execution_count": 21,
     "metadata": {},
     "output_type": "execute_result"
    }
   ],
   "source": [
    "len(nonelist)"
   ]
  },
  {
   "cell_type": "code",
   "execution_count": 22,
   "metadata": {},
   "outputs": [
    {
     "data": {
      "text/plain": [
       "[]"
      ]
     },
     "execution_count": 22,
     "metadata": {},
     "output_type": "execute_result"
    }
   ],
   "source": [
    "nonelist"
   ]
  },
  {
   "cell_type": "code",
   "execution_count": 23,
   "metadata": {},
   "outputs": [
    {
     "data": {
      "text/plain": [
       "(21000, 1)"
      ]
     },
     "execution_count": 23,
     "metadata": {},
     "output_type": "execute_result"
    }
   ],
   "source": [
    "label = validate_df['label']\n",
    "Y_validate = [i for i in label]\n",
    "Y_validate = np.array(Y_validate)\n",
    "Y_validate = Y_validate.reshape(len(Y_validate),1)\n",
    "Y_validate.shape"
   ]
  },
  {
   "cell_type": "code",
   "execution_count": 24,
   "metadata": {},
   "outputs": [
    {
     "data": {
      "text/plain": [
       "array([[[253., 244., 239.],\n",
       "        [240., 237., 232.],\n",
       "        [228., 223., 217.],\n",
       "        ...,\n",
       "        [243., 219., 193.],\n",
       "        [244., 227., 201.],\n",
       "        [242., 231., 211.]],\n",
       "\n",
       "       [[250., 245., 241.],\n",
       "        [230., 224., 224.],\n",
       "        [228., 221., 215.],\n",
       "        ...,\n",
       "        [232., 216., 200.],\n",
       "        [245., 230., 209.],\n",
       "        [243., 235., 214.]],\n",
       "\n",
       "       [[242., 234., 231.],\n",
       "        [246., 231., 234.],\n",
       "        [231., 223., 220.],\n",
       "        ...,\n",
       "        [243., 230., 213.],\n",
       "        [241., 229., 213.],\n",
       "        [236., 223., 204.]],\n",
       "\n",
       "       ...,\n",
       "\n",
       "       [[220., 220., 220.],\n",
       "        [ 10.,  10.,  10.],\n",
       "        [221., 221., 221.],\n",
       "        ...,\n",
       "        [220., 220., 220.],\n",
       "        [  0.,   0.,   0.],\n",
       "        [217., 221., 220.]],\n",
       "\n",
       "       [[220., 220., 220.],\n",
       "        [ 10.,  10.,  10.],\n",
       "        [220., 220., 220.],\n",
       "        ...,\n",
       "        [210., 210., 210.],\n",
       "        [219., 219., 219.],\n",
       "        [221., 219., 220.]],\n",
       "\n",
       "       [[223., 217., 219.],\n",
       "        [223., 220., 227.],\n",
       "        [221., 221., 221.],\n",
       "        ...,\n",
       "        [219., 220., 222.],\n",
       "        [218., 220., 219.],\n",
       "        [222., 220., 221.]]])"
      ]
     },
     "execution_count": 24,
     "metadata": {},
     "output_type": "execute_result"
    }
   ],
   "source": [
    "X_validate[0]"
   ]
  },
  {
   "cell_type": "code",
   "execution_count": 25,
   "metadata": {},
   "outputs": [
    {
     "data": {
      "text/plain": [
       "array([['lion'],\n",
       "       ['bird'],\n",
       "       ['bird'],\n",
       "       ...,\n",
       "       ['guineafowl'],\n",
       "       ['gazellethomosons'],\n",
       "       ['buffalo']], dtype='<U16')"
      ]
     },
     "execution_count": 25,
     "metadata": {},
     "output_type": "execute_result"
    }
   ],
   "source": [
    "Y_validate"
   ]
  },
  {
   "cell_type": "code",
   "execution_count": 26,
   "metadata": {},
   "outputs": [],
   "source": [
    "np.save('/home/zxt/code/final/5k_new/X_validate_128',X_validate)\n",
    "np.save('/home/zxt/code/final/5k_new/Y_validate_128',Y_validate)"
   ]
  },
  {
   "cell_type": "markdown",
   "metadata": {},
   "source": [
    "### test set"
   ]
  },
  {
   "cell_type": "code",
   "execution_count": 27,
   "metadata": {},
   "outputs": [
    {
     "data": {
      "text/plain": [
       "(9000, 128, 128, 3)"
      ]
     },
     "execution_count": 27,
     "metadata": {},
     "output_type": "execute_result"
    }
   ],
   "source": [
    "imglist = test_df['image_id'].tolist()\n",
    "X_test = np.empty((len(imglist),128,128,3))\n",
    "X_test.shape"
   ]
  },
  {
   "cell_type": "code",
   "execution_count": 28,
   "metadata": {},
   "outputs": [
    {
     "name": "stdout",
     "output_type": "stream",
     "text": [
      "Runing time: 1138.7347638607025 seconds\n"
     ]
    }
   ],
   "source": [
    "start=time()\n",
    "\n",
    "count=0\n",
    "nonelist=[]\n",
    "for img_name in imglist:\n",
    "    img_path = path + img_name\n",
    "    try:\n",
    "        img = image.load_img(img_path, target_size=(128,128))\n",
    "        X_test[count]=img\n",
    "        count+=1\n",
    "    except:\n",
    "        nonelist.append(img_path)\n",
    "        \n",
    "end=time()\n",
    "print(\"Runing time: %s seconds\"%(end-start))"
   ]
  },
  {
   "cell_type": "code",
   "execution_count": 29,
   "metadata": {},
   "outputs": [
    {
     "data": {
      "text/plain": [
       "0"
      ]
     },
     "execution_count": 29,
     "metadata": {},
     "output_type": "execute_result"
    }
   ],
   "source": [
    "len(nonelist)"
   ]
  },
  {
   "cell_type": "code",
   "execution_count": 30,
   "metadata": {},
   "outputs": [
    {
     "data": {
      "text/plain": [
       "[]"
      ]
     },
     "execution_count": 30,
     "metadata": {},
     "output_type": "execute_result"
    }
   ],
   "source": [
    "nonelist"
   ]
  },
  {
   "cell_type": "code",
   "execution_count": 37,
   "metadata": {},
   "outputs": [
    {
     "data": {
      "text/plain": [
       "(9000, 1)"
      ]
     },
     "execution_count": 37,
     "metadata": {},
     "output_type": "execute_result"
    }
   ],
   "source": [
    "label = test_df['label']\n",
    "Y_test = [i for i in label]\n",
    "Y_test = np.array(Y_test)\n",
    "Y_test = Y_test.reshape(len(Y_test),1)\n",
    "Y_test.shape"
   ]
  },
  {
   "cell_type": "code",
   "execution_count": 38,
   "metadata": {},
   "outputs": [
    {
     "data": {
      "text/html": [
       "<div>\n",
       "<style scoped>\n",
       "    .dataframe tbody tr th:only-of-type {\n",
       "        vertical-align: middle;\n",
       "    }\n",
       "\n",
       "    .dataframe tbody tr th {\n",
       "        vertical-align: top;\n",
       "    }\n",
       "\n",
       "    .dataframe thead th {\n",
       "        text-align: right;\n",
       "    }\n",
       "</style>\n",
       "<table border=\"1\" class=\"dataframe\">\n",
       "  <thead>\n",
       "    <tr style=\"text-align: right;\">\n",
       "      <th></th>\n",
       "      <th>image_id</th>\n",
       "      <th>label</th>\n",
       "    </tr>\n",
       "  </thead>\n",
       "  <tbody>\n",
       "    <tr>\n",
       "      <td>0</td>\n",
       "      <td>CA-26_08_17_2015_CA-26_0005157.jpg</td>\n",
       "      <td>fox</td>\n",
       "    </tr>\n",
       "    <tr>\n",
       "      <td>1</td>\n",
       "      <td>CA-02_09_15_2015_CA-02_0009674.jpg</td>\n",
       "      <td>black_bear</td>\n",
       "    </tr>\n",
       "  </tbody>\n",
       "</table>\n",
       "</div>"
      ],
      "text/plain": [
       "                             image_id       label\n",
       "0  CA-26_08_17_2015_CA-26_0005157.jpg         fox\n",
       "1  CA-02_09_15_2015_CA-02_0009674.jpg  black_bear"
      ]
     },
     "execution_count": 38,
     "metadata": {},
     "output_type": "execute_result"
    }
   ],
   "source": [
    "test_df[:2]"
   ]
  },
  {
   "cell_type": "code",
   "execution_count": 39,
   "metadata": {},
   "outputs": [
    {
     "data": {
      "text/plain": [
       "array([['fox'],\n",
       "       ['black_bear']], dtype='<U16')"
      ]
     },
     "execution_count": 39,
     "metadata": {},
     "output_type": "execute_result"
    }
   ],
   "source": [
    "Y_test[:2]"
   ]
  },
  {
   "cell_type": "code",
   "execution_count": 40,
   "metadata": {},
   "outputs": [
    {
     "data": {
      "text/plain": [
       "array([[[  0.,   0.,   0.],\n",
       "        [  0.,   0.,   0.],\n",
       "        [  1.,   1.,   1.],\n",
       "        ...,\n",
       "        [  0.,   0.,   0.],\n",
       "        [  0.,   0.,   0.],\n",
       "        [  0.,   0.,   0.]],\n",
       "\n",
       "       [[  0.,   0.,   0.],\n",
       "        [  0.,   0.,   0.],\n",
       "        [  0.,   0.,   0.],\n",
       "        ...,\n",
       "        [  0.,   0.,   0.],\n",
       "        [  0.,   0.,   0.],\n",
       "        [  0.,   0.,   0.]],\n",
       "\n",
       "       [[  0.,   0.,   0.],\n",
       "        [  0.,   0.,   0.],\n",
       "        [  1.,   1.,   1.],\n",
       "        ...,\n",
       "        [  0.,   0.,   0.],\n",
       "        [  0.,   0.,   0.],\n",
       "        [  0.,   0.,   0.]],\n",
       "\n",
       "       ...,\n",
       "\n",
       "       [[  0.,   0.,   0.],\n",
       "        [  0.,   0.,   0.],\n",
       "        [  0.,   0.,   0.],\n",
       "        ...,\n",
       "        [  0.,   6.,   7.],\n",
       "        [ 14.,   3.,  33.],\n",
       "        [  0.,   0.,   0.]],\n",
       "\n",
       "       [[  0.,   0.,   0.],\n",
       "        [  0.,   0.,   0.],\n",
       "        [255., 255., 255.],\n",
       "        ...,\n",
       "        [ 42.,  84.,   0.],\n",
       "        [ 20.,   0.,  23.],\n",
       "        [  0.,   0.,   0.]],\n",
       "\n",
       "       [[  0.,   0.,   0.],\n",
       "        [  0.,   0.,   0.],\n",
       "        [  0.,   0.,   0.],\n",
       "        ...,\n",
       "        [  0.,   0.,   0.],\n",
       "        [  0.,   0.,   0.],\n",
       "        [  0.,   0.,   0.]]])"
      ]
     },
     "execution_count": 40,
     "metadata": {},
     "output_type": "execute_result"
    }
   ],
   "source": [
    "X_test[0]"
   ]
  },
  {
   "cell_type": "code",
   "execution_count": 41,
   "metadata": {},
   "outputs": [
    {
     "data": {
      "text/plain": [
       "array([['fox'],\n",
       "       ['black_bear'],\n",
       "       ['cattle'],\n",
       "       ...,\n",
       "       ['gazellethomosons'],\n",
       "       ['zebra'],\n",
       "       ['elephant']], dtype='<U16')"
      ]
     },
     "execution_count": 41,
     "metadata": {},
     "output_type": "execute_result"
    }
   ],
   "source": [
    "Y_test"
   ]
  },
  {
   "cell_type": "code",
   "execution_count": 42,
   "metadata": {},
   "outputs": [],
   "source": [
    "np.save('/home/zxt/code/final/5k_new/X_test_128',X_test)\n",
    "np.save('/home/zxt/code/final/5k_new/Y_test_128',Y_test)"
   ]
  },
  {
   "cell_type": "code",
   "execution_count": null,
   "metadata": {},
   "outputs": [],
   "source": []
  },
  {
   "cell_type": "code",
   "execution_count": null,
   "metadata": {},
   "outputs": [],
   "source": []
  },
  {
   "cell_type": "code",
   "execution_count": null,
   "metadata": {},
   "outputs": [],
   "source": []
  },
  {
   "cell_type": "code",
   "execution_count": null,
   "metadata": {},
   "outputs": [],
   "source": []
  },
  {
   "cell_type": "code",
   "execution_count": null,
   "metadata": {},
   "outputs": [],
   "source": []
  }
 ],
 "metadata": {
  "kernelspec": {
   "display_name": "Python 3",
   "language": "python",
   "name": "python3"
  },
  "language_info": {
   "codemirror_mode": {
    "name": "ipython",
    "version": 3
   },
   "file_extension": ".py",
   "mimetype": "text/x-python",
   "name": "python",
   "nbconvert_exporter": "python",
   "pygments_lexer": "ipython3",
   "version": "3.7.4"
  }
 },
 "nbformat": 4,
 "nbformat_minor": 4
}
