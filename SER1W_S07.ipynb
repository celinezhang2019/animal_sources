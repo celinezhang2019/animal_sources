{
 "cells": [
  {
   "cell_type": "markdown",
   "metadata": {},
   "source": [
    "### S07 1W"
   ]
  },
  {
   "cell_type": "code",
   "execution_count": 2,
   "metadata": {},
   "outputs": [],
   "source": [
    "path = '/home/zxt/data/S07/'"
   ]
  },
  {
   "cell_type": "code",
   "execution_count": 4,
   "metadata": {},
   "outputs": [],
   "source": [
    "import random, os, shutil,json\n",
    "\n",
    "animal_1w = [15,11,13,21,39,17]\n",
    "label_dict = {15:[],11:[],13:[],21:[],39:[],17:[]}"
   ]
  },
  {
   "cell_type": "code",
   "execution_count": 5,
   "metadata": {},
   "outputs": [],
   "source": [
    "train_file = '/home/zxt/data/S07.json'\n",
    "\n",
    "with open(train_file) as data_file:\n",
    "    train_anns = json.load(data_file)\n",
    "\n",
    "    for i in train_anns['annotations']:   \n",
    "        if i['category_id'] in animal_1w:\n",
    "            label_dict[i['category_id']].append(i['image_id']+'.JPG')"
   ]
  },
  {
   "cell_type": "code",
   "execution_count": 6,
   "metadata": {},
   "outputs": [
    {
     "data": {
      "text/plain": [
       "'S7/B03/B03_R1/S7_B03_R1_IMAG0063.JPG'"
      ]
     },
     "execution_count": 6,
     "metadata": {},
     "output_type": "execute_result"
    }
   ],
   "source": [
    "label_dict[15][0]"
   ]
  },
  {
   "cell_type": "code",
   "execution_count": 7,
   "metadata": {},
   "outputs": [
    {
     "data": {
      "text/plain": [
       "{'sequence_level_annotation': True,\n",
       " 'id': '362f51f6-955a-11e9-aeb3-000d3a198845',\n",
       " 'category_id': 1,\n",
       " 'seq_id': 'SER_S7#B03#1#1',\n",
       " 'season': 'S7',\n",
       " 'datetime': '2013-04-08 10:24:22',\n",
       " 'subject_id': 'ASG0017azi',\n",
       " 'count': '1',\n",
       " 'standing': 0.59,\n",
       " 'resting': 0.09,\n",
       " 'moving': 0.0,\n",
       " 'interacting': 0.32,\n",
       " 'young_present': 0.0,\n",
       " 'image_id': 'S7/B03/B03_R1/S7_B03_R1_IMAG0001',\n",
       " 'location': 'B03'}"
      ]
     },
     "execution_count": 7,
     "metadata": {},
     "output_type": "execute_result"
    }
   ],
   "source": [
    "train_anns['annotations'][0]"
   ]
  },
  {
   "cell_type": "code",
   "execution_count": 8,
   "metadata": {},
   "outputs": [
    {
     "name": "stdout",
     "output_type": "stream",
     "text": [
      "15: 5781\n",
      "11: 8353\n",
      "13: 6169\n",
      "21: 965\n",
      "39: 666\n",
      "17: 2226\n"
     ]
    }
   ],
   "source": [
    "print('15: '+str(len(label_dict[15])))\n",
    "print('11: '+str(len(label_dict[11])))\n",
    "print('13: '+str(len(label_dict[13])))\n",
    "print('21: '+str(len(label_dict[21])))\n",
    "print('39: '+str(len(label_dict[39])))\n",
    "print('17: '+str(len(label_dict[17])))"
   ]
  },
  {
   "cell_type": "code",
   "execution_count": 9,
   "metadata": {},
   "outputs": [],
   "source": [
    "all_15 = label_dict[15]\n",
    "all_11 = label_dict[11]\n",
    "all_13 = label_dict[13]\n",
    "all_21 = label_dict[21]\n",
    "all_39 = label_dict[39]\n",
    "all_17 = label_dict[17]"
   ]
  },
  {
   "cell_type": "code",
   "execution_count": 10,
   "metadata": {},
   "outputs": [],
   "source": [
    "all_S07 = all_15+all_11+all_13+all_21+all_39+all_17"
   ]
  },
  {
   "cell_type": "code",
   "execution_count": 11,
   "metadata": {},
   "outputs": [
    {
     "data": {
      "text/plain": [
       "24160"
      ]
     },
     "execution_count": 11,
     "metadata": {},
     "output_type": "execute_result"
    }
   ],
   "source": [
    "len(all_S07)"
   ]
  },
  {
   "cell_type": "markdown",
   "metadata": {},
   "source": [
    "### CHECK DUPLICATION"
   ]
  },
  {
   "cell_type": "code",
   "execution_count": 12,
   "metadata": {},
   "outputs": [],
   "source": [
    "# check if any duplicated value:\n",
    "from collections import Counter\n",
    "b = dict(Counter(all_S07))\n",
    "# print ([key for key,value in b.items()if value > 1])\n",
    "duplicated_image = [key for key,value in b.items()if value > 1]\n",
    "# print ({key:value for key,value in b.items()if value > 1})"
   ]
  },
  {
   "cell_type": "code",
   "execution_count": 13,
   "metadata": {},
   "outputs": [
    {
     "data": {
      "text/plain": [
       "51"
      ]
     },
     "execution_count": 13,
     "metadata": {},
     "output_type": "execute_result"
    }
   ],
   "source": [
    "len(duplicated_image)"
   ]
  },
  {
   "cell_type": "markdown",
   "metadata": {},
   "source": [
    "### DELETE DUPLICATION"
   ]
  },
  {
   "cell_type": "code",
   "execution_count": 14,
   "metadata": {},
   "outputs": [],
   "source": [
    "all_S07_nodup =list(set(all_S07).difference(set(duplicated_image)))"
   ]
  },
  {
   "cell_type": "code",
   "execution_count": 15,
   "metadata": {},
   "outputs": [
    {
     "data": {
      "text/plain": [
       "24058"
      ]
     },
     "execution_count": 15,
     "metadata": {},
     "output_type": "execute_result"
    }
   ],
   "source": [
    "len(all_S07_nodup)"
   ]
  },
  {
   "cell_type": "code",
   "execution_count": 16,
   "metadata": {},
   "outputs": [
    {
     "data": {
      "text/plain": [
       "'S7/O11/O11_R1/S7_O11_R1_IMAG0316.JPG'"
      ]
     },
     "execution_count": 16,
     "metadata": {},
     "output_type": "execute_result"
    }
   ],
   "source": [
    "all_S07_nodup[0]"
   ]
  },
  {
   "cell_type": "code",
   "execution_count": 17,
   "metadata": {},
   "outputs": [],
   "source": [
    "Filelist = []\n",
    "for i in all_S07_nodup:\n",
    "    Filelist.append(path+i)"
   ]
  },
  {
   "cell_type": "code",
   "execution_count": 18,
   "metadata": {},
   "outputs": [
    {
     "data": {
      "text/plain": [
       "'/home/zxt/data/S07/S7/O11/O11_R1/S7_O11_R1_IMAG0316.JPG'"
      ]
     },
     "execution_count": 18,
     "metadata": {},
     "output_type": "execute_result"
    }
   ],
   "source": [
    "Filelist[0]"
   ]
  },
  {
   "cell_type": "code",
   "execution_count": 19,
   "metadata": {},
   "outputs": [
    {
     "data": {
      "text/plain": [
       "24058"
      ]
     },
     "execution_count": 19,
     "metadata": {},
     "output_type": "execute_result"
    }
   ],
   "source": [
    "len(Filelist)"
   ]
  },
  {
   "cell_type": "code",
   "execution_count": 22,
   "metadata": {},
   "outputs": [
    {
     "name": "stdout",
     "output_type": "stream",
     "text": [
      "Total 24028 images copied into the folder.\n",
      "There are 30 images in json but not exist in images\n"
     ]
    }
   ],
   "source": [
    "import shutil\n",
    "target_path = '/home/zxt/data/SER1W_S07/'\n",
    "\n",
    "nonelist = []\n",
    "count = 0\n",
    "for i in Filelist:\n",
    "    try:\n",
    "        shutil.copy(i, target_path)\n",
    "        count+=1\n",
    "    except:\n",
    "        nonelist.append(i)\n",
    "        \n",
    "print('Total '+str(count)+' images copied into the folder.')\n",
    "print('There are '+str(len(nonelist))+ ' images in json but not exist in images')"
   ]
  },
  {
   "cell_type": "code",
   "execution_count": null,
   "metadata": {},
   "outputs": [],
   "source": []
  },
  {
   "cell_type": "code",
   "execution_count": null,
   "metadata": {},
   "outputs": [],
   "source": []
  },
  {
   "cell_type": "code",
   "execution_count": null,
   "metadata": {},
   "outputs": [],
   "source": []
  },
  {
   "cell_type": "code",
   "execution_count": null,
   "metadata": {},
   "outputs": [],
   "source": []
  },
  {
   "cell_type": "code",
   "execution_count": null,
   "metadata": {},
   "outputs": [],
   "source": []
  },
  {
   "cell_type": "code",
   "execution_count": null,
   "metadata": {},
   "outputs": [],
   "source": []
  },
  {
   "cell_type": "code",
   "execution_count": null,
   "metadata": {},
   "outputs": [],
   "source": []
  },
  {
   "cell_type": "code",
   "execution_count": null,
   "metadata": {},
   "outputs": [],
   "source": []
  }
 ],
 "metadata": {
  "kernelspec": {
   "display_name": "Python 3",
   "language": "python",
   "name": "python3"
  },
  "language_info": {
   "codemirror_mode": {
    "name": "ipython",
    "version": 3
   },
   "file_extension": ".py",
   "mimetype": "text/x-python",
   "name": "python",
   "nbconvert_exporter": "python",
   "pygments_lexer": "ipython3",
   "version": "3.7.4"
  }
 },
 "nbformat": 4,
 "nbformat_minor": 4
}
