{
 "cells": [
  {
   "cell_type": "markdown",
   "metadata": {},
   "source": [
    "## data pre 5k (32,32,3)"
   ]
  },
  {
   "cell_type": "code",
   "execution_count": 1,
   "metadata": {},
   "outputs": [],
   "source": [
    "import json,pandas as pd, numpy as np, os,csv,random\n",
    "import matplotlib.pyplot as plt\n",
    "from sklearn.model_selection import train_test_split\n",
    "import csv\n",
    "import numpy as np\n",
    "import pandas as pd\n",
    "import os\n",
    "import matplotlib.pyplot as plt\n",
    "from sklearn.model_selection import train_test_split\n",
    "from tensorflow.keras.preprocessing import image"
   ]
  },
  {
   "cell_type": "code",
   "execution_count": 2,
   "metadata": {},
   "outputs": [],
   "source": [
    "path = '/home/zxt/data/raw_data_all/'"
   ]
  },
  {
   "cell_type": "code",
   "execution_count": 3,
   "metadata": {},
   "outputs": [],
   "source": [
    "label_dict_all = pd.read_csv('/home/zxt/data/df_dict.csv')"
   ]
  },
  {
   "cell_type": "code",
   "execution_count": 4,
   "metadata": {},
   "outputs": [
    {
     "data": {
      "text/html": [
       "<div>\n",
       "<style scoped>\n",
       "    .dataframe tbody tr th:only-of-type {\n",
       "        vertical-align: middle;\n",
       "    }\n",
       "\n",
       "    .dataframe tbody tr th {\n",
       "        vertical-align: top;\n",
       "    }\n",
       "\n",
       "    .dataframe thead th {\n",
       "        text-align: right;\n",
       "    }\n",
       "</style>\n",
       "<table border=\"1\" class=\"dataframe\">\n",
       "  <thead>\n",
       "    <tr style=\"text-align: right;\">\n",
       "      <th></th>\n",
       "      <th>cattle</th>\n",
       "      <th>wild_boar</th>\n",
       "      <th>elk</th>\n",
       "      <th>mule_deer</th>\n",
       "      <th>black_bear</th>\n",
       "      <th>bird</th>\n",
       "      <th>squirrel</th>\n",
       "      <th>bobcat</th>\n",
       "      <th>hare</th>\n",
       "      <th>lion</th>\n",
       "      <th>...</th>\n",
       "      <th>moose</th>\n",
       "      <th>vehicle</th>\n",
       "      <th>hedgehog</th>\n",
       "      <th>zebra</th>\n",
       "      <th>wildebeest</th>\n",
       "      <th>gazellethomosons</th>\n",
       "      <th>buffalo</th>\n",
       "      <th>elephant</th>\n",
       "      <th>guineafowl</th>\n",
       "      <th>giraffe</th>\n",
       "    </tr>\n",
       "  </thead>\n",
       "  <tbody>\n",
       "    <tr>\n",
       "      <td>0</td>\n",
       "      <td>['58f73f1e-23d2-11e8-a6a3-ec086b02610b.jpg', '...</td>\n",
       "      <td>['CA-06_08_04_2015_CA-06_0006826.jpg', 'FL-14_...</td>\n",
       "      <td>['2016_Unit189_Ivan020_img0190.jpg', '2010_Uni...</td>\n",
       "      <td>['2016_Unit189_Ivan020_img0190.jpg', '2010_Uni...</td>\n",
       "      <td>['CA-18_11_08_2016_CA-18_0040729.JPG', 'CA-42_...</td>\n",
       "      <td>['593bdc52-23d2-11e8-a6a3-ec086b02610b.jpg', '...</td>\n",
       "      <td>['5865e37e-23d2-11e8-a6a3-ec086b02610b.jpg', '...</td>\n",
       "      <td>['58d61304-23d2-11e8-a6a3-ec086b02610b.jpg', '...</td>\n",
       "      <td>['2010_Unit175_Ivan037_img0078.jpg', '2010_Uni...</td>\n",
       "      <td>['S6_B06_R1_IMAG0115.JPG', 'S6_B06_R2_IMAG0343...</td>\n",
       "      <td>...</td>\n",
       "      <td>['2010_Unit162_Ivan119_img0147.jpg', '2010_Uni...</td>\n",
       "      <td>['58e5992e-23d2-11e8-a6a3-ec086b02610b.jpg', '...</td>\n",
       "      <td>['260316223310046b0153.JPG', '1003150429061096...</td>\n",
       "      <td>['S10_B03_R1_IMAG0531.JPG', 'S10_B03_R1_IMAG06...</td>\n",
       "      <td>['S10_B03_R1_IMAG0755.JPG', 'S10_B03_R1_IMAG07...</td>\n",
       "      <td>['S10_B04_R2_IMAG0035.JPG', 'S10_B04_R2_IMAG00...</td>\n",
       "      <td>['S7_B03_R1_IMAG0063.JPG', 'S7_B03_R1_IMAG0064...</td>\n",
       "      <td>['S7_B03_R1_IMAG0072.JPG', 'S7_B03_R1_IMAG0073...</td>\n",
       "      <td>['S6_B05_R1_IMAG0011.JPG', 'S6_B05_R1_IMAG0012...</td>\n",
       "      <td>['S7_B03_R2_IMAG0990.JPG', 'S7_B03_R2_IMAG0991...</td>\n",
       "    </tr>\n",
       "  </tbody>\n",
       "</table>\n",
       "<p>1 rows × 22 columns</p>\n",
       "</div>"
      ],
      "text/plain": [
       "                                              cattle  \\\n",
       "0  ['58f73f1e-23d2-11e8-a6a3-ec086b02610b.jpg', '...   \n",
       "\n",
       "                                           wild_boar  \\\n",
       "0  ['CA-06_08_04_2015_CA-06_0006826.jpg', 'FL-14_...   \n",
       "\n",
       "                                                 elk  \\\n",
       "0  ['2016_Unit189_Ivan020_img0190.jpg', '2010_Uni...   \n",
       "\n",
       "                                           mule_deer  \\\n",
       "0  ['2016_Unit189_Ivan020_img0190.jpg', '2010_Uni...   \n",
       "\n",
       "                                          black_bear  \\\n",
       "0  ['CA-18_11_08_2016_CA-18_0040729.JPG', 'CA-42_...   \n",
       "\n",
       "                                                bird  \\\n",
       "0  ['593bdc52-23d2-11e8-a6a3-ec086b02610b.jpg', '...   \n",
       "\n",
       "                                            squirrel  \\\n",
       "0  ['5865e37e-23d2-11e8-a6a3-ec086b02610b.jpg', '...   \n",
       "\n",
       "                                              bobcat  \\\n",
       "0  ['58d61304-23d2-11e8-a6a3-ec086b02610b.jpg', '...   \n",
       "\n",
       "                                                hare  \\\n",
       "0  ['2010_Unit175_Ivan037_img0078.jpg', '2010_Uni...   \n",
       "\n",
       "                                                lion  ...  \\\n",
       "0  ['S6_B06_R1_IMAG0115.JPG', 'S6_B06_R2_IMAG0343...  ...   \n",
       "\n",
       "                                               moose  \\\n",
       "0  ['2010_Unit162_Ivan119_img0147.jpg', '2010_Uni...   \n",
       "\n",
       "                                             vehicle  \\\n",
       "0  ['58e5992e-23d2-11e8-a6a3-ec086b02610b.jpg', '...   \n",
       "\n",
       "                                            hedgehog  \\\n",
       "0  ['260316223310046b0153.JPG', '1003150429061096...   \n",
       "\n",
       "                                               zebra  \\\n",
       "0  ['S10_B03_R1_IMAG0531.JPG', 'S10_B03_R1_IMAG06...   \n",
       "\n",
       "                                          wildebeest  \\\n",
       "0  ['S10_B03_R1_IMAG0755.JPG', 'S10_B03_R1_IMAG07...   \n",
       "\n",
       "                                    gazellethomosons  \\\n",
       "0  ['S10_B04_R2_IMAG0035.JPG', 'S10_B04_R2_IMAG00...   \n",
       "\n",
       "                                             buffalo  \\\n",
       "0  ['S7_B03_R1_IMAG0063.JPG', 'S7_B03_R1_IMAG0064...   \n",
       "\n",
       "                                            elephant  \\\n",
       "0  ['S7_B03_R1_IMAG0072.JPG', 'S7_B03_R1_IMAG0073...   \n",
       "\n",
       "                                          guineafowl  \\\n",
       "0  ['S6_B05_R1_IMAG0011.JPG', 'S6_B05_R1_IMAG0012...   \n",
       "\n",
       "                                             giraffe  \n",
       "0  ['S7_B03_R2_IMAG0990.JPG', 'S7_B03_R2_IMAG0991...  \n",
       "\n",
       "[1 rows x 22 columns]"
      ]
     },
     "execution_count": 4,
     "metadata": {},
     "output_type": "execute_result"
    }
   ],
   "source": [
    "label_dict_all"
   ]
  },
  {
   "cell_type": "code",
   "execution_count": 5,
   "metadata": {},
   "outputs": [
    {
     "data": {
      "text/plain": [
       "str"
      ]
     },
     "execution_count": 5,
     "metadata": {},
     "output_type": "execute_result"
    }
   ],
   "source": [
    "type(label_dict_all['cattle'][0])"
   ]
  },
  {
   "cell_type": "code",
   "execution_count": 6,
   "metadata": {},
   "outputs": [],
   "source": [
    "cattle = eval(label_dict_all['cattle'][0])"
   ]
  },
  {
   "cell_type": "code",
   "execution_count": 7,
   "metadata": {},
   "outputs": [
    {
     "data": {
      "text/plain": [
       "['58f73f1e-23d2-11e8-a6a3-ec086b02610b.jpg',\n",
       " '587b7ced-23d2-11e8-a6a3-ec086b02610b.jpg']"
      ]
     },
     "execution_count": 7,
     "metadata": {},
     "output_type": "execute_result"
    }
   ],
   "source": [
    "cattle[0:2]"
   ]
  },
  {
   "cell_type": "code",
   "execution_count": 8,
   "metadata": {},
   "outputs": [
    {
     "data": {
      "text/plain": [
       "Index(['cattle', 'wild_boar', 'elk', 'mule_deer', 'black_bear', 'bird',\n",
       "       'squirrel', 'bobcat', 'hare', 'lion', 'fox', 'skunk', 'moose',\n",
       "       'vehicle', 'hedgehog', 'zebra', 'wildebeest', 'gazellethomosons',\n",
       "       'buffalo', 'elephant', 'guineafowl', 'giraffe'],\n",
       "      dtype='object')"
      ]
     },
     "execution_count": 8,
     "metadata": {},
     "output_type": "execute_result"
    }
   ],
   "source": [
    "label_dict_all.columns"
   ]
  },
  {
   "cell_type": "code",
   "execution_count": 9,
   "metadata": {},
   "outputs": [
    {
     "data": {
      "text/plain": [
       "(1, 22)"
      ]
     },
     "execution_count": 9,
     "metadata": {},
     "output_type": "execute_result"
    }
   ],
   "source": [
    "label_dict_all.shape"
   ]
  },
  {
   "cell_type": "code",
   "execution_count": 10,
   "metadata": {},
   "outputs": [],
   "source": [
    "cattle = eval(label_dict_all['cattle'][0])\n",
    "wild_boar = eval(label_dict_all['wild_boar'][0])\n",
    "elk = eval(label_dict_all['elk'][0])\n",
    "mule_deer = eval(label_dict_all['mule_deer'][0])\n",
    "black_bear = eval(label_dict_all['black_bear'][0])\n",
    "\n",
    "bird = eval(label_dict_all['bird'][0])\n",
    "squirrel = eval(label_dict_all['squirrel'][0])\n",
    "bobcat = eval(label_dict_all['bobcat'][0])\n",
    "hare = eval(label_dict_all['hare'][0])\n",
    "lion = eval(label_dict_all['lion'][0])\n",
    "\n",
    "fox = eval(label_dict_all['fox'][0])\n",
    "skunk = eval(label_dict_all['skunk'][0])\n",
    "moose = eval(label_dict_all['moose'][0])\n",
    "vehicle = eval(label_dict_all['vehicle'][0])\n",
    "hedgehog = eval(label_dict_all['hedgehog'][0])\n",
    "\n",
    "zebra = eval(label_dict_all['zebra'][0])\n",
    "wildebeest = eval(label_dict_all['wildebeest'][0])\n",
    "gazellethomosons = eval(label_dict_all['gazellethomosons'][0])\n",
    "buffalo = eval(label_dict_all['buffalo'][0])\n",
    "elephant = eval(label_dict_all['elephant'][0])\n",
    "\n",
    "guineafowl = eval(label_dict_all['guineafowl'][0])\n",
    "giraffe = eval(label_dict_all['giraffe'][0])"
   ]
  },
  {
   "cell_type": "code",
   "execution_count": 11,
   "metadata": {},
   "outputs": [],
   "source": [
    "random.seed(912)\n",
    "cattle_2k = random.sample(cattle,5000)\n",
    "wild_boar_2k = random.sample(wild_boar,5000)\n",
    "elk_2k = random.sample(elk,5000)\n",
    "mule_deer_2k = random.sample(mule_deer,5000)\n",
    "black_bear_2k = random.sample(black_bear,5000)\n",
    "bird_2k = random.sample(bird,5000)\n",
    "squirrel_2k = random.sample(squirrel,5000)\n",
    "bobcat_2k = random.sample(bobcat,5000)\n",
    "hare_2k = random.sample(hare,5000)\n",
    "lion_2k = random.sample(lion,5000)\n",
    "fox_2k = random.sample(fox,5000)\n",
    "skunk_2k = random.sample(skunk,5000)\n",
    "moose_2k = random.sample(moose,5000)\n",
    "vehicle_2k = random.sample(vehicle,5000)\n",
    "hedgehog_2k = random.sample(hedgehog,5000)\n",
    "zebra_2k = random.sample(zebra,5000)\n",
    "wildebeest_2k = random.sample(wildebeest,5000)\n",
    "gazellethomosons_2k = random.sample(gazellethomosons,5000)\n",
    "buffalo_2k = random.sample(buffalo,5000)\n",
    "elephant_2k = random.sample(elephant,5000)\n",
    "guineafowl_2k = random.sample(guineafowl,5000)\n",
    "giraffe_2k = random.sample(giraffe,5000)"
   ]
  },
  {
   "cell_type": "code",
   "execution_count": 12,
   "metadata": {},
   "outputs": [],
   "source": [
    "df1 = pd.DataFrame(cattle_2k, columns=['image_id'])\n",
    "df2 = pd.DataFrame(wild_boar_2k, columns=['image_id'])\n",
    "df3 = pd.DataFrame(elk_2k, columns=['image_id'])\n",
    "df4 = pd.DataFrame(mule_deer_2k, columns=['image_id'])\n",
    "df5 = pd.DataFrame(black_bear_2k, columns=['image_id'])\n",
    "\n",
    "df6 = pd.DataFrame(bird_2k, columns=['image_id'])\n",
    "df7 = pd.DataFrame(squirrel_2k, columns=['image_id'])\n",
    "df8 = pd.DataFrame(bobcat_2k, columns=['image_id'])\n",
    "df9 = pd.DataFrame(hare_2k, columns=['image_id'])\n",
    "df10 = pd.DataFrame(lion_2k, columns=['image_id'])\n",
    "\n",
    "df11 = pd.DataFrame(fox_2k, columns=['image_id'])\n",
    "df12 = pd.DataFrame(skunk_2k, columns=['image_id'])\n",
    "df13 = pd.DataFrame(moose_2k, columns=['image_id'])\n",
    "df14 = pd.DataFrame(vehicle_2k, columns=['image_id'])\n",
    "df15 = pd.DataFrame(hedgehog_2k, columns=['image_id'])\n",
    "\n",
    "df16 = pd.DataFrame(zebra_2k, columns=['image_id'])\n",
    "df17 = pd.DataFrame(wildebeest_2k, columns=['image_id'])\n",
    "df18 = pd.DataFrame(gazellethomosons_2k, columns=['image_id'])\n",
    "df19 = pd.DataFrame(buffalo_2k, columns=['image_id'])\n",
    "df20 = pd.DataFrame(elephant_2k, columns=['image_id'])\n",
    "\n",
    "df21 = pd.DataFrame(guineafowl_2k, columns=['image_id'])\n",
    "df22 = pd.DataFrame(giraffe_2k, columns=['image_id'])"
   ]
  },
  {
   "cell_type": "code",
   "execution_count": 13,
   "metadata": {},
   "outputs": [],
   "source": [
    "df1['label']='cattle'\n",
    "df2['label']='wild_boar'\n",
    "df3['label']='elk'\n",
    "df4['label']='mule_deer'\n",
    "df5['label']='black_bear'\n",
    "\n",
    "df6['label']='bird'\n",
    "df7['label']='squirrel'\n",
    "df8['label']='bobcat'\n",
    "df9['label']='hare'\n",
    "df10['label']='lion'\n",
    "\n",
    "df11['label']='fox'\n",
    "df12['label']='skunk'\n",
    "df13['label']='moose'\n",
    "df14['label']='vehicle'\n",
    "df15['label']='hedgehog'\n",
    "\n",
    "df16['label']='zebra'\n",
    "df17['label']='wildebeest'\n",
    "df18['label']='gazellethomosons'\n",
    "df19['label']='buffalo'\n",
    "df20['label']='elephant'\n",
    "\n",
    "df21['label']='guineafowl'\n",
    "df22['label']='giraffe'"
   ]
  },
  {
   "cell_type": "code",
   "execution_count": 14,
   "metadata": {},
   "outputs": [],
   "source": [
    "df = pd.concat([df1,df2,df3,df4,df5,df6,df7,df8,df9,df10,df11,df12,df13,df14,df15,df16,df17,df18,df19,df20,df21,df22],axis=0,ignore_index=True)"
   ]
  },
  {
   "cell_type": "code",
   "execution_count": 15,
   "metadata": {},
   "outputs": [
    {
     "data": {
      "text/plain": [
       "110000"
      ]
     },
     "execution_count": 15,
     "metadata": {},
     "output_type": "execute_result"
    }
   ],
   "source": [
    "len(df)"
   ]
  },
  {
   "cell_type": "code",
   "execution_count": 16,
   "metadata": {},
   "outputs": [
    {
     "data": {
      "text/plain": [
       "110000"
      ]
     },
     "execution_count": 16,
     "metadata": {},
     "output_type": "execute_result"
    }
   ],
   "source": [
    "5000*22"
   ]
  },
  {
   "cell_type": "code",
   "execution_count": 17,
   "metadata": {},
   "outputs": [
    {
     "data": {
      "text/html": [
       "<div>\n",
       "<style scoped>\n",
       "    .dataframe tbody tr th:only-of-type {\n",
       "        vertical-align: middle;\n",
       "    }\n",
       "\n",
       "    .dataframe tbody tr th {\n",
       "        vertical-align: top;\n",
       "    }\n",
       "\n",
       "    .dataframe thead th {\n",
       "        text-align: right;\n",
       "    }\n",
       "</style>\n",
       "<table border=\"1\" class=\"dataframe\">\n",
       "  <thead>\n",
       "    <tr style=\"text-align: right;\">\n",
       "      <th></th>\n",
       "      <th>image_id</th>\n",
       "      <th>label</th>\n",
       "    </tr>\n",
       "  </thead>\n",
       "  <tbody>\n",
       "    <tr>\n",
       "      <td>0</td>\n",
       "      <td>CA-30_07_07_2016_CA-30_0041552.JPG</td>\n",
       "      <td>cattle</td>\n",
       "    </tr>\n",
       "    <tr>\n",
       "      <td>1</td>\n",
       "      <td>FL-29_06_03_2015_FL-29_0004354.jpg</td>\n",
       "      <td>cattle</td>\n",
       "    </tr>\n",
       "  </tbody>\n",
       "</table>\n",
       "</div>"
      ],
      "text/plain": [
       "                             image_id   label\n",
       "0  CA-30_07_07_2016_CA-30_0041552.JPG  cattle\n",
       "1  FL-29_06_03_2015_FL-29_0004354.jpg  cattle"
      ]
     },
     "execution_count": 17,
     "metadata": {},
     "output_type": "execute_result"
    }
   ],
   "source": [
    "df.head(2)"
   ]
  },
  {
   "cell_type": "code",
   "execution_count": 18,
   "metadata": {},
   "outputs": [
    {
     "data": {
      "text/html": [
       "<div>\n",
       "<style scoped>\n",
       "    .dataframe tbody tr th:only-of-type {\n",
       "        vertical-align: middle;\n",
       "    }\n",
       "\n",
       "    .dataframe tbody tr th {\n",
       "        vertical-align: top;\n",
       "    }\n",
       "\n",
       "    .dataframe thead th {\n",
       "        text-align: right;\n",
       "    }\n",
       "</style>\n",
       "<table border=\"1\" class=\"dataframe\">\n",
       "  <thead>\n",
       "    <tr style=\"text-align: right;\">\n",
       "      <th></th>\n",
       "      <th>image_id</th>\n",
       "      <th>label</th>\n",
       "    </tr>\n",
       "  </thead>\n",
       "  <tbody>\n",
       "    <tr>\n",
       "      <td>0</td>\n",
       "      <td>CA-30_07_07_2016_CA-30_0041552.JPG</td>\n",
       "      <td>cattle</td>\n",
       "    </tr>\n",
       "    <tr>\n",
       "      <td>1</td>\n",
       "      <td>FL-29_06_03_2015_FL-29_0004354.jpg</td>\n",
       "      <td>cattle</td>\n",
       "    </tr>\n",
       "    <tr>\n",
       "      <td>2</td>\n",
       "      <td>5874d604-23d2-11e8-a6a3-ec086b02610b.jpg</td>\n",
       "      <td>cattle</td>\n",
       "    </tr>\n",
       "    <tr>\n",
       "      <td>3</td>\n",
       "      <td>CA-28_06_01_2016_CA-28_0025276.JPG</td>\n",
       "      <td>cattle</td>\n",
       "    </tr>\n",
       "    <tr>\n",
       "      <td>4</td>\n",
       "      <td>FL-01_06_29_2015_FL-01_0031707.jpg</td>\n",
       "      <td>cattle</td>\n",
       "    </tr>\n",
       "    <tr>\n",
       "      <td>...</td>\n",
       "      <td>...</td>\n",
       "      <td>...</td>\n",
       "    </tr>\n",
       "    <tr>\n",
       "      <td>109995</td>\n",
       "      <td>S7_C11_R3_IMAG0216.JPG</td>\n",
       "      <td>giraffe</td>\n",
       "    </tr>\n",
       "    <tr>\n",
       "      <td>109996</td>\n",
       "      <td>S7_E05_R3_IMAG0144.JPG</td>\n",
       "      <td>giraffe</td>\n",
       "    </tr>\n",
       "    <tr>\n",
       "      <td>109997</td>\n",
       "      <td>S7_L02_R2_IMAG0023.JPG</td>\n",
       "      <td>giraffe</td>\n",
       "    </tr>\n",
       "    <tr>\n",
       "      <td>109998</td>\n",
       "      <td>S7_H07_R3_IMAG1984.JPG</td>\n",
       "      <td>giraffe</td>\n",
       "    </tr>\n",
       "    <tr>\n",
       "      <td>109999</td>\n",
       "      <td>S10_E09_R2_IMAG1464.JPG</td>\n",
       "      <td>giraffe</td>\n",
       "    </tr>\n",
       "  </tbody>\n",
       "</table>\n",
       "<p>110000 rows × 2 columns</p>\n",
       "</div>"
      ],
      "text/plain": [
       "                                        image_id    label\n",
       "0             CA-30_07_07_2016_CA-30_0041552.JPG   cattle\n",
       "1             FL-29_06_03_2015_FL-29_0004354.jpg   cattle\n",
       "2       5874d604-23d2-11e8-a6a3-ec086b02610b.jpg   cattle\n",
       "3             CA-28_06_01_2016_CA-28_0025276.JPG   cattle\n",
       "4             FL-01_06_29_2015_FL-01_0031707.jpg   cattle\n",
       "...                                          ...      ...\n",
       "109995                    S7_C11_R3_IMAG0216.JPG  giraffe\n",
       "109996                    S7_E05_R3_IMAG0144.JPG  giraffe\n",
       "109997                    S7_L02_R2_IMAG0023.JPG  giraffe\n",
       "109998                    S7_H07_R3_IMAG1984.JPG  giraffe\n",
       "109999                   S10_E09_R2_IMAG1464.JPG  giraffe\n",
       "\n",
       "[110000 rows x 2 columns]"
      ]
     },
     "execution_count": 18,
     "metadata": {},
     "output_type": "execute_result"
    }
   ],
   "source": [
    "df"
   ]
  },
  {
   "cell_type": "code",
   "execution_count": 19,
   "metadata": {},
   "outputs": [
    {
     "data": {
      "text/plain": [
       "<matplotlib.axes._subplots.AxesSubplot at 0x7f810a187e90>"
      ]
     },
     "execution_count": 19,
     "metadata": {},
     "output_type": "execute_result"
    },
    {
     "data": {
      "image/png": "[encoded data removed]",
      "text/plain": [
       "<Figure size 432x288 with 1 Axes>"
      ]
     },
     "metadata": {
      "needs_background": "light"
     },
     "output_type": "display_data"
    }
   ],
   "source": [
    "df['label'].value_counts().plot.bar()"
   ]
  },
  {
   "cell_type": "code",
   "execution_count": 20,
   "metadata": {},
   "outputs": [],
   "source": [
    "train_df, validate0_df = train_test_split(df, test_size=0.30, random_state=522)\n",
    "train_df = train_df.reset_index(drop=True)\n",
    "validate0_df = validate0_df.reset_index(drop=True)"
   ]
  },
  {
   "cell_type": "code",
   "execution_count": 21,
   "metadata": {},
   "outputs": [],
   "source": [
    "validate_df, test_df = train_test_split(validate0_df, test_size=0.30, random_state=626)\n",
    "validate_df = validate_df.reset_index(drop=True)\n",
    "test_df = test_df.reset_index(drop=True)"
   ]
  },
  {
   "cell_type": "code",
   "execution_count": 22,
   "metadata": {},
   "outputs": [
    {
     "data": {
      "text/plain": [
       "77000"
      ]
     },
     "execution_count": 22,
     "metadata": {},
     "output_type": "execute_result"
    }
   ],
   "source": [
    "len(train_df)"
   ]
  },
  {
   "cell_type": "markdown",
   "metadata": {},
   "source": [
    "train dataset"
   ]
  },
  {
   "cell_type": "code",
   "execution_count": 23,
   "metadata": {},
   "outputs": [
    {
     "data": {
      "text/plain": [
       "(77000, 32, 32, 3)"
      ]
     },
     "execution_count": 23,
     "metadata": {},
     "output_type": "execute_result"
    }
   ],
   "source": [
    "imglist = train_df['image_id'].tolist()\n",
    "X_train = np.empty((len(imglist),32,32,3))\n",
    "X_train.shape"
   ]
  },
  {
   "cell_type": "code",
   "execution_count": 24,
   "metadata": {},
   "outputs": [
    {
     "data": {
      "text/plain": [
       "(77000, 1)"
      ]
     },
     "execution_count": 24,
     "metadata": {},
     "output_type": "execute_result"
    }
   ],
   "source": [
    "Y_train = np.empty((len(imglist),1))\n",
    "Y_train.shape"
   ]
  },
  {
   "cell_type": "code",
   "execution_count": null,
   "metadata": {},
   "outputs": [],
   "source": [
    "count =0\n",
    "nonelist=[]\n",
    "for img_name in imglist:\n",
    "    img_path = path + img_name\n",
    "    try:\n",
    "        img = image.load_img(img_path, target_size=(32,32))\n",
    "        X_train[count]=img\n",
    "        count+=1\n",
    "    except:\n",
    "        nonelist.append(img_path)"
   ]
  },
  {
   "cell_type": "code",
   "execution_count": null,
   "metadata": {},
   "outputs": [],
   "source": [
    "np.save('X_train',X_train)"
   ]
  },
  {
   "cell_type": "code",
   "execution_count": null,
   "metadata": {},
   "outputs": [],
   "source": [
    "len(nonelist)"
   ]
  },
  {
   "cell_type": "code",
   "execution_count": null,
   "metadata": {},
   "outputs": [],
   "source": [
    "label = train_df['label']\n",
    "Y_train = [i for i in label]\n",
    "Y_train = np.array(Y_train)\n",
    "Y_train = Y_train.reshape(len(Y_train),1)\n",
    "Y_train.shape"
   ]
  },
  {
   "cell_type": "code",
   "execution_count": null,
   "metadata": {},
   "outputs": [],
   "source": [
    "np.save('Y_train',Y_train)"
   ]
  },
  {
   "cell_type": "markdown",
   "metadata": {},
   "source": [
    "validate dataset"
   ]
  },
  {
   "cell_type": "code",
   "execution_count": null,
   "metadata": {},
   "outputs": [],
   "source": [
    "validate_df.shape"
   ]
  },
  {
   "cell_type": "code",
   "execution_count": null,
   "metadata": {},
   "outputs": [],
   "source": [
    "imglist = validate_df['image_id'].tolist()\n",
    "X_validate = np.empty((len(imglist),32,32,3))\n",
    "X_validate.shape"
   ]
  },
  {
   "cell_type": "code",
   "execution_count": null,
   "metadata": {},
   "outputs": [],
   "source": [
    "count=0\n",
    "nonelist=[]\n",
    "for img_name in imglist:\n",
    "    img_path = path + img_name\n",
    "    try:\n",
    "        img = image.load_img(img_path, target_size=(32,32))\n",
    "        X_validate[count]=img\n",
    "        count+=1\n",
    "    except:\n",
    "        nonelist.append(img_path)"
   ]
  },
  {
   "cell_type": "code",
   "execution_count": null,
   "metadata": {},
   "outputs": [],
   "source": [
    "label = validate_df['label']\n",
    "Y_validate = [i for i in label]\n",
    "Y_validate = np.array(Y_validate)\n",
    "Y_validate = Y_validate.reshape(len(Y_validate),1)\n",
    "Y_validate.shape"
   ]
  },
  {
   "cell_type": "code",
   "execution_count": null,
   "metadata": {},
   "outputs": [],
   "source": [
    "np.save('X_validate',X_validate)\n",
    "np.save('Y_validate',Y_validate)"
   ]
  },
  {
   "cell_type": "markdown",
   "metadata": {},
   "source": [
    "test dataset"
   ]
  },
  {
   "cell_type": "code",
   "execution_count": null,
   "metadata": {},
   "outputs": [],
   "source": [
    "imglist = test_df['image_id'].tolist()\n",
    "X_test = np.empty((len(imglist),32,32,3))\n",
    "X_test.shape"
   ]
  },
  {
   "cell_type": "code",
   "execution_count": null,
   "metadata": {},
   "outputs": [],
   "source": [
    "count=0\n",
    "nonelist=[]\n",
    "for img_name in imglist:\n",
    "    img_path = path + img_name\n",
    "    try:\n",
    "        img = image.load_img(img_path, target_size=(32,32))\n",
    "        X_test[count]=img\n",
    "        count+=1\n",
    "    except:\n",
    "        nonelist.append(img_path)"
   ]
  },
  {
   "cell_type": "code",
   "execution_count": null,
   "metadata": {},
   "outputs": [],
   "source": [
    "label = test_df['label']\n",
    "Y_test = [i for i in label]\n",
    "Y_test = np.array(Y_test)\n",
    "Y_test = Y_test.reshape(len(Y_test),1)\n",
    "Y_test.shape"
   ]
  },
  {
   "cell_type": "code",
   "execution_count": null,
   "metadata": {},
   "outputs": [],
   "source": [
    "test_df[:2]"
   ]
  },
  {
   "cell_type": "code",
   "execution_count": null,
   "metadata": {},
   "outputs": [],
   "source": [
    "Y_test[:2]"
   ]
  },
  {
   "cell_type": "code",
   "execution_count": null,
   "metadata": {},
   "outputs": [],
   "source": [
    "np.save('X_test',X_test)\n",
    "np.save('Y_test',Y_test)"
   ]
  },
  {
   "cell_type": "code",
   "execution_count": null,
   "metadata": {},
   "outputs": [],
   "source": []
  },
  {
   "cell_type": "code",
   "execution_count": null,
   "metadata": {},
   "outputs": [],
   "source": []
  }
 ],
 "metadata": {
  "kernelspec": {
   "display_name": "Python 3",
   "language": "python",
   "name": "python3"
  },
  "language_info": {
   "codemirror_mode": {
    "name": "ipython",
    "version": 3
   },
   "file_extension": ".py",
   "mimetype": "text/x-python",
   "name": "python",
   "nbconvert_exporter": "python",
   "pygments_lexer": "ipython3",
   "version": "3.7.4"
  }
 },
 "nbformat": 4,
 "nbformat_minor": 4
}
