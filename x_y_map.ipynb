{
 "cells": [
  {
   "cell_type": "markdown",
   "metadata": {},
   "source": [
    "### test s06"
   ]
  },
  {
   "cell_type": "code",
   "execution_count": 44,
   "metadata": {},
   "outputs": [],
   "source": [
    "import os,json\n",
    "\n",
    "animal_1w = [21,39,17]\n",
    "label_dict = {21:[],39:[],17:[]}"
   ]
  },
  {
   "cell_type": "code",
   "execution_count": 45,
   "metadata": {},
   "outputs": [],
   "source": [
    "train_file = '/home/zxt/data/S06.json'\n",
    "\n",
    "with open(train_file) as data_file:\n",
    "    train_anns = json.load(data_file)\n",
    "\n",
    "    for i in train_anns['annotations']:   \n",
    "        if i['category_id'] in animal_1w:\n",
    "            label_dict[i['category_id']].append(i['image_id']+'.JPG')"
   ]
  },
  {
   "cell_type": "code",
   "execution_count": 46,
   "metadata": {},
   "outputs": [
    {
     "data": {
      "text/plain": [
       "3"
      ]
     },
     "execution_count": 46,
     "metadata": {},
     "output_type": "execute_result"
    }
   ],
   "source": [
    "len(label_dict)"
   ]
  },
  {
   "cell_type": "code",
   "execution_count": 47,
   "metadata": {},
   "outputs": [
    {
     "data": {
      "text/plain": [
       "dict_keys([21, 39, 17])"
      ]
     },
     "execution_count": 47,
     "metadata": {},
     "output_type": "execute_result"
    }
   ],
   "source": [
    "label_dict.keys()"
   ]
  },
  {
   "cell_type": "code",
   "execution_count": 48,
   "metadata": {},
   "outputs": [
    {
     "data": {
      "text/plain": [
       "542"
      ]
     },
     "execution_count": 48,
     "metadata": {},
     "output_type": "execute_result"
    }
   ],
   "source": [
    "len(label_dict[21])"
   ]
  },
  {
   "cell_type": "code",
   "execution_count": 49,
   "metadata": {},
   "outputs": [
    {
     "data": {
      "text/plain": [
       "84"
      ]
     },
     "execution_count": 49,
     "metadata": {},
     "output_type": "execute_result"
    }
   ],
   "source": [
    "len(label_dict[39])"
   ]
  },
  {
   "cell_type": "code",
   "execution_count": 50,
   "metadata": {},
   "outputs": [
    {
     "data": {
      "text/plain": [
       "3912"
      ]
     },
     "execution_count": 50,
     "metadata": {},
     "output_type": "execute_result"
    }
   ],
   "source": [
    "len(label_dict[17])"
   ]
  },
  {
   "cell_type": "code",
   "execution_count": 12,
   "metadata": {},
   "outputs": [],
   "source": [
    "key = [21,39,17]"
   ]
  },
  {
   "cell_type": "code",
   "execution_count": 33,
   "metadata": {},
   "outputs": [],
   "source": [
    "# label_dict[21]"
   ]
  },
  {
   "cell_type": "code",
   "execution_count": 34,
   "metadata": {},
   "outputs": [],
   "source": [
    "label_dict['female_lion']=label_dict[21]"
   ]
  },
  {
   "cell_type": "code",
   "execution_count": 39,
   "metadata": {},
   "outputs": [
    {
     "data": {
      "text/plain": [
       "542"
      ]
     },
     "execution_count": 39,
     "metadata": {},
     "output_type": "execute_result"
    }
   ],
   "source": [
    "len(label_dict[21])"
   ]
  },
  {
   "cell_type": "code",
   "execution_count": 40,
   "metadata": {},
   "outputs": [
    {
     "data": {
      "text/plain": [
       "4"
      ]
     },
     "execution_count": 40,
     "metadata": {},
     "output_type": "execute_result"
    }
   ],
   "source": [
    "len(label_dict)"
   ]
  },
  {
   "cell_type": "code",
   "execution_count": 41,
   "metadata": {},
   "outputs": [
    {
     "data": {
      "text/plain": [
       "542"
      ]
     },
     "execution_count": 41,
     "metadata": {},
     "output_type": "execute_result"
    }
   ],
   "source": [
    "len(label_dict['female_lion'])"
   ]
  },
  {
   "cell_type": "code",
   "execution_count": 42,
   "metadata": {},
   "outputs": [],
   "source": [
    "del label_dict[21]"
   ]
  },
  {
   "cell_type": "code",
   "execution_count": 43,
   "metadata": {},
   "outputs": [
    {
     "data": {
      "text/plain": [
       "3"
      ]
     },
     "execution_count": 43,
     "metadata": {},
     "output_type": "execute_result"
    }
   ],
   "source": [
    "len(label_dict)"
   ]
  },
  {
   "cell_type": "code",
   "execution_count": 51,
   "metadata": {},
   "outputs": [],
   "source": [
    "# check caltech\n",
    "train_file = \"/home/zxt/data/caltech_images_20190919.json\"\n",
    "with open(train_file) as data_file:\n",
    "    train_anns = json.load(data_file)"
   ]
  },
  {
   "cell_type": "code",
   "execution_count": 53,
   "metadata": {},
   "outputs": [
    {
     "data": {
      "text/plain": [
       "dict_keys(['images', 'annotations', 'categories', 'info'])"
      ]
     },
     "execution_count": 53,
     "metadata": {},
     "output_type": "execute_result"
    }
   ],
   "source": [
    "train_anns.keys()"
   ]
  },
  {
   "cell_type": "code",
   "execution_count": 54,
   "metadata": {},
   "outputs": [
    {
     "data": {
      "text/plain": [
       "[{'name': 'bobcat', 'id': 6},\n",
       " {'name': 'opossum', 'id': 1},\n",
       " {'name': 'empty', 'id': 30},\n",
       " {'name': 'coyote', 'id': 9},\n",
       " {'name': 'raccoon', 'id': 3},\n",
       " {'name': 'bird', 'id': 11},\n",
       " {'name': 'dog', 'id': 8},\n",
       " {'name': 'cat', 'id': 16},\n",
       " {'name': 'squirrel', 'id': 5},\n",
       " {'name': 'rabbit', 'id': 10},\n",
       " {'name': 'skunk', 'id': 7},\n",
       " {'name': 'lizard', 'id': 14},\n",
       " {'name': 'rodent', 'id': 99},\n",
       " {'name': 'badger', 'id': 21},\n",
       " {'name': 'deer', 'id': 34},\n",
       " {'name': 'cow', 'id': 37},\n",
       " {'name': 'car', 'id': 33},\n",
       " {'name': 'fox', 'id': 51},\n",
       " {'name': 'pig', 'id': 39},\n",
       " {'name': 'mountain_lion', 'id': 40},\n",
       " {'name': 'bat', 'id': 66},\n",
       " {'name': 'insect', 'id': 97}]"
      ]
     },
     "execution_count": 54,
     "metadata": {},
     "output_type": "execute_result"
    }
   ],
   "source": [
    "train_anns['categories']"
   ]
  },
  {
   "cell_type": "code",
   "execution_count": 55,
   "metadata": {},
   "outputs": [],
   "source": [
    "# check serengeti name vs category_id\n",
    "# S06\n",
    "\n",
    "train_file = '/home/zxt/data/S06.json'\n",
    "\n",
    "with open(train_file) as data_file:\n",
    "    train_anns = json.load(data_file)"
   ]
  },
  {
   "cell_type": "code",
   "execution_count": 56,
   "metadata": {},
   "outputs": [
    {
     "data": {
      "text/plain": [
       "dict_keys(['info', 'categories', 'images', 'annotations'])"
      ]
     },
     "execution_count": 56,
     "metadata": {},
     "output_type": "execute_result"
    }
   ],
   "source": [
    "train_anns.keys()"
   ]
  },
  {
   "cell_type": "code",
   "execution_count": 57,
   "metadata": {},
   "outputs": [
    {
     "data": {
      "text/plain": [
       "[{'id': 0, 'name': 'empty'},\n",
       " {'id': 1, 'name': 'human'},\n",
       " {'id': 2, 'name': 'gazellegrants'},\n",
       " {'id': 3, 'name': 'reedbuck'},\n",
       " {'id': 4, 'name': 'dikdik'},\n",
       " {'id': 5, 'name': 'zebra'},\n",
       " {'id': 6, 'name': 'porcupine'},\n",
       " {'id': 7, 'name': 'gazellethomsons'},\n",
       " {'id': 8, 'name': 'hyenaspotted'},\n",
       " {'id': 9, 'name': 'warthog'},\n",
       " {'id': 10, 'name': 'impala'},\n",
       " {'id': 11, 'name': 'elephant'},\n",
       " {'id': 12, 'name': 'aardvark'},\n",
       " {'id': 13, 'name': 'giraffe'},\n",
       " {'id': 14, 'name': 'mongoose'},\n",
       " {'id': 15, 'name': 'buffalo'},\n",
       " {'id': 16, 'name': 'hartebeest'},\n",
       " {'id': 17, 'name': 'guineafowl'},\n",
       " {'id': 18, 'name': 'wildebeest'},\n",
       " {'id': 19, 'name': 'leopard'},\n",
       " {'id': 20, 'name': 'ostrich'},\n",
       " {'id': 21, 'name': 'lionfemale'},\n",
       " {'id': 22, 'name': 'koribustard'},\n",
       " {'id': 23, 'name': 'otherbird'},\n",
       " {'id': 24, 'name': 'cheetah'},\n",
       " {'id': 25, 'name': 'honeybadger'},\n",
       " {'id': 26, 'name': 'bushbuck'},\n",
       " {'id': 27, 'name': 'jackal'},\n",
       " {'id': 28, 'name': 'aardwolf'},\n",
       " {'id': 29, 'name': 'hippopotamus'},\n",
       " {'id': 30, 'name': 'hyenastriped'},\n",
       " {'id': 31, 'name': 'hare'},\n",
       " {'id': 32, 'name': 'baboon'},\n",
       " {'id': 33, 'name': 'monkeyvervet'},\n",
       " {'id': 34, 'name': 'batearedfox'},\n",
       " {'id': 35, 'name': 'waterbuck'},\n",
       " {'id': 36, 'name': 'secretarybird'},\n",
       " {'id': 37, 'name': 'topi'},\n",
       " {'id': 38, 'name': 'serval'},\n",
       " {'id': 39, 'name': 'lionmale'},\n",
       " {'id': 40, 'name': 'eland'},\n",
       " {'id': 41, 'name': 'rodents'},\n",
       " {'id': 42, 'name': 'wildcat'},\n",
       " {'id': 43, 'name': 'civet'},\n",
       " {'id': 44, 'name': 'genet'},\n",
       " {'id': 45, 'name': 'zorilla'},\n",
       " {'id': 46, 'name': 'caracal'},\n",
       " {'id': 47, 'name': 'rhinoceros'},\n",
       " {'id': 48, 'name': 'reptiles'},\n",
       " {'id': 49, 'name': 'insectspider'},\n",
       " {'id': 50, 'name': 'duiker'},\n",
       " {'id': 51, 'name': 'cattle'},\n",
       " {'id': 52, 'name': 'vulture'},\n",
       " {'id': 53, 'name': 'steenbok'},\n",
       " {'id': 54, 'name': 'bat'},\n",
       " {'id': 55, 'name': 'fire'},\n",
       " {'id': 56, 'name': 'hyenabrown'},\n",
       " {'id': 57, 'name': 'wilddog'},\n",
       " {'id': 58, 'name': 'kudu'},\n",
       " {'id': 59, 'name': 'pangolin'},\n",
       " {'id': 60, 'name': 'lioncub'}]"
      ]
     },
     "execution_count": 57,
     "metadata": {},
     "output_type": "execute_result"
    }
   ],
   "source": [
    "train_anns['categories']"
   ]
  },
  {
   "cell_type": "code",
   "execution_count": 58,
   "metadata": {},
   "outputs": [],
   "source": [
    "train_file = '/home/zxt/data/S07.json'\n",
    "\n",
    "with open(train_file) as data_file:\n",
    "    train_anns = json.load(data_file)"
   ]
  },
  {
   "cell_type": "code",
   "execution_count": 59,
   "metadata": {},
   "outputs": [
    {
     "data": {
      "text/plain": [
       "[{'id': 0, 'name': 'empty'},\n",
       " {'id': 1, 'name': 'human'},\n",
       " {'id': 2, 'name': 'gazellegrants'},\n",
       " {'id': 3, 'name': 'reedbuck'},\n",
       " {'id': 4, 'name': 'dikdik'},\n",
       " {'id': 5, 'name': 'zebra'},\n",
       " {'id': 6, 'name': 'porcupine'},\n",
       " {'id': 7, 'name': 'gazellethomsons'},\n",
       " {'id': 8, 'name': 'hyenaspotted'},\n",
       " {'id': 9, 'name': 'warthog'},\n",
       " {'id': 10, 'name': 'impala'},\n",
       " {'id': 11, 'name': 'elephant'},\n",
       " {'id': 12, 'name': 'aardvark'},\n",
       " {'id': 13, 'name': 'giraffe'},\n",
       " {'id': 14, 'name': 'mongoose'},\n",
       " {'id': 15, 'name': 'buffalo'},\n",
       " {'id': 16, 'name': 'hartebeest'},\n",
       " {'id': 17, 'name': 'guineafowl'},\n",
       " {'id': 18, 'name': 'wildebeest'},\n",
       " {'id': 19, 'name': 'leopard'},\n",
       " {'id': 20, 'name': 'ostrich'},\n",
       " {'id': 21, 'name': 'lionfemale'},\n",
       " {'id': 22, 'name': 'koribustard'},\n",
       " {'id': 23, 'name': 'otherbird'},\n",
       " {'id': 24, 'name': 'cheetah'},\n",
       " {'id': 25, 'name': 'honeybadger'},\n",
       " {'id': 26, 'name': 'bushbuck'},\n",
       " {'id': 27, 'name': 'jackal'},\n",
       " {'id': 28, 'name': 'aardwolf'},\n",
       " {'id': 29, 'name': 'hippopotamus'},\n",
       " {'id': 30, 'name': 'hyenastriped'},\n",
       " {'id': 31, 'name': 'hare'},\n",
       " {'id': 32, 'name': 'baboon'},\n",
       " {'id': 33, 'name': 'monkeyvervet'},\n",
       " {'id': 34, 'name': 'batearedfox'},\n",
       " {'id': 35, 'name': 'waterbuck'},\n",
       " {'id': 36, 'name': 'secretarybird'},\n",
       " {'id': 37, 'name': 'topi'},\n",
       " {'id': 38, 'name': 'serval'},\n",
       " {'id': 39, 'name': 'lionmale'},\n",
       " {'id': 40, 'name': 'eland'},\n",
       " {'id': 41, 'name': 'rodents'},\n",
       " {'id': 42, 'name': 'wildcat'},\n",
       " {'id': 43, 'name': 'civet'},\n",
       " {'id': 44, 'name': 'genet'},\n",
       " {'id': 45, 'name': 'zorilla'},\n",
       " {'id': 46, 'name': 'caracal'},\n",
       " {'id': 47, 'name': 'rhinoceros'},\n",
       " {'id': 48, 'name': 'reptiles'},\n",
       " {'id': 49, 'name': 'insectspider'},\n",
       " {'id': 50, 'name': 'duiker'},\n",
       " {'id': 51, 'name': 'cattle'},\n",
       " {'id': 52, 'name': 'vulture'},\n",
       " {'id': 53, 'name': 'steenbok'},\n",
       " {'id': 54, 'name': 'bat'},\n",
       " {'id': 55, 'name': 'fire'},\n",
       " {'id': 56, 'name': 'hyenabrown'},\n",
       " {'id': 57, 'name': 'wilddog'},\n",
       " {'id': 58, 'name': 'kudu'},\n",
       " {'id': 59, 'name': 'pangolin'},\n",
       " {'id': 60, 'name': 'lioncub'}]"
      ]
     },
     "execution_count": 59,
     "metadata": {},
     "output_type": "execute_result"
    }
   ],
   "source": [
    "train_anns['categories']"
   ]
  },
  {
   "cell_type": "markdown",
   "metadata": {},
   "source": [
    "### UNIQUE CATEGORY NAME"
   ]
  },
  {
   "cell_type": "code",
   "execution_count": 88,
   "metadata": {},
   "outputs": [],
   "source": [
    "# total 22 categories animals\n",
    "unique_name = ['cattle','wild_boar','elk','mule_deer','black_bear','bird','squirrel','bobcat','hare','lion','fox','skunk','moose','vehicle','hedgehog','zebra','wildebeest','gazellethomosons','buffalo','elephant','guineafowl','giraffe']   "
   ]
  },
  {
   "cell_type": "code",
   "execution_count": 89,
   "metadata": {},
   "outputs": [
    {
     "data": {
      "text/plain": [
       "22"
      ]
     },
     "execution_count": 89,
     "metadata": {},
     "output_type": "execute_result"
    }
   ],
   "source": [
    "len(unique_name)"
   ]
  },
  {
   "cell_type": "markdown",
   "metadata": {},
   "source": [
    "### S06 DICT"
   ]
  },
  {
   "cell_type": "code",
   "execution_count": 96,
   "metadata": {},
   "outputs": [],
   "source": [
    "import os,json\n",
    "\n",
    "animal_1w = [21,39,17]\n",
    "label_dict = {5:[],18:[],7:[],13:[],15:[],11:[],21:[],39:[],17:[]}"
   ]
  },
  {
   "cell_type": "code",
   "execution_count": 97,
   "metadata": {},
   "outputs": [],
   "source": [
    "train_file = '/home/zxt/data/S06.json'\n",
    "\n",
    "with open(train_file) as data_file:\n",
    "    train_anns = json.load(data_file)\n",
    "\n",
    "    for i in train_anns['annotations']:   \n",
    "        if i['category_id'] in animal_1w:\n",
    "            label_dict[i['category_id']].append(i['image_id'][14:]+'.JPG')"
   ]
  },
  {
   "cell_type": "code",
   "execution_count": 98,
   "metadata": {},
   "outputs": [
    {
     "data": {
      "text/plain": [
       "dict_keys([5, 18, 7, 13, 15, 11, 21, 39, 17])"
      ]
     },
     "execution_count": 98,
     "metadata": {},
     "output_type": "execute_result"
    }
   ],
   "source": [
    "label_dict.keys()"
   ]
  },
  {
   "cell_type": "code",
   "execution_count": 99,
   "metadata": {},
   "outputs": [
    {
     "name": "stdout",
     "output_type": "stream",
     "text": [
      "5:  0\n",
      "18: 0\n",
      "7:  0\n",
      "15: 0\n",
      "11: 0\n",
      "21: 542\n",
      "39: 84\n",
      "17: 3912\n"
     ]
    }
   ],
   "source": [
    "print('5:  '+ str(len(label_dict[5])))\n",
    "print('18: '+ str(len(label_dict[18])))\n",
    "print('7:  '+ str(len(label_dict[7])))\n",
    "print('15: '+ str(len(label_dict[15])))\n",
    "print('11: '+ str(len(label_dict[11])))\n",
    "\n",
    "print('21: '+ str(len(label_dict[21])))\n",
    "print('39: '+ str(len(label_dict[39])))\n",
    "print('17: '+ str(len(label_dict[17])))"
   ]
  },
  {
   "cell_type": "code",
   "execution_count": 100,
   "metadata": {},
   "outputs": [
    {
     "data": {
      "text/plain": [
       "'S6_B05_R2_IMAG0726.JPG'"
      ]
     },
     "execution_count": 100,
     "metadata": {},
     "output_type": "execute_result"
    }
   ],
   "source": [
    "label_dict[21][0]"
   ]
  },
  {
   "cell_type": "markdown",
   "metadata": {},
   "source": [
    "### S07"
   ]
  },
  {
   "cell_type": "code",
   "execution_count": 297,
   "metadata": {},
   "outputs": [],
   "source": [
    "train_file = '/home/zxt/data/S07.json'\n",
    "\n",
    "animal_1w = [15,11,13,21,39,17]\n",
    "\n",
    "\n",
    "with open(train_file) as data_file:\n",
    "    train_anns = json.load(data_file)\n",
    "\n",
    "    for i in train_anns['annotations']:   \n",
    "        if i['category_id'] in animal_1w:\n",
    "            label_dict[i['category_id']].append(i['image_id'][14:]+'.JPG')"
   ]
  },
  {
   "cell_type": "code",
   "execution_count": 298,
   "metadata": {},
   "outputs": [
    {
     "data": {
      "text/plain": [
       "dict_keys([5, 18, 7, 13, 15, 11, 21, 39, 17])"
      ]
     },
     "execution_count": 298,
     "metadata": {},
     "output_type": "execute_result"
    }
   ],
   "source": [
    "label_dict.keys()"
   ]
  },
  {
   "cell_type": "code",
   "execution_count": 299,
   "metadata": {},
   "outputs": [
    {
     "name": "stdout",
     "output_type": "stream",
     "text": [
      "5:  28951\n",
      "18: 63925\n",
      "7:  17062\n",
      "15: 21292\n",
      "11: 26981\n",
      "13: 19476\n",
      "21: 5407\n",
      "39: 2409\n",
      "17: 12673\n"
     ]
    }
   ],
   "source": [
    "print('5:  '+ str(len(label_dict[5])))\n",
    "print('18: '+ str(len(label_dict[18])))\n",
    "print('7:  '+ str(len(label_dict[7])))\n",
    "print('15: '+ str(len(label_dict[15])))\n",
    "print('11: '+ str(len(label_dict[11])))\n",
    "print('13: '+ str(len(label_dict[13])))\n",
    "print('21: '+ str(len(label_dict[21])))\n",
    "print('39: '+ str(len(label_dict[39])))\n",
    "print('17: '+ str(len(label_dict[17])))"
   ]
  },
  {
   "cell_type": "markdown",
   "metadata": {},
   "source": [
    "### S09"
   ]
  },
  {
   "cell_type": "code",
   "execution_count": 105,
   "metadata": {},
   "outputs": [],
   "source": [
    "train_file = '/home/zxt/data/S09.json'\n",
    "\n",
    "animal_1w = [15,11,13,21,39,17]\n",
    "\n",
    "\n",
    "with open(train_file) as data_file:\n",
    "    train_anns = json.load(data_file)\n",
    "\n",
    "    for i in train_anns['annotations']:   \n",
    "        if i['category_id'] in animal_1w:\n",
    "#             print(i['image_id'][14:])\n",
    "            label_dict[i['category_id']].append(i['image_id'][14:]+'.JPG')"
   ]
  },
  {
   "cell_type": "code",
   "execution_count": 109,
   "metadata": {},
   "outputs": [
    {
     "name": "stdout",
     "output_type": "stream",
     "text": [
      "5:  28951\n",
      "18: 63925\n",
      "7:  17062\n",
      "15: 15511\n",
      "11: 18628\n",
      "13: 13307\n",
      "21: 4442\n",
      "39: 1743\n",
      "17: 10447\n"
     ]
    }
   ],
   "source": [
    "print('5:  '+ str(len(label_dict[5])))\n",
    "print('18: '+ str(len(label_dict[18])))\n",
    "print('7:  '+ str(len(label_dict[7])))\n",
    "print('15: '+ str(len(label_dict[15])))\n",
    "print('11: '+ str(len(label_dict[11])))\n",
    "print('13: '+ str(len(label_dict[13])))\n",
    "print('21: '+ str(len(label_dict[21])))\n",
    "print('39: '+ str(len(label_dict[39])))\n",
    "print('17: '+ str(len(label_dict[17])))"
   ]
  },
  {
   "cell_type": "markdown",
   "metadata": {},
   "source": [
    "### S10"
   ]
  },
  {
   "cell_type": "code",
   "execution_count": 108,
   "metadata": {},
   "outputs": [],
   "source": [
    "train_file = '/home/zxt/data/S10.json'\n",
    "\n",
    "animal_1w = [5,18,7,15,11,13,21,39,17]\n",
    "\n",
    "\n",
    "with open(train_file) as data_file:\n",
    "    train_anns = json.load(data_file)\n",
    "\n",
    "    for i in train_anns['annotations']:   \n",
    "        if i['category_id'] in animal_1w:\n",
    "#             print(i['image_id'][15:])\n",
    "            label_dict[i['category_id']].append(i['image_id'][15:]+'.JPG')"
   ]
  },
  {
   "cell_type": "code",
   "execution_count": 110,
   "metadata": {},
   "outputs": [
    {
     "name": "stdout",
     "output_type": "stream",
     "text": [
      "5:  28951\n",
      "18: 63925\n",
      "7:  17062\n",
      "15: 15511\n",
      "11: 18628\n",
      "13: 13307\n",
      "21: 4442\n",
      "39: 1743\n",
      "17: 10447\n"
     ]
    }
   ],
   "source": [
    "print('5:  '+ str(len(label_dict[5])))\n",
    "print('18: '+ str(len(label_dict[18])))\n",
    "print('7:  '+ str(len(label_dict[7])))\n",
    "print('15: '+ str(len(label_dict[15])))\n",
    "print('11: '+ str(len(label_dict[11])))\n",
    "print('13: '+ str(len(label_dict[13])))\n",
    "print('21: '+ str(len(label_dict[21])))\n",
    "print('39: '+ str(len(label_dict[39])))\n",
    "print('17: '+ str(len(label_dict[17])))"
   ]
  },
  {
   "cell_type": "markdown",
   "metadata": {},
   "source": [
    "### create the map "
   ]
  },
  {
   "cell_type": "code",
   "execution_count": 113,
   "metadata": {},
   "outputs": [],
   "source": [
    "label = ['cattle','wild_boar','elk','mule_deer','black_bear','bird','squirrel','bobcat','hare','lion','fox','skunk','moose','vehicle','hedgehog','zebra','wildebeest','gazellethomosons','buffalo','elephant','guineafowl','giraffe']   "
   ]
  },
  {
   "cell_type": "code",
   "execution_count": 114,
   "metadata": {},
   "outputs": [
    {
     "data": {
      "text/plain": [
       "['cattle',\n",
       " 'wild_boar',\n",
       " 'elk',\n",
       " 'mule_deer',\n",
       " 'black_bear',\n",
       " 'bird',\n",
       " 'squirrel',\n",
       " 'bobcat',\n",
       " 'hare',\n",
       " 'lion',\n",
       " 'fox',\n",
       " 'skunk',\n",
       " 'moose',\n",
       " 'vehicle',\n",
       " 'hedgehog',\n",
       " 'zebra',\n",
       " 'wildebeest',\n",
       " 'gazellethomosons',\n",
       " 'buffalo',\n",
       " 'elephant',\n",
       " 'guineafowl',\n",
       " 'giraffe']"
      ]
     },
     "execution_count": 114,
     "metadata": {},
     "output_type": "execute_result"
    }
   ],
   "source": [
    "label"
   ]
  },
  {
   "cell_type": "code",
   "execution_count": 126,
   "metadata": {},
   "outputs": [],
   "source": [
    "label_dict_all = {'cattle':[],'wild_boar':[],'elk':[],'mule_deer':[],\n",
    "                  'black_bear':[],'bird':[],'squirrel':[],'bobcat':[],\n",
    "                 'hare':[],'lion':[],'fox':[],'skunk':[],'moose':[],\n",
    "                 'vehicle':[],'hedgehog':[],'zebra':[],'wildebeest':[],\n",
    "                 'gazellethomosons':[],'buffalo':[],'elephant':[],\n",
    "                 'guineafowl':[],'giraffe':[]}"
   ]
  },
  {
   "cell_type": "code",
   "execution_count": 119,
   "metadata": {},
   "outputs": [
    {
     "data": {
      "text/plain": [
       "22"
      ]
     },
     "execution_count": 119,
     "metadata": {},
     "output_type": "execute_result"
    }
   ],
   "source": [
    "len(label_dict_SER)"
   ]
  },
  {
   "cell_type": "code",
   "execution_count": 120,
   "metadata": {},
   "outputs": [
    {
     "data": {
      "text/plain": [
       "'S6_B06_R1_IMAG0115.JPG'"
      ]
     },
     "execution_count": 120,
     "metadata": {},
     "output_type": "execute_result"
    }
   ],
   "source": [
    "label_dict[39][0]"
   ]
  },
  {
   "cell_type": "code",
   "execution_count": 123,
   "metadata": {},
   "outputs": [],
   "source": [
    "lion_list = label_dict[39]+label_dict[21]"
   ]
  },
  {
   "cell_type": "code",
   "execution_count": 124,
   "metadata": {},
   "outputs": [
    {
     "data": {
      "text/plain": [
       "6185"
      ]
     },
     "execution_count": 124,
     "metadata": {},
     "output_type": "execute_result"
    }
   ],
   "source": [
    "len(lion_list)"
   ]
  },
  {
   "cell_type": "code",
   "execution_count": 127,
   "metadata": {},
   "outputs": [],
   "source": [
    "for i in lion_list:\n",
    "    label_dict_all['lion'].append(i)"
   ]
  },
  {
   "cell_type": "code",
   "execution_count": 128,
   "metadata": {},
   "outputs": [
    {
     "data": {
      "text/plain": [
       "6185"
      ]
     },
     "execution_count": 128,
     "metadata": {},
     "output_type": "execute_result"
    }
   ],
   "source": [
    "len(label_dict_all['lion'])"
   ]
  },
  {
   "cell_type": "code",
   "execution_count": 129,
   "metadata": {},
   "outputs": [
    {
     "data": {
      "text/plain": [
       "'S6_B06_R1_IMAG0115.JPG'"
      ]
     },
     "execution_count": 129,
     "metadata": {},
     "output_type": "execute_result"
    }
   ],
   "source": [
    "label_dict_all['lion'][0]"
   ]
  },
  {
   "cell_type": "code",
   "execution_count": 134,
   "metadata": {},
   "outputs": [
    {
     "data": {
      "text/plain": [
       "28951"
      ]
     },
     "execution_count": 134,
     "metadata": {},
     "output_type": "execute_result"
    }
   ],
   "source": [
    "# zebra 5 \n",
    "len(label_dict[5])"
   ]
  },
  {
   "cell_type": "code",
   "execution_count": 135,
   "metadata": {},
   "outputs": [
    {
     "data": {
      "text/plain": [
       "'S10_B03_R1_IMAG0531.JPG'"
      ]
     },
     "execution_count": 135,
     "metadata": {},
     "output_type": "execute_result"
    }
   ],
   "source": [
    "label_dict[5][0]"
   ]
  },
  {
   "cell_type": "code",
   "execution_count": 137,
   "metadata": {},
   "outputs": [],
   "source": [
    "for i in label_dict[5]:\n",
    "    label_dict_all['zebra'].append(i)"
   ]
  },
  {
   "cell_type": "code",
   "execution_count": 139,
   "metadata": {},
   "outputs": [
    {
     "data": {
      "text/plain": [
       "63925"
      ]
     },
     "execution_count": 139,
     "metadata": {},
     "output_type": "execute_result"
    }
   ],
   "source": [
    "# wildebeest  18\n",
    "len(label_dict[18])"
   ]
  },
  {
   "cell_type": "code",
   "execution_count": 140,
   "metadata": {},
   "outputs": [
    {
     "data": {
      "text/plain": [
       "'S10_B03_R1_IMAG0755.JPG'"
      ]
     },
     "execution_count": 140,
     "metadata": {},
     "output_type": "execute_result"
    }
   ],
   "source": [
    "label_dict[18][0]"
   ]
  },
  {
   "cell_type": "code",
   "execution_count": 141,
   "metadata": {},
   "outputs": [],
   "source": [
    "for i in label_dict[18]:\n",
    "    label_dict_all['wildebeest'].append(i)"
   ]
  },
  {
   "cell_type": "code",
   "execution_count": 142,
   "metadata": {},
   "outputs": [],
   "source": [
    "# gazellethomosons 7 \n",
    "\n",
    "for i in label_dict[7]:\n",
    "    label_dict_all['gazellethomosons'].append(i)"
   ]
  },
  {
   "cell_type": "code",
   "execution_count": 143,
   "metadata": {},
   "outputs": [],
   "source": [
    "# buffalo 15 \n",
    "\n",
    "for i in label_dict[15]:\n",
    "    label_dict_all['buffalo'].append(i)"
   ]
  },
  {
   "cell_type": "code",
   "execution_count": 144,
   "metadata": {},
   "outputs": [],
   "source": [
    "# elephant 11 \n",
    "\n",
    "for i in label_dict[11]:\n",
    "    label_dict_all['elephant'].append(i)"
   ]
  },
  {
   "cell_type": "code",
   "execution_count": 145,
   "metadata": {},
   "outputs": [],
   "source": [
    "# guineafowl 17 \n",
    "for i in label_dict[17]:\n",
    "    label_dict_all['guineafowl'].append(i)"
   ]
  },
  {
   "cell_type": "code",
   "execution_count": 146,
   "metadata": {},
   "outputs": [
    {
     "data": {
      "text/plain": [
       "10447"
      ]
     },
     "execution_count": 146,
     "metadata": {},
     "output_type": "execute_result"
    }
   ],
   "source": [
    "len(label_dict_all['guineafowl'])"
   ]
  },
  {
   "cell_type": "markdown",
   "metadata": {},
   "source": [
    "### verify the volume"
   ]
  },
  {
   "cell_type": "code",
   "execution_count": 147,
   "metadata": {},
   "outputs": [
    {
     "name": "stdout",
     "output_type": "stream",
     "text": [
      "5:  28951\n",
      "18: 63925\n",
      "7:  17062\n",
      "15: 15511\n",
      "11: 18628\n",
      "13: 13307\n",
      "21: 4442\n",
      "39: 1743\n",
      "17: 10447\n"
     ]
    }
   ],
   "source": [
    "print('5:  '+ str(len(label_dict[5])))\n",
    "print('18: '+ str(len(label_dict[18])))\n",
    "print('7:  '+ str(len(label_dict[7])))\n",
    "print('15: '+ str(len(label_dict[15])))\n",
    "print('11: '+ str(len(label_dict[11])))\n",
    "print('13: '+ str(len(label_dict[13])))\n",
    "print('21: '+ str(len(label_dict[21])))\n",
    "print('39: '+ str(len(label_dict[39])))\n",
    "print('17: '+ str(len(label_dict[17])))"
   ]
  },
  {
   "cell_type": "code",
   "execution_count": 151,
   "metadata": {},
   "outputs": [
    {
     "name": "stdout",
     "output_type": "stream",
     "text": [
      "zebra +5: 28951\n",
      "wildebeest +18: 63925\n",
      "gazellethomosons +7: 17062\n",
      "buffalo +15: 15511\n",
      "elephant +11: 18628\n",
      "giraffe +13: 0\n",
      "lion +21: 6185\n",
      "lion +39: 6185\n",
      "guineafowl +17: 10447\n"
     ]
    }
   ],
   "source": [
    "print('zebra +5: '+ str(len(label_dict_all['zebra'])))\n",
    "print('wildebeest +18: '+ str(len(label_dict_all['wildebeest'])))\n",
    "print('gazellethomosons +7: '+ str(len(label_dict_all['gazellethomosons'])))\n",
    "print('buffalo +15: '+ str(len(label_dict_all['buffalo'])))\n",
    "print('elephant +11: '+ str(len(label_dict_all['elephant'])))\n",
    "print('giraffe +13: '+ str(len(label_dict_all['giraffe'])))\n",
    "print('lion +21: '+ str(len(label_dict_all['lion'])))\n",
    "print('lion +39: '+ str(len(label_dict_all['lion'])))\n",
    "print('guineafowl +17: '+ str(len(label_dict_all['guineafowl'])))"
   ]
  },
  {
   "cell_type": "markdown",
   "metadata": {},
   "source": [
    "#### showed that the volume is correct!!!"
   ]
  },
  {
   "cell_type": "markdown",
   "metadata": {},
   "source": [
    "## CAL MAP\n",
    "\n"
   ]
  },
  {
   "cell_type": "code",
   "execution_count": 158,
   "metadata": {},
   "outputs": [],
   "source": [
    "# total 8 categories\n",
    "\n",
    "train_file = \"/home/zxt/data/caltech_images_20190919.json\"\n",
    "\n",
    "animal_1w = [37,11,5,6,51,33,40,7]\n",
    "label_dict_CAL = {37:[],11:[],5:[],6:[],51:[],33:[],40:[],7:[]}\n",
    "\n",
    "with open(train_file) as data_file:\n",
    "    train_anns = json.load(data_file)    "
   ]
  },
  {
   "cell_type": "code",
   "execution_count": 161,
   "metadata": {},
   "outputs": [],
   "source": [
    "for i in train_anns['annotations']:\n",
    "    if i['category_id'] in animal_1w:\n",
    "        label_dict_CAL[i['category_id']].append(i['image_id']+'.jpg')"
   ]
  },
  {
   "cell_type": "code",
   "execution_count": 163,
   "metadata": {},
   "outputs": [
    {
     "data": {
      "text/plain": [
       "dict_keys([37, 11, 5, 6, 51, 33, 40, 7])"
      ]
     },
     "execution_count": 163,
     "metadata": {},
     "output_type": "execute_result"
    }
   ],
   "source": [
    "label_dict_CAL.keys()"
   ]
  },
  {
   "cell_type": "code",
   "execution_count": 164,
   "metadata": {},
   "outputs": [
    {
     "data": {
      "text/plain": [
       "'58f73f1e-23d2-11e8-a6a3-ec086b02610b.jpg'"
      ]
     },
     "execution_count": 164,
     "metadata": {},
     "output_type": "execute_result"
    }
   ],
   "source": [
    "label_dict_CAL[37][0]"
   ]
  },
  {
   "cell_type": "code",
   "execution_count": 165,
   "metadata": {},
   "outputs": [],
   "source": [
    "# cattle 37\n",
    "for i in label_dict_CAL[37]:\n",
    "    label_dict_all['cattle'].append(i)"
   ]
  },
  {
   "cell_type": "code",
   "execution_count": 166,
   "metadata": {},
   "outputs": [],
   "source": [
    "# bird 11\n",
    "for i in label_dict_CAL[11]:\n",
    "    label_dict_all['bird'].append(i)"
   ]
  },
  {
   "cell_type": "code",
   "execution_count": 167,
   "metadata": {},
   "outputs": [],
   "source": [
    "# squirrel 5 \n",
    "for i in label_dict_CAL[5]:\n",
    "    label_dict_all['squirrel'].append(i)"
   ]
  },
  {
   "cell_type": "code",
   "execution_count": 168,
   "metadata": {},
   "outputs": [],
   "source": [
    "# bobcat 6 \n",
    "for i in label_dict_CAL[6]:\n",
    "    label_dict_all['bobcat'].append(i)"
   ]
  },
  {
   "cell_type": "code",
   "execution_count": 169,
   "metadata": {},
   "outputs": [],
   "source": [
    "# fox 51\n",
    "for i in label_dict_CAL[51]:\n",
    "    label_dict_all['fox'].append(i)"
   ]
  },
  {
   "cell_type": "code",
   "execution_count": 170,
   "metadata": {},
   "outputs": [],
   "source": [
    "# vehicle 33\n",
    "for i in label_dict_CAL[33]:\n",
    "    label_dict_all['vehicle'].append(i)"
   ]
  },
  {
   "cell_type": "code",
   "execution_count": 171,
   "metadata": {},
   "outputs": [],
   "source": [
    "# lion 40 \n",
    "for i in label_dict_CAL[40]:\n",
    "    label_dict_all['lion'].append(i)"
   ]
  },
  {
   "cell_type": "code",
   "execution_count": 172,
   "metadata": {},
   "outputs": [],
   "source": [
    "# skunk 7 \n",
    "for i in label_dict_CAL[7]:\n",
    "    label_dict_all['skunk'].append(i)"
   ]
  },
  {
   "cell_type": "markdown",
   "metadata": {},
   "source": [
    "#### verify the volume "
   ]
  },
  {
   "cell_type": "code",
   "execution_count": 182,
   "metadata": {},
   "outputs": [
    {
     "name": "stdout",
     "output_type": "stream",
     "text": [
      "cattle +37: 3626\n",
      "bird +11: 10003\n",
      "squirrel +5: 4450\n",
      "bobcat +6: 8098\n",
      "fox +51: 2574\n",
      "vehicle +33: 4717\n",
      "lion +40: 6330\n",
      "skunk +7: 1898\n"
     ]
    }
   ],
   "source": [
    "print('cattle +37: '+ str(len(label_dict_all['cattle'])))\n",
    "print('bird +11: '+ str(len(label_dict_all['bird'])))\n",
    "print('squirrel +5: '+ str(len(label_dict_all['squirrel'])))\n",
    "print('bobcat +6: '+ str(len(label_dict_all['bobcat'])))\n",
    "print('fox +51: '+ str(len(label_dict_all['fox'])))\n",
    "print('vehicle +33: '+ str(len(label_dict_all['vehicle'])))\n",
    "print('lion +40: '+ str(len(label_dict_all['lion'])))\n",
    "print('skunk +7: '+ str(len(label_dict_all['skunk'])))"
   ]
  },
  {
   "cell_type": "code",
   "execution_count": 176,
   "metadata": {},
   "outputs": [
    {
     "name": "stdout",
     "output_type": "stream",
     "text": [
      "37:  3626\n",
      "11: 10003\n",
      "5:  4450\n",
      "6: 8098\n",
      "51: 2574\n",
      "33: 4717\n",
      "40: 145\n",
      "7: 1898\n"
     ]
    }
   ],
   "source": [
    "print('37:  '+ str(len(label_dict_CAL[37])))\n",
    "print('11: '+ str(len(label_dict_CAL[11])))\n",
    "print('5:  '+ str(len(label_dict_CAL[5])))\n",
    "print('6: '+ str(len(label_dict_CAL[6])))\n",
    "print('51: '+ str(len(label_dict_CAL[51])))\n",
    "print('33: '+ str(len(label_dict_CAL[33])))\n",
    "print('40: '+ str(len(label_dict_CAL[40])))\n",
    "print('7: '+ str(len(label_dict_CAL[7])))"
   ]
  },
  {
   "cell_type": "code",
   "execution_count": 177,
   "metadata": {},
   "outputs": [
    {
     "data": {
      "text/plain": [
       "4450"
      ]
     },
     "execution_count": 177,
     "metadata": {},
     "output_type": "execute_result"
    }
   ],
   "source": [
    "len(label_dict_CAL[5])"
   ]
  },
  {
   "cell_type": "code",
   "execution_count": 178,
   "metadata": {},
   "outputs": [
    {
     "data": {
      "text/plain": [
       "28951"
      ]
     },
     "execution_count": 178,
     "metadata": {},
     "output_type": "execute_result"
    }
   ],
   "source": [
    "len(label_dict_all['squirrel'])"
   ]
  },
  {
   "cell_type": "code",
   "execution_count": 179,
   "metadata": {},
   "outputs": [],
   "source": [
    "label_dict_all['squirrel']=label_dict_CAL[5]"
   ]
  },
  {
   "cell_type": "code",
   "execution_count": 181,
   "metadata": {},
   "outputs": [
    {
     "data": {
      "text/plain": [
       "4450"
      ]
     },
     "execution_count": 181,
     "metadata": {},
     "output_type": "execute_result"
    }
   ],
   "source": [
    "len(label_dict_all['squirrel'])"
   ]
  },
  {
   "cell_type": "markdown",
   "metadata": {},
   "source": [
    "## NA MAP"
   ]
  },
  {
   "cell_type": "code",
   "execution_count": 154,
   "metadata": {},
   "outputs": [
    {
     "data": {
      "text/plain": [
       "dict_keys(['cattle', 'wild_boar', 'elk', 'mule_deer', 'black_bear', 'bird', 'squirrel', 'bobcat', 'hare', 'lion', 'fox', 'skunk', 'moose', 'vehicle', 'hedgehog', 'zebra', 'wildebeest', 'gazellethomosons', 'buffalo', 'elephant', 'guineafowl', 'giraffe'])"
      ]
     },
     "execution_count": 154,
     "metadata": {},
     "output_type": "execute_result"
    }
   ],
   "source": [
    "label_dict_all.keys()"
   ]
  },
  {
   "cell_type": "code",
   "execution_count": 183,
   "metadata": {},
   "outputs": [
    {
     "name": "stderr",
     "output_type": "stream",
     "text": [
      "/home/zxt/anaconda3/lib/python3.7/site-packages/IPython/core/interactiveshell.py:3058: DtypeWarning: Columns (3,4,9,10,11,12) have mixed types. Specify dtype option on import or set low_memory=False.\n",
      "  interactivity=interactivity, compiler=compiler, result=result)\n"
     ]
    }
   ],
   "source": [
    "import pandas as pd \n",
    "df = pd.read_csv('/home/zxt/data/nacti_metadata.csv')"
   ]
  },
  {
   "cell_type": "code",
   "execution_count": 184,
   "metadata": {},
   "outputs": [
    {
     "data": {
      "text/html": [
       "<div>\n",
       "<style scoped>\n",
       "    .dataframe tbody tr th:only-of-type {\n",
       "        vertical-align: middle;\n",
       "    }\n",
       "\n",
       "    .dataframe tbody tr th {\n",
       "        vertical-align: top;\n",
       "    }\n",
       "\n",
       "    .dataframe thead th {\n",
       "        text-align: right;\n",
       "    }\n",
       "</style>\n",
       "<table border=\"1\" class=\"dataframe\">\n",
       "  <thead>\n",
       "    <tr style=\"text-align: right;\">\n",
       "      <th></th>\n",
       "      <th>seq_no</th>\n",
       "      <th>id</th>\n",
       "      <th>filename</th>\n",
       "      <th>study</th>\n",
       "      <th>location</th>\n",
       "      <th>width</th>\n",
       "      <th>height</th>\n",
       "      <th>category_id</th>\n",
       "      <th>name</th>\n",
       "      <th>genus</th>\n",
       "      <th>family</th>\n",
       "      <th>order</th>\n",
       "      <th>class</th>\n",
       "      <th>common_name</th>\n",
       "    </tr>\n",
       "  </thead>\n",
       "  <tbody>\n",
       "    <tr>\n",
       "      <td>0</td>\n",
       "      <td>0</td>\n",
       "      <td>2010_Unit150_Ivan097_img0001.jpg</td>\n",
       "      <td>part0/sub000/2010_Unit150_Ivan097_img0001.jpg</td>\n",
       "      <td>CPW</td>\n",
       "      <td>San Juan Mntns, Colorado</td>\n",
       "      <td>2048</td>\n",
       "      <td>1536</td>\n",
       "      <td>10</td>\n",
       "      <td>cervus elaphus</td>\n",
       "      <td>cervus</td>\n",
       "      <td>cervidae</td>\n",
       "      <td>artiodactyla</td>\n",
       "      <td>mammalia</td>\n",
       "      <td>red deer</td>\n",
       "    </tr>\n",
       "    <tr>\n",
       "      <td>1</td>\n",
       "      <td>1</td>\n",
       "      <td>2010_Unit150_Ivan097_img0002.jpg</td>\n",
       "      <td>part0/sub000/2010_Unit150_Ivan097_img0002.jpg</td>\n",
       "      <td>CPW</td>\n",
       "      <td>San Juan Mntns, Colorado</td>\n",
       "      <td>2048</td>\n",
       "      <td>1536</td>\n",
       "      <td>10</td>\n",
       "      <td>cervus elaphus</td>\n",
       "      <td>cervus</td>\n",
       "      <td>cervidae</td>\n",
       "      <td>artiodactyla</td>\n",
       "      <td>mammalia</td>\n",
       "      <td>red deer</td>\n",
       "    </tr>\n",
       "  </tbody>\n",
       "</table>\n",
       "</div>"
      ],
      "text/plain": [
       "   seq_no                                id  \\\n",
       "0       0  2010_Unit150_Ivan097_img0001.jpg   \n",
       "1       1  2010_Unit150_Ivan097_img0002.jpg   \n",
       "\n",
       "                                        filename study  \\\n",
       "0  part0/sub000/2010_Unit150_Ivan097_img0001.jpg   CPW   \n",
       "1  part0/sub000/2010_Unit150_Ivan097_img0002.jpg   CPW   \n",
       "\n",
       "                   location  width  height  category_id            name  \\\n",
       "0  San Juan Mntns, Colorado   2048    1536           10  cervus elaphus   \n",
       "1  San Juan Mntns, Colorado   2048    1536           10  cervus elaphus   \n",
       "\n",
       "    genus    family         order     class common_name  \n",
       "0  cervus  cervidae  artiodactyla  mammalia    red deer  \n",
       "1  cervus  cervidae  artiodactyla  mammalia    red deer  "
      ]
     },
     "execution_count": 184,
     "metadata": {},
     "output_type": "execute_result"
    }
   ],
   "source": [
    "df.head(2)"
   ]
  },
  {
   "cell_type": "code",
   "execution_count": 187,
   "metadata": {},
   "outputs": [
    {
     "data": {
      "text/plain": [
       "array(['red deer', 'coyote', 'american marten', 'mule deer', 'raccoon',\n",
       "       'snowshoe hare', 'cougar', 'american black bear', 'red fox',\n",
       "       'american red squirrel', 'unidentified bird',\n",
       "       'north american porcupine', 'yellow-bellied marmot', 'moose',\n",
       "       'unidentified chipmunk', 'wild turkey', 'domestic cow', 'bobcat',\n",
       "       'horse', 'domestic dog', 'ermine', 'gray jay',\n",
       "       'unidentified deer mouse', 'striped skunk', 'house wren',\n",
       "       \"steller's jay\", 'dusky grouse', 'dark-eyed junco', 'vehicle',\n",
       "       'gray fox', 'eastern gray squirrel', 'wild boar', 'elk',\n",
       "       'california ground squirrel', 'california quail',\n",
       "       'unidentified deer', 'black-tailed jackrabbit',\n",
       "       'long-tailed weasel', 'unidentified rabbit', 'unidentified mouse',\n",
       "       'unidentified pocket gopher', 'unidentified pack rat',\n",
       "       'european badger', 'unidentified corvus', 'virginia opossum',\n",
       "       'unidentified accipitrid', 'wolf', 'north american river otter',\n",
       "       'nine-banded armadillo', 'donkey', 'empty'], dtype=object)"
      ]
     },
     "execution_count": 187,
     "metadata": {},
     "output_type": "execute_result"
    }
   ],
   "source": [
    "df['common_name'].unique()"
   ]
  },
  {
   "cell_type": "code",
   "execution_count": 188,
   "metadata": {},
   "outputs": [],
   "source": [
    "df2= df"
   ]
  },
  {
   "cell_type": "code",
   "execution_count": 189,
   "metadata": {},
   "outputs": [
    {
     "data": {
      "text/plain": [
       "3382215"
      ]
     },
     "execution_count": 189,
     "metadata": {},
     "output_type": "execute_result"
    }
   ],
   "source": [
    "len(df2)"
   ]
  },
  {
   "cell_type": "code",
   "execution_count": 190,
   "metadata": {},
   "outputs": [],
   "source": [
    "df_3 = df2[df2['category_id']==3]\n",
    "df_62 = df2[df2['category_id']==62]\n",
    "df_9 = df2[df2['category_id']==9]\n",
    "df_46 = df2[df2['category_id']==46]\n",
    "\n",
    "df_67 = df2[df2['category_id']==67]\n",
    "df_38 = df2[df2['category_id']==38]\n",
    "df_64 = df2[df2['category_id']==64]\n",
    "df_50 = df2[df2['category_id']==50]\n",
    "df_59 = df2[df2['category_id']==59]\n",
    "\n",
    "df_44 = df2[df2['category_id']==44]\n",
    "df_26 = df2[df2['category_id']==26]\n",
    "df_22 = df2[df2['category_id']==22]\n",
    "df_55 = df2[df2['category_id']==55]\n",
    "\n",
    "df_66 = df2[df2['category_id']==66]\n",
    "df_69 = df2[df2['category_id']==69]\n",
    "df_31 = df2[df2['category_id']==31]\n",
    "df_1 = df2[df2['category_id']==1]\n",
    "df_68 = df2[df2['category_id']==68]"
   ]
  },
  {
   "cell_type": "code",
   "execution_count": 191,
   "metadata": {},
   "outputs": [],
   "source": [
    "df_3_sample = df_3.sample(n=7000,random_state=523,axis=0)    # cattle - 3 - 7000\n",
    "df_62_sample = df_62.sample(n=10000,random_state=523,axis=0)  # wild pig - 62 - 1w\n",
    "df_46_sample = df_46.sample(n=10000,random_state=523,axis=0)  # muler deer - 46 - 1w\n",
    "df_9_sample = df_9.sample(n=10000,random_state=523,axis=0)    # elk - 9 - 1w\n",
    "\n",
    "df_67_sample = df_67.sample(n=10000,random_state=523,axis=0)  # black bear - 67 - 1w\n",
    "df_38_sample = df_38.sample(n=4000,random_state=523,axis=0)  # bird - 38 - 4000\n",
    "df_64_sample = df_64.sample(n=1500,random_state=523,axis=0)  # squirrel - 64 - 1500\n",
    "df_50_sample = df_50.sample(n=1500,random_state=523,axis=0)  # squirrel - 50 - 1500\n",
    "df_59_sample = df_59.sample(n=1500,random_state=523,axis=0)  # squirrel - 59 - 1500\n",
    "\n",
    "\n",
    "df_44_sample = df_44.sample(n=1500,random_state=523,axis=0)  # squirrel - 44 - 1500\n",
    "df_26_sample = df_26.sample(n=6000,random_state=523,axis=0)  # bobcat - 26 - 6000\n",
    "df_22_sample = df_22.sample(n=10000,random_state=523,axis=0)  # hare - 22 - 1w\n",
    "\n",
    "df_55_sample = df_55.sample(n=9960,random_state=523,axis=0)  # mountain_lion - 55 - 9960\n",
    "df_66_sample = df_66.sample(n=5800,random_state=523,axis=0)  # fox - 66 - 5800\n",
    "df_69_sample = df_69.sample(n=1700,random_state=523,axis=0)  # fox - 69 - 1700\n",
    "\n",
    "df_31_sample = df_31.sample(n=10000,random_state=523,axis=0)  # striped skunk - 31 - 1w\n",
    "df_1_sample = df_1.sample(n=9960,random_state=523,axis=0)  # moose - 1 - 9960\n",
    "df_68_sample = df_68.sample(n=6000,random_state=523,axis=0)  # car - 68 - 6000"
   ]
  },
  {
   "cell_type": "code",
   "execution_count": 194,
   "metadata": {},
   "outputs": [],
   "source": [
    "sample_list = [df_3_sample, df_62_sample, df_46_sample,df_67_sample, df_38_sample, df_50_sample,df_59_sample, df_64_sample,df_44_sample,df_9_sample,df_26_sample, df_22_sample,df_55_sample, df_66_sample,df_69_sample, df_31_sample,df_1_sample, df_68_sample]"
   ]
  },
  {
   "cell_type": "code",
   "execution_count": 198,
   "metadata": {},
   "outputs": [
    {
     "data": {
      "text/plain": [
       "18"
      ]
     },
     "execution_count": 198,
     "metadata": {},
     "output_type": "execute_result"
    }
   ],
   "source": [
    "len(sample_list)"
   ]
  },
  {
   "cell_type": "code",
   "execution_count": 201,
   "metadata": {},
   "outputs": [
    {
     "data": {
      "text/html": [
       "<div>\n",
       "<style scoped>\n",
       "    .dataframe tbody tr th:only-of-type {\n",
       "        vertical-align: middle;\n",
       "    }\n",
       "\n",
       "    .dataframe tbody tr th {\n",
       "        vertical-align: top;\n",
       "    }\n",
       "\n",
       "    .dataframe thead th {\n",
       "        text-align: right;\n",
       "    }\n",
       "</style>\n",
       "<table border=\"1\" class=\"dataframe\">\n",
       "  <thead>\n",
       "    <tr style=\"text-align: right;\">\n",
       "      <th></th>\n",
       "      <th>seq_no</th>\n",
       "      <th>id</th>\n",
       "      <th>filename</th>\n",
       "      <th>study</th>\n",
       "      <th>location</th>\n",
       "      <th>width</th>\n",
       "      <th>height</th>\n",
       "      <th>category_id</th>\n",
       "      <th>name</th>\n",
       "      <th>genus</th>\n",
       "      <th>family</th>\n",
       "      <th>order</th>\n",
       "      <th>class</th>\n",
       "      <th>common_name</th>\n",
       "    </tr>\n",
       "  </thead>\n",
       "  <tbody>\n",
       "    <tr>\n",
       "      <td>1810125</td>\n",
       "      <td>1810125</td>\n",
       "      <td>FL-13_06_01_2015_FL-13_0012670.jpg</td>\n",
       "      <td>part1/sub181/FL-13_06_01_2015_FL-13_0012670.jpg</td>\n",
       "      <td>FL</td>\n",
       "      <td>Archbold, FL</td>\n",
       "      <td>2048</td>\n",
       "      <td>1536</td>\n",
       "      <td>3</td>\n",
       "      <td>bos taurus</td>\n",
       "      <td>bos</td>\n",
       "      <td>bovidae</td>\n",
       "      <td>artiodactyla</td>\n",
       "      <td>mammalia</td>\n",
       "      <td>domestic cow</td>\n",
       "    </tr>\n",
       "    <tr>\n",
       "      <td>467341</td>\n",
       "      <td>467341</td>\n",
       "      <td>CA-12_06_07_2016_CA-12_0008354.JPG</td>\n",
       "      <td>part0/sub046/CA-12_06_07_2016_CA-12_0008354.JPG</td>\n",
       "      <td>CA</td>\n",
       "      <td>Lebec, California</td>\n",
       "      <td>2048</td>\n",
       "      <td>1536</td>\n",
       "      <td>3</td>\n",
       "      <td>bos taurus</td>\n",
       "      <td>bos</td>\n",
       "      <td>bovidae</td>\n",
       "      <td>artiodactyla</td>\n",
       "      <td>mammalia</td>\n",
       "      <td>domestic cow</td>\n",
       "    </tr>\n",
       "  </tbody>\n",
       "</table>\n",
       "</div>"
      ],
      "text/plain": [
       "          seq_no                                  id  \\\n",
       "1810125  1810125  FL-13_06_01_2015_FL-13_0012670.jpg   \n",
       "467341    467341  CA-12_06_07_2016_CA-12_0008354.JPG   \n",
       "\n",
       "                                                filename study  \\\n",
       "1810125  part1/sub181/FL-13_06_01_2015_FL-13_0012670.jpg    FL   \n",
       "467341   part0/sub046/CA-12_06_07_2016_CA-12_0008354.JPG    CA   \n",
       "\n",
       "                  location  width  height  category_id        name genus  \\\n",
       "1810125       Archbold, FL   2048    1536            3  bos taurus   bos   \n",
       "467341   Lebec, California   2048    1536            3  bos taurus   bos   \n",
       "\n",
       "          family         order     class   common_name  \n",
       "1810125  bovidae  artiodactyla  mammalia  domestic cow  \n",
       "467341   bovidae  artiodactyla  mammalia  domestic cow  "
      ]
     },
     "execution_count": 201,
     "metadata": {},
     "output_type": "execute_result"
    }
   ],
   "source": [
    "sample_list[0].head(2)"
   ]
  },
  {
   "cell_type": "code",
   "execution_count": 218,
   "metadata": {},
   "outputs": [
    {
     "data": {
      "text/plain": [
       "'part1/sub181/FL-13_06_01_2015_FL-13_0012670.jpg'"
      ]
     },
     "execution_count": 218,
     "metadata": {},
     "output_type": "execute_result"
    }
   ],
   "source": [
    "# cattle  3 \n",
    "lst = list(df_3_sample['filename'])\n",
    "lst[0]"
   ]
  },
  {
   "cell_type": "code",
   "execution_count": 220,
   "metadata": {},
   "outputs": [
    {
     "data": {
      "text/plain": [
       "7000"
      ]
     },
     "execution_count": 220,
     "metadata": {},
     "output_type": "execute_result"
    }
   ],
   "source": [
    "len(lst)"
   ]
  },
  {
   "cell_type": "code",
   "execution_count": 221,
   "metadata": {},
   "outputs": [],
   "source": [
    "lst1 = []\n",
    "for i in lst:\n",
    "    lst1.append(i[13:])"
   ]
  },
  {
   "cell_type": "code",
   "execution_count": 222,
   "metadata": {},
   "outputs": [
    {
     "data": {
      "text/plain": [
       "'FL-13_06_01_2015_FL-13_0012670.jpg'"
      ]
     },
     "execution_count": 222,
     "metadata": {},
     "output_type": "execute_result"
    }
   ],
   "source": [
    "lst1[0]"
   ]
  },
  {
   "cell_type": "code",
   "execution_count": 223,
   "metadata": {},
   "outputs": [
    {
     "data": {
      "text/plain": [
       "7000"
      ]
     },
     "execution_count": 223,
     "metadata": {},
     "output_type": "execute_result"
    }
   ],
   "source": [
    "len(lst1)"
   ]
  },
  {
   "cell_type": "code",
   "execution_count": 224,
   "metadata": {},
   "outputs": [
    {
     "data": {
      "text/plain": [
       "3626"
      ]
     },
     "execution_count": 224,
     "metadata": {},
     "output_type": "execute_result"
    }
   ],
   "source": [
    "len(label_dict_all['cattle'])"
   ]
  },
  {
   "cell_type": "code",
   "execution_count": 225,
   "metadata": {},
   "outputs": [],
   "source": [
    "# cattle 3\n",
    "for i in lst1:\n",
    "    label_dict_all['cattle'].append(i)"
   ]
  },
  {
   "cell_type": "code",
   "execution_count": 226,
   "metadata": {},
   "outputs": [
    {
     "data": {
      "text/plain": [
       "10626"
      ]
     },
     "execution_count": 226,
     "metadata": {},
     "output_type": "execute_result"
    }
   ],
   "source": [
    "len(label_dict_all['cattle'])"
   ]
  },
  {
   "cell_type": "code",
   "execution_count": 230,
   "metadata": {},
   "outputs": [
    {
     "name": "stdout",
     "output_type": "stream",
     "text": [
      "part0/sub039/CA-06_08_04_2015_CA-06_0006826.jpg\n"
     ]
    }
   ],
   "source": [
    "# wild_boar  62\n",
    "\n",
    "lst = list(df_62_sample['filename'])\n",
    "print(lst[0])\n",
    "\n"
   ]
  },
  {
   "cell_type": "code",
   "execution_count": 231,
   "metadata": {},
   "outputs": [],
   "source": [
    "lst1 = []\n",
    "for i in lst:\n",
    "    lst1.append(i[13:])"
   ]
  },
  {
   "cell_type": "code",
   "execution_count": 232,
   "metadata": {},
   "outputs": [
    {
     "data": {
      "text/plain": [
       "'CA-06_08_04_2015_CA-06_0006826.jpg'"
      ]
     },
     "execution_count": 232,
     "metadata": {},
     "output_type": "execute_result"
    }
   ],
   "source": [
    "lst1[0]"
   ]
  },
  {
   "cell_type": "code",
   "execution_count": 233,
   "metadata": {},
   "outputs": [
    {
     "data": {
      "text/plain": [
       "10000"
      ]
     },
     "execution_count": 233,
     "metadata": {},
     "output_type": "execute_result"
    }
   ],
   "source": [
    "len(lst1)"
   ]
  },
  {
   "cell_type": "code",
   "execution_count": 234,
   "metadata": {},
   "outputs": [
    {
     "data": {
      "text/plain": [
       "0"
      ]
     },
     "execution_count": 234,
     "metadata": {},
     "output_type": "execute_result"
    }
   ],
   "source": [
    "len(label_dict_all['wild_boar'])"
   ]
  },
  {
   "cell_type": "code",
   "execution_count": 235,
   "metadata": {},
   "outputs": [],
   "source": [
    "# wild_boar  62\n",
    "for i in lst1:\n",
    "    label_dict_all['wild_boar'].append(i)"
   ]
  },
  {
   "cell_type": "code",
   "execution_count": 236,
   "metadata": {},
   "outputs": [
    {
     "data": {
      "text/plain": [
       "10000"
      ]
     },
     "execution_count": 236,
     "metadata": {},
     "output_type": "execute_result"
    }
   ],
   "source": [
    "len(label_dict_all['wild_boar'])"
   ]
  },
  {
   "cell_type": "code",
   "execution_count": 237,
   "metadata": {},
   "outputs": [
    {
     "name": "stdout",
     "output_type": "stream",
     "text": [
      "part0/sub070/CA-27_08_17_2015_CA-27_0007422.jpg\n",
      "CA-27_08_17_2015_CA-27_0007422.jpg\n",
      "10000\n"
     ]
    }
   ],
   "source": [
    "# elk   9 \n",
    "lst = list(df_9_sample['filename'])\n",
    "print(lst[0])\n",
    "\n",
    "lst1 = []\n",
    "for i in lst:\n",
    "    lst1.append(i[13:])\n",
    "print(lst1[0])\n",
    "\n",
    "print(len(lst1))"
   ]
  },
  {
   "cell_type": "code",
   "execution_count": 243,
   "metadata": {},
   "outputs": [
    {
     "name": "stdout",
     "output_type": "stream",
     "text": [
      "0\n",
      "10000\n"
     ]
    }
   ],
   "source": [
    "print(len(label_dict_all['elk']))\n",
    "for i in lst1:\n",
    "    label_dict_all['elk'].append(i)\n",
    "print(len(label_dict_all['elk']))"
   ]
  },
  {
   "cell_type": "code",
   "execution_count": 247,
   "metadata": {},
   "outputs": [
    {
     "name": "stdout",
     "output_type": "stream",
     "text": [
      "part0/sub032/2016_Unit189_Ivan020_img0190.jpg\n",
      "2016_Unit189_Ivan020_img0190.jpg\n",
      "10000\n"
     ]
    }
   ],
   "source": [
    "# mule_deer   46\n",
    "lst = list(df_46_sample['filename'])\n",
    "print(lst[0])\n",
    "\n",
    "lst1 = []\n",
    "for i in lst:\n",
    "    lst1.append(i[13:])\n",
    "print(lst1[0])\n",
    "\n",
    "print(len(lst1))"
   ]
  },
  {
   "cell_type": "code",
   "execution_count": 248,
   "metadata": {},
   "outputs": [
    {
     "name": "stdout",
     "output_type": "stream",
     "text": [
      "0\n",
      "10000\n"
     ]
    }
   ],
   "source": [
    "print(len(label_dict_all['mule_deer']))\n",
    "for i in lst1:\n",
    "    label_dict_all['mule_deer'].append(i)\n",
    "print(len(label_dict_all['mule_deer']))"
   ]
  },
  {
   "cell_type": "code",
   "execution_count": 249,
   "metadata": {},
   "outputs": [
    {
     "name": "stdout",
     "output_type": "stream",
     "text": [
      "part0/sub058/CA-18_11_08_2016_CA-18_0040729.JPG\n",
      "CA-18_11_08_2016_CA-18_0040729.JPG\n",
      "10000\n"
     ]
    }
   ],
   "source": [
    "# black_bear   67\n",
    "lst = list(df_67_sample['filename'])\n",
    "print(lst[0])\n",
    "\n",
    "lst1 = []\n",
    "for i in lst:\n",
    "    lst1.append(i[13:])\n",
    "print(lst1[0])\n",
    "\n",
    "print(len(lst1))"
   ]
  },
  {
   "cell_type": "code",
   "execution_count": 250,
   "metadata": {},
   "outputs": [
    {
     "name": "stdout",
     "output_type": "stream",
     "text": [
      "0\n",
      "10000\n"
     ]
    }
   ],
   "source": [
    "print(len(label_dict_all['black_bear']))\n",
    "for i in lst1:\n",
    "    label_dict_all['black_bear'].append(i)\n",
    "print(len(label_dict_all['black_bear']))"
   ]
  },
  {
   "cell_type": "code",
   "execution_count": 251,
   "metadata": {},
   "outputs": [
    {
     "name": "stdout",
     "output_type": "stream",
     "text": [
      "part2/sub227/FL-22_07_06_2016_FL-22_0110742.JPG\n",
      "FL-22_07_06_2016_FL-22_0110742.JPG\n",
      "4000\n"
     ]
    }
   ],
   "source": [
    "# bird   38\n",
    "lst = list(df_38_sample['filename'])\n",
    "print(lst[0])\n",
    "\n",
    "lst1 = []\n",
    "for i in lst:\n",
    "    lst1.append(i[13:])\n",
    "print(lst1[0])\n",
    "\n",
    "print(len(lst1))"
   ]
  },
  {
   "cell_type": "code",
   "execution_count": 252,
   "metadata": {},
   "outputs": [
    {
     "name": "stdout",
     "output_type": "stream",
     "text": [
      "10003\n",
      "14003\n"
     ]
    }
   ],
   "source": [
    "print(len(label_dict_all['bird']))\n",
    "for i in lst1:\n",
    "    label_dict_all['bird'].append(i)\n",
    "print(len(label_dict_all['bird']))"
   ]
  },
  {
   "cell_type": "code",
   "execution_count": 253,
   "metadata": {},
   "outputs": [
    {
     "name": "stdout",
     "output_type": "stream",
     "text": [
      "part0/sub026/2016_Unit031_Ivan080_img0457.jpg\n",
      "2016_Unit031_Ivan080_img0457.jpg\n",
      "6000\n"
     ]
    }
   ],
   "source": [
    "# squirrel  64 50 59 44\n",
    "lst = list(df_64_sample['filename']) + list(df_50_sample['filename']) +list(df_59_sample['filename'])+list(df_44_sample['filename'])\n",
    "print(lst[0])\n",
    "\n",
    "lst1 = []\n",
    "for i in lst:\n",
    "    lst1.append(i[13:])\n",
    "print(lst1[0])\n",
    "\n",
    "print(len(lst1))"
   ]
  },
  {
   "cell_type": "code",
   "execution_count": 254,
   "metadata": {},
   "outputs": [
    {
     "name": "stdout",
     "output_type": "stream",
     "text": [
      "4450\n",
      "10450\n"
     ]
    }
   ],
   "source": [
    "print(len(label_dict_all['squirrel']))\n",
    "for i in lst1:\n",
    "    label_dict_all['squirrel'].append(i)\n",
    "print(len(label_dict_all['squirrel']))"
   ]
  },
  {
   "cell_type": "code",
   "execution_count": 255,
   "metadata": {},
   "outputs": [
    {
     "name": "stdout",
     "output_type": "stream",
     "text": [
      "part0/sub032/CA-01_02_11_2016_CA-01_0006858.jpg\n",
      "CA-01_02_11_2016_CA-01_0006858.jpg\n",
      "6000\n"
     ]
    }
   ],
   "source": [
    "# bobcat   26\n",
    "lst = list(df_26_sample['filename'])\n",
    "print(lst[0])\n",
    "\n",
    "lst1 = []\n",
    "for i in lst:\n",
    "    lst1.append(i[13:])\n",
    "print(lst1[0])\n",
    "\n",
    "print(len(lst1))"
   ]
  },
  {
   "cell_type": "code",
   "execution_count": 256,
   "metadata": {},
   "outputs": [
    {
     "name": "stdout",
     "output_type": "stream",
     "text": [
      "8098\n",
      "14098\n"
     ]
    }
   ],
   "source": [
    "print(len(label_dict_all['bobcat']))\n",
    "for i in lst1:\n",
    "    label_dict_all['bobcat'].append(i)\n",
    "print(len(label_dict_all['bobcat']))"
   ]
  },
  {
   "cell_type": "code",
   "execution_count": 257,
   "metadata": {},
   "outputs": [
    {
     "name": "stdout",
     "output_type": "stream",
     "text": [
      "part0/sub006/2010_Unit175_Ivan037_img0078.jpg\n",
      "2010_Unit175_Ivan037_img0078.jpg\n",
      "10000\n"
     ]
    }
   ],
   "source": [
    "# hare    22\n",
    "lst = list(df_22_sample['filename'])\n",
    "print(lst[0])\n",
    "\n",
    "lst1 = []\n",
    "for i in lst:\n",
    "    lst1.append(i[13:])\n",
    "print(lst1[0])\n",
    "\n",
    "print(len(lst1))"
   ]
  },
  {
   "cell_type": "code",
   "execution_count": 258,
   "metadata": {},
   "outputs": [
    {
     "name": "stdout",
     "output_type": "stream",
     "text": [
      "0\n",
      "10000\n"
     ]
    }
   ],
   "source": [
    "print(len(label_dict_all['hare']))\n",
    "for i in lst1:\n",
    "    label_dict_all['hare'].append(i)\n",
    "print(len(label_dict_all['hare']))"
   ]
  },
  {
   "cell_type": "code",
   "execution_count": 259,
   "metadata": {},
   "outputs": [
    {
     "name": "stdout",
     "output_type": "stream",
     "text": [
      "part0/sub049/CA-14_08_25_2016_CA-14_0021262.JPG\n",
      "CA-14_08_25_2016_CA-14_0021262.JPG\n",
      "9960\n"
     ]
    }
   ],
   "source": [
    "# lion    55\n",
    "lst = list(df_55_sample['filename'])\n",
    "print(lst[0])\n",
    "\n",
    "lst1 = []\n",
    "for i in lst:\n",
    "    lst1.append(i[13:])\n",
    "print(lst1[0])\n",
    "\n",
    "print(len(lst1))"
   ]
  },
  {
   "cell_type": "code",
   "execution_count": 260,
   "metadata": {},
   "outputs": [
    {
     "name": "stdout",
     "output_type": "stream",
     "text": [
      "6330\n",
      "16290\n"
     ]
    }
   ],
   "source": [
    "print(len(label_dict_all['lion']))\n",
    "for i in lst1:\n",
    "    label_dict_all['lion'].append(i)\n",
    "print(len(label_dict_all['lion']))"
   ]
  },
  {
   "cell_type": "code",
   "execution_count": 261,
   "metadata": {},
   "outputs": [
    {
     "name": "stdout",
     "output_type": "stream",
     "text": [
      "part0/sub038/CA-05_03_03_2015_CA-05_0000100.jpg\n",
      "CA-05_03_03_2015_CA-05_0000100.jpg\n",
      "7500\n"
     ]
    }
   ],
   "source": [
    "# fox    66 69\n",
    "lst = list(df_66_sample['filename']) + list(df_69_sample['filename'])\n",
    "print(lst[0])\n",
    "\n",
    "lst1 = []\n",
    "for i in lst:\n",
    "    lst1.append(i[13:])\n",
    "print(lst1[0])\n",
    "\n",
    "print(len(lst1))"
   ]
  },
  {
   "cell_type": "code",
   "execution_count": 262,
   "metadata": {},
   "outputs": [
    {
     "name": "stdout",
     "output_type": "stream",
     "text": [
      "2574\n",
      "10074\n"
     ]
    }
   ],
   "source": [
    "print(len(label_dict_all['fox']))\n",
    "for i in lst1:\n",
    "    label_dict_all['fox'].append(i)\n",
    "print(len(label_dict_all['fox']))"
   ]
  },
  {
   "cell_type": "code",
   "execution_count": 263,
   "metadata": {},
   "outputs": [
    {
     "name": "stdout",
     "output_type": "stream",
     "text": [
      "part0/sub066/CA-24_08_12_2015_CA-24_0006356.jpg\n",
      "CA-24_08_12_2015_CA-24_0006356.jpg\n",
      "10000\n"
     ]
    }
   ],
   "source": [
    "# skunk 31\n",
    "lst = list(df_31_sample['filename'])\n",
    "print(lst[0])\n",
    "\n",
    "lst1 = []\n",
    "for i in lst:\n",
    "    lst1.append(i[13:])\n",
    "print(lst1[0])\n",
    "\n",
    "print(len(lst1))"
   ]
  },
  {
   "cell_type": "code",
   "execution_count": 264,
   "metadata": {},
   "outputs": [
    {
     "name": "stdout",
     "output_type": "stream",
     "text": [
      "1898\n",
      "11898\n"
     ]
    }
   ],
   "source": [
    "print(len(label_dict_all['skunk']))\n",
    "for i in lst1:\n",
    "    label_dict_all['skunk'].append(i)\n",
    "print(len(label_dict_all['skunk']))"
   ]
  },
  {
   "cell_type": "code",
   "execution_count": 265,
   "metadata": {},
   "outputs": [
    {
     "name": "stdout",
     "output_type": "stream",
     "text": [
      "part0/sub004/2010_Unit162_Ivan119_img0147.jpg\n",
      "2010_Unit162_Ivan119_img0147.jpg\n",
      "9960\n"
     ]
    }
   ],
   "source": [
    "# moose 1\n",
    "lst = list(df_1_sample['filename'])\n",
    "print(lst[0])\n",
    "\n",
    "lst1 = []\n",
    "for i in lst:\n",
    "    lst1.append(i[13:])\n",
    "print(lst1[0])\n",
    "\n",
    "print(len(lst1))"
   ]
  },
  {
   "cell_type": "code",
   "execution_count": 266,
   "metadata": {},
   "outputs": [
    {
     "name": "stdout",
     "output_type": "stream",
     "text": [
      "0\n",
      "9960\n"
     ]
    }
   ],
   "source": [
    "print(len(label_dict_all['moose']))\n",
    "for i in lst1:\n",
    "    label_dict_all['moose'].append(i)\n",
    "print(len(label_dict_all['moose']))"
   ]
  },
  {
   "cell_type": "code",
   "execution_count": 267,
   "metadata": {},
   "outputs": [
    {
     "name": "stdout",
     "output_type": "stream",
     "text": [
      "part1/sub168/FL-09_09_03_2015_FL-09_0033391.jpg\n",
      "FL-09_09_03_2015_FL-09_0033391.jpg\n",
      "6000\n"
     ]
    }
   ],
   "source": [
    "# vehicle 68\n",
    "lst = list(df_68_sample['filename'])\n",
    "print(lst[0])\n",
    "\n",
    "lst1 = []\n",
    "for i in lst:\n",
    "    lst1.append(i[13:])\n",
    "print(lst1[0])\n",
    "\n",
    "print(len(lst1))"
   ]
  },
  {
   "cell_type": "code",
   "execution_count": 268,
   "metadata": {},
   "outputs": [
    {
     "name": "stdout",
     "output_type": "stream",
     "text": [
      "4717\n",
      "10717\n"
     ]
    }
   ],
   "source": [
    "print(len(label_dict_all['vehicle']))\n",
    "for i in lst1:\n",
    "    label_dict_all['vehicle'].append(i)\n",
    "print(len(label_dict_all['vehicle']))"
   ]
  },
  {
   "cell_type": "markdown",
   "metadata": {},
   "source": [
    "## WELLINGTON MAP"
   ]
  },
  {
   "cell_type": "code",
   "execution_count": 269,
   "metadata": {},
   "outputs": [],
   "source": [
    "df = pd.read_csv('/home/zxt/data/wellington_camera_traps.csv')"
   ]
  },
  {
   "cell_type": "code",
   "execution_count": 271,
   "metadata": {},
   "outputs": [],
   "source": [
    "all_bird = df[df['label']=='BIRD']\n",
    "all_hedgehog = df[df['label']=='HEDGEHOG']\n",
    "all_hare = df[df['label']=='HARE']"
   ]
  },
  {
   "cell_type": "code",
   "execution_count": 272,
   "metadata": {},
   "outputs": [
    {
     "name": "stdout",
     "output_type": "stream",
     "text": [
      "all_bird: 154525\n",
      "all_hedgehog: 10706\n",
      "all_hare: 207\n"
     ]
    }
   ],
   "source": [
    "print('all_bird: '+ str(len(all_bird)))\n",
    "print('all_hedgehog: '+ str(len(all_hedgehog)))\n",
    "print('all_hare: '+ str(len(all_hare)))"
   ]
  },
  {
   "cell_type": "code",
   "execution_count": 273,
   "metadata": {},
   "outputs": [],
   "source": [
    "import random\n",
    "random.seed(523)"
   ]
  },
  {
   "cell_type": "code",
   "execution_count": 274,
   "metadata": {},
   "outputs": [
    {
     "data": {
      "text/html": [
       "<div>\n",
       "<style scoped>\n",
       "    .dataframe tbody tr th:only-of-type {\n",
       "        vertical-align: middle;\n",
       "    }\n",
       "\n",
       "    .dataframe tbody tr th {\n",
       "        vertical-align: top;\n",
       "    }\n",
       "\n",
       "    .dataframe thead th {\n",
       "        text-align: right;\n",
       "    }\n",
       "</style>\n",
       "<table border=\"1\" class=\"dataframe\">\n",
       "  <thead>\n",
       "    <tr style=\"text-align: right;\">\n",
       "      <th></th>\n",
       "      <th>sequence</th>\n",
       "      <th>image_sequence</th>\n",
       "      <th>file</th>\n",
       "      <th>label</th>\n",
       "      <th>site</th>\n",
       "      <th>date</th>\n",
       "      <th>camera</th>\n",
       "    </tr>\n",
       "  </thead>\n",
       "  <tbody>\n",
       "    <tr>\n",
       "      <td>0</td>\n",
       "      <td>2</td>\n",
       "      <td>image1</td>\n",
       "      <td>290716114012001a1116.jpg</td>\n",
       "      <td>BIRD</td>\n",
       "      <td>001a</td>\n",
       "      <td>7/29/2016 11:40</td>\n",
       "      <td>111</td>\n",
       "    </tr>\n",
       "    <tr>\n",
       "      <td>1</td>\n",
       "      <td>12</td>\n",
       "      <td>image1</td>\n",
       "      <td>100816090812001a1111.jpg</td>\n",
       "      <td>BIRD</td>\n",
       "      <td>001a</td>\n",
       "      <td>8/10/2016 9:08</td>\n",
       "      <td>111</td>\n",
       "    </tr>\n",
       "  </tbody>\n",
       "</table>\n",
       "</div>"
      ],
      "text/plain": [
       "   sequence image_sequence                      file label  site  \\\n",
       "0         2         image1  290716114012001a1116.jpg  BIRD  001a   \n",
       "1        12         image1  100816090812001a1111.jpg  BIRD  001a   \n",
       "\n",
       "              date camera  \n",
       "0  7/29/2016 11:40    111  \n",
       "1   8/10/2016 9:08    111  "
      ]
     },
     "execution_count": 274,
     "metadata": {},
     "output_type": "execute_result"
    }
   ],
   "source": [
    "all_bird[:2]"
   ]
  },
  {
   "cell_type": "code",
   "execution_count": 275,
   "metadata": {},
   "outputs": [],
   "source": [
    "all_bird_name = list(all_bird['file'])\n",
    "all_hedgehog_name = list(all_hedgehog['file'])\n",
    "all_hare_name = list(all_hare['file'])"
   ]
  },
  {
   "cell_type": "code",
   "execution_count": 276,
   "metadata": {},
   "outputs": [],
   "source": [
    "sample_bird = random.sample(all_bird_name, 3000)\n",
    "sample_hedgehog = random.sample(all_hedgehog_name,10000)\n",
    "sample_hare = all_hare_name"
   ]
  },
  {
   "cell_type": "code",
   "execution_count": 277,
   "metadata": {},
   "outputs": [
    {
     "name": "stdout",
     "output_type": "stream",
     "text": [
      "3000\n",
      "10000\n",
      "207\n"
     ]
    }
   ],
   "source": [
    "print(len(sample_bird))\n",
    "print(len(sample_hedgehog))\n",
    "print(len(sample_hare))"
   ]
  },
  {
   "cell_type": "code",
   "execution_count": 278,
   "metadata": {},
   "outputs": [
    {
     "data": {
      "text/plain": [
       "'170616162852024c9711.jpg'"
      ]
     },
     "execution_count": 278,
     "metadata": {},
     "output_type": "execute_result"
    }
   ],
   "source": [
    "sample_hare[0]"
   ]
  },
  {
   "cell_type": "code",
   "execution_count": 280,
   "metadata": {},
   "outputs": [
    {
     "data": {
      "text/plain": [
       "'251016153404001bs172.jpg'"
      ]
     },
     "execution_count": 280,
     "metadata": {},
     "output_type": "execute_result"
    }
   ],
   "source": [
    "sample_bird[0]"
   ]
  },
  {
   "cell_type": "code",
   "execution_count": 281,
   "metadata": {},
   "outputs": [
    {
     "data": {
      "text/plain": [
       "'251016153404001bs172.JPG'"
      ]
     },
     "execution_count": 281,
     "metadata": {},
     "output_type": "execute_result"
    }
   ],
   "source": [
    "# bird\n",
    "lst1 = []\n",
    "for i in sample_bird:\n",
    "    lst1.append(i[:-3]+'JPG')\n",
    "lst1[0]"
   ]
  },
  {
   "cell_type": "code",
   "execution_count": 282,
   "metadata": {},
   "outputs": [
    {
     "data": {
      "text/plain": [
       "3000"
      ]
     },
     "execution_count": 282,
     "metadata": {},
     "output_type": "execute_result"
    }
   ],
   "source": [
    "len(lst1)"
   ]
  },
  {
   "cell_type": "code",
   "execution_count": 283,
   "metadata": {},
   "outputs": [
    {
     "name": "stdout",
     "output_type": "stream",
     "text": [
      "14003\n",
      "17003\n"
     ]
    }
   ],
   "source": [
    "print(len(label_dict_all['bird']))\n",
    "for i in lst1:\n",
    "    label_dict_all['bird'].append(i)\n",
    "print(len(label_dict_all['bird']))"
   ]
  },
  {
   "cell_type": "code",
   "execution_count": 284,
   "metadata": {},
   "outputs": [
    {
     "data": {
      "text/plain": [
       "'260316223310046b0153.JPG'"
      ]
     },
     "execution_count": 284,
     "metadata": {},
     "output_type": "execute_result"
    }
   ],
   "source": [
    "# hedgehog\n",
    "lst1 = []\n",
    "for i in sample_hedgehog:\n",
    "    lst1.append(i[:-3]+'JPG')\n",
    "lst1[0]"
   ]
  },
  {
   "cell_type": "code",
   "execution_count": 285,
   "metadata": {},
   "outputs": [
    {
     "data": {
      "text/plain": [
       "10000"
      ]
     },
     "execution_count": 285,
     "metadata": {},
     "output_type": "execute_result"
    }
   ],
   "source": [
    "len(lst1)"
   ]
  },
  {
   "cell_type": "code",
   "execution_count": 286,
   "metadata": {},
   "outputs": [
    {
     "name": "stdout",
     "output_type": "stream",
     "text": [
      "0\n",
      "10000\n"
     ]
    }
   ],
   "source": [
    "print(len(label_dict_all['hedgehog']))\n",
    "for i in lst1:\n",
    "    label_dict_all['hedgehog'].append(i)\n",
    "print(len(label_dict_all['hedgehog']))"
   ]
  },
  {
   "cell_type": "code",
   "execution_count": 287,
   "metadata": {},
   "outputs": [
    {
     "data": {
      "text/plain": [
       "'170616162852024c9711.JPG'"
      ]
     },
     "execution_count": 287,
     "metadata": {},
     "output_type": "execute_result"
    }
   ],
   "source": [
    "# hare\n",
    "lst1 = []\n",
    "for i in sample_hare:\n",
    "    lst1.append(i[:-3]+'JPG')\n",
    "lst1[0]"
   ]
  },
  {
   "cell_type": "code",
   "execution_count": 288,
   "metadata": {},
   "outputs": [
    {
     "data": {
      "text/plain": [
       "207"
      ]
     },
     "execution_count": 288,
     "metadata": {},
     "output_type": "execute_result"
    }
   ],
   "source": [
    "len(lst1)"
   ]
  },
  {
   "cell_type": "code",
   "execution_count": 289,
   "metadata": {},
   "outputs": [
    {
     "name": "stdout",
     "output_type": "stream",
     "text": [
      "10000\n",
      "10207\n"
     ]
    }
   ],
   "source": [
    "print(len(label_dict_all['hare']))\n",
    "for i in lst1:\n",
    "    label_dict_all['hare'].append(i)\n",
    "print(len(label_dict_all['hare']))"
   ]
  },
  {
   "cell_type": "markdown",
   "metadata": {},
   "source": [
    "# NOW IS THE FINAL label_dict_all"
   ]
  },
  {
   "cell_type": "code",
   "execution_count": 290,
   "metadata": {},
   "outputs": [
    {
     "data": {
      "text/plain": [
       "dict_keys(['cattle', 'wild_boar', 'elk', 'mule_deer', 'black_bear', 'bird', 'squirrel', 'bobcat', 'hare', 'lion', 'fox', 'skunk', 'moose', 'vehicle', 'hedgehog', 'zebra', 'wildebeest', 'gazellethomosons', 'buffalo', 'elephant', 'guineafowl', 'giraffe'])"
      ]
     },
     "execution_count": 290,
     "metadata": {},
     "output_type": "execute_result"
    }
   ],
   "source": [
    "label_dict_all.keys()"
   ]
  },
  {
   "cell_type": "code",
   "execution_count": 295,
   "metadata": {},
   "outputs": [
    {
     "name": "stdout",
     "output_type": "stream",
     "text": [
      "cattle has: 10626\n",
      "wild_boar has: 10000\n",
      "elk has: 10000\n",
      "mule_deer has: 10000\n",
      "black_bear has: 10000\n",
      "bird has: 17003\n",
      "squirrel has: 10450\n",
      "bobcat has: 14098\n",
      "hare has: 10207\n",
      "lion has: 16290\n",
      "fox has: 10074\n",
      "skunk has: 11898\n",
      "moose has: 9960\n",
      "vehicle has: 10717\n",
      "hedgehog has: 10000\n",
      "zebra has: 28951\n",
      "wildebeest has: 63925\n",
      "gazellethomosons has: 17062\n",
      "buffalo has: 15511\n",
      "elephant has: 18628\n",
      "guineafowl has: 10447\n",
      "giraffe has: 0\n"
     ]
    }
   ],
   "source": [
    "print('cattle has: '+str(len(label_dict_all['cattle'])))\n",
    "print('wild_boar has: '+str(len(label_dict_all['wild_boar'])))\n",
    "print('elk has: '+str(len(label_dict_all['elk'])))\n",
    "print('mule_deer has: '+str(len(label_dict_all['mule_deer'])))\n",
    "print('black_bear has: '+str(len(label_dict_all['black_bear'])))\n",
    "\n",
    "print('bird has: '+str(len(label_dict_all['bird'])))\n",
    "print('squirrel has: '+str(len(label_dict_all['squirrel'])))\n",
    "print('bobcat has: '+str(len(label_dict_all['bobcat'])))\n",
    "print('hare has: '+str(len(label_dict_all['hare'])))\n",
    "print('lion has: '+str(len(label_dict_all['lion'])))\n",
    "\n",
    "print('fox has: '+str(len(label_dict_all['fox'])))\n",
    "print('skunk has: '+str(len(label_dict_all['skunk'])))\n",
    "print('moose has: '+str(len(label_dict_all['moose'])))\n",
    "print('vehicle has: '+str(len(label_dict_all['vehicle'])))\n",
    "print('hedgehog has: '+str(len(label_dict_all['hedgehog'])))\n",
    "\n",
    "print('zebra has: '+str(len(label_dict_all['zebra'])))\n",
    "print('wildebeest has: '+str(len(label_dict_all['wildebeest'])))\n",
    "print('gazellethomosons has: '+str(len(label_dict_all['gazellethomosons'])))\n",
    "print('buffalo has: '+str(len(label_dict_all['buffalo'])))\n",
    "print('elephant has: '+str(len(label_dict_all['elephant'])))\n",
    "\n",
    "print('guineafowl has: '+str(len(label_dict_all['guineafowl'])))\n",
    "print('giraffe has: '+str(len(label_dict_all['giraffe'])))\n"
   ]
  },
  {
   "cell_type": "code",
   "execution_count": null,
   "metadata": {},
   "outputs": [],
   "source": []
  },
  {
   "cell_type": "code",
   "execution_count": null,
   "metadata": {},
   "outputs": [],
   "source": []
  },
  {
   "cell_type": "code",
   "execution_count": null,
   "metadata": {},
   "outputs": [],
   "source": []
  },
  {
   "cell_type": "code",
   "execution_count": null,
   "metadata": {},
   "outputs": [],
   "source": []
  }
 ],
 "metadata": {
  "kernelspec": {
   "display_name": "Python 3",
   "language": "python",
   "name": "python3"
  },
  "language_info": {
   "codemirror_mode": {
    "name": "ipython",
    "version": 3
   },
   "file_extension": ".py",
   "mimetype": "text/x-python",
   "name": "python",
   "nbconvert_exporter": "python",
   "pygments_lexer": "ipython3",
   "version": "3.7.4"
  }
 },
 "nbformat": 4,
 "nbformat_minor": 4
}
