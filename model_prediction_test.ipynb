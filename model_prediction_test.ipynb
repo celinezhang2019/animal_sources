{
 "cells": [
  {
   "cell_type": "markdown",
   "metadata": {},
   "source": [
    "### Test h5.model prediction"
   ]
  },
  {
   "cell_type": "code",
   "execution_count": 17,
   "metadata": {},
   "outputs": [],
   "source": [
    "from keras.models import load_model\n",
    "from keras.utils import np_utils\n",
    "class_num =20"
   ]
  },
  {
   "cell_type": "code",
   "execution_count": 5,
   "metadata": {},
   "outputs": [],
   "source": [
    "path = '/home/zxt/data/128/5k_size/'"
   ]
  },
  {
   "cell_type": "code",
   "execution_count": 3,
   "metadata": {},
   "outputs": [],
   "source": [
    "model = load_model('/home/zxt/data/128/model/model_vgg_200epoch_32batch_2k_128.h5')"
   ]
  },
  {
   "cell_type": "code",
   "execution_count": 6,
   "metadata": {},
   "outputs": [],
   "source": [
    "import  numpy as np\n",
    "X_test = np.load(path+'X_test_128.npy')\n",
    "Y_test = np.load(path+'Y_test_128.npy')"
   ]
  },
  {
   "cell_type": "code",
   "execution_count": 7,
   "metadata": {},
   "outputs": [],
   "source": [
    "predict = model.predict(X_test)"
   ]
  },
  {
   "cell_type": "code",
   "execution_count": 8,
   "metadata": {},
   "outputs": [
    {
     "data": {
      "text/plain": [
       "array([[2.4214180e-02, 6.8267420e-02, 2.7509673e-02, ..., 2.2726551e-02,\n",
       "        5.8826722e-02, 6.9114514e-02],\n",
       "       [2.7490454e-02, 4.4411920e-02, 8.3980158e-02, ..., 7.6266848e-02,\n",
       "        8.1003852e-02, 2.4114465e-02],\n",
       "       [1.0897921e-08, 8.0207522e-17, 2.5726437e-13, ..., 6.8780531e-07,\n",
       "        6.8425757e-06, 4.3019067e-16],\n",
       "       ...,\n",
       "       [7.1038154e-04, 1.8567118e-01, 1.9268431e-04, ..., 4.9829356e-02,\n",
       "        1.9494091e-07, 5.5817649e-02],\n",
       "       [5.2524194e-02, 4.9123827e-02, 5.1768217e-02, ..., 5.1291440e-02,\n",
       "        5.2986607e-02, 4.9019806e-02],\n",
       "       [3.2535598e-02, 4.9764894e-02, 3.8627606e-02, ..., 6.2951341e-02,\n",
       "        6.0362262e-03, 1.0858396e-01]], dtype=float32)"
      ]
     },
     "execution_count": 8,
     "metadata": {},
     "output_type": "execute_result"
    }
   ],
   "source": [
    "predict"
   ]
  },
  {
   "cell_type": "code",
   "execution_count": 8,
   "metadata": {},
   "outputs": [
    {
     "data": {
      "text/plain": [
       "9000"
      ]
     },
     "execution_count": 8,
     "metadata": {},
     "output_type": "execute_result"
    }
   ],
   "source": [
    "len(predict)"
   ]
  },
  {
   "cell_type": "code",
   "execution_count": 9,
   "metadata": {},
   "outputs": [
    {
     "data": {
      "text/plain": [
       "9000"
      ]
     },
     "execution_count": 9,
     "metadata": {},
     "output_type": "execute_result"
    }
   ],
   "source": [
    "len(Y_test)"
   ]
  },
  {
   "cell_type": "code",
   "execution_count": 10,
   "metadata": {},
   "outputs": [
    {
     "data": {
      "text/plain": [
       "array([['fox'],\n",
       "       ['black_bear'],\n",
       "       ['cattle'],\n",
       "       ['cattle'],\n",
       "       ['fox']], dtype='<U16')"
      ]
     },
     "execution_count": 10,
     "metadata": {},
     "output_type": "execute_result"
    }
   ],
   "source": [
    "Y_test[:5]"
   ]
  },
  {
   "cell_type": "code",
   "execution_count": 15,
   "metadata": {},
   "outputs": [
    {
     "data": {
      "text/plain": [
       "array([[2.42141802e-02, 6.82674199e-02, 2.75096726e-02, 4.42745052e-02,\n",
       "        4.19245176e-02, 4.29995656e-02, 8.86883214e-02, 5.41208573e-02,\n",
       "        7.12266192e-02, 3.42463627e-02, 6.52256384e-02, 2.84163859e-02,\n",
       "        9.97349527e-03, 9.02075768e-02, 5.29141352e-02, 7.99621418e-02,\n",
       "        2.51607168e-02, 2.27265507e-02, 5.88267222e-02, 6.91145137e-02],\n",
       "       [2.74904538e-02, 4.44119200e-02, 8.39801580e-02, 2.24148966e-02,\n",
       "        3.34977657e-02, 8.51244256e-02, 3.93065289e-02, 3.12454738e-02,\n",
       "        2.95881350e-02, 2.00510826e-02, 6.08657412e-02, 7.70855248e-02,\n",
       "        1.66875366e-02, 6.61816671e-02, 7.84482509e-02, 4.81810272e-02,\n",
       "        5.40542565e-02, 7.62668476e-02, 8.10038522e-02, 2.41144653e-02],\n",
       "       [1.08979208e-08, 8.02075218e-17, 2.57264370e-13, 8.82384238e-16,\n",
       "        9.99979138e-01, 3.45930119e-14, 1.01807676e-16, 5.93320999e-15,\n",
       "        5.34487344e-06, 4.01313628e-06, 8.16003928e-15, 1.24997411e-13,\n",
       "        7.59976970e-08, 8.75933909e-11, 4.00555863e-13, 3.61896127e-06,\n",
       "        3.40670823e-07, 6.87805311e-07, 6.84257566e-06, 4.30190670e-16],\n",
       "       [2.77929064e-02, 4.45422605e-02, 8.35079402e-02, 2.27034483e-02,\n",
       "        3.36938575e-02, 8.46397430e-02, 3.94824110e-02, 3.14976275e-02,\n",
       "        2.98550408e-02, 2.03345288e-02, 6.08358830e-02, 7.67854229e-02,\n",
       "        1.69672687e-02, 6.60004988e-02, 7.81008527e-02, 4.82736975e-02,\n",
       "        5.40313274e-02, 7.59348720e-02, 8.06184709e-02, 2.44019348e-02],\n",
       "       [5.25241941e-02, 4.91238274e-02, 5.17682172e-02, 4.85849530e-02,\n",
       "        4.51772958e-02, 5.22190556e-02, 4.82742861e-02, 4.89671417e-02,\n",
       "        4.94499169e-02, 4.73172255e-02, 5.33083268e-02, 5.35007417e-02,\n",
       "        4.69808467e-02, 4.97146212e-02, 5.24861738e-02, 4.97476570e-02,\n",
       "        4.75577191e-02, 5.12914397e-02, 5.29866070e-02, 4.90198061e-02]],\n",
       "      dtype=float32)"
      ]
     },
     "execution_count": 15,
     "metadata": {},
     "output_type": "execute_result"
    }
   ],
   "source": [
    "predict[:5]"
   ]
  },
  {
   "cell_type": "code",
   "execution_count": 11,
   "metadata": {},
   "outputs": [],
   "source": [
    "for i in Y_test:\n",
    "    if i[0]=='elephant':\n",
    "        i[0]=0\n",
    "    if i[0]=='wild_boar':\n",
    "        i[0]=1\n",
    "    if i[0]=='gazellethomosons':\n",
    "        i[0]=2\n",
    "    if i[0]=='squirrel':\n",
    "        i[0]=3 \n",
    "    if i[0]=='hedgehog':\n",
    "        i[0]=4\n",
    "    if i[0]=='guineafowl':\n",
    "        i[0]=5\n",
    "    if i[0]=='moose':\n",
    "        i[0]=6\n",
    "    if i[0]=='bobcat':\n",
    "        i[0]=7   \n",
    "    if i[0]=='bird':\n",
    "        i[0]=8\n",
    "    if i[0]=='fox':\n",
    "        i[0]=9\n",
    "    if i[0]=='giraffe':\n",
    "        i[0]=10\n",
    "    if i[0]=='buffalo':\n",
    "        i[0]=11\n",
    "    if i[0]=='hare':\n",
    "        i[0]=12\n",
    "    if i[0]=='vehicle':\n",
    "        i[0]=13\n",
    "    if i[0]=='wildebeest':\n",
    "        i[0]=14\n",
    "    if i[0]=='cattle':\n",
    "        i[0]=15 \n",
    "    if i[0]=='skunk':\n",
    "        i[0]=16\n",
    "    if i[0]=='lion':\n",
    "        i[0]=17\n",
    "    if i[0]=='zebra':\n",
    "        i[0]=18\n",
    "    if i[0]=='black_bear':\n",
    "        i[0]=19"
   ]
  },
  {
   "cell_type": "code",
   "execution_count": 12,
   "metadata": {},
   "outputs": [
    {
     "data": {
      "text/plain": [
       "array([['9'],\n",
       "       ['19'],\n",
       "       ['15'],\n",
       "       ...,\n",
       "       ['2'],\n",
       "       ['18'],\n",
       "       ['0']], dtype='<U16')"
      ]
     },
     "execution_count": 12,
     "metadata": {},
     "output_type": "execute_result"
    }
   ],
   "source": [
    "Y_test"
   ]
  },
  {
   "cell_type": "code",
   "execution_count": 13,
   "metadata": {},
   "outputs": [
    {
     "name": "stdout",
     "output_type": "stream",
     "text": [
      "['0' '1' '10' '11' '12' '13' '14' '15' '16' '17' '18' '19' '2' '3' '4' '5'\n",
      " '6' '7' '8' '9']\n"
     ]
    }
   ],
   "source": [
    "print(np.unique(Y_test))"
   ]
  },
  {
   "cell_type": "code",
   "execution_count": 18,
   "metadata": {},
   "outputs": [],
   "source": [
    "Y_test_1 = np_utils.to_categorical(Y_test, class_num)"
   ]
  },
  {
   "cell_type": "code",
   "execution_count": 20,
   "metadata": {},
   "outputs": [
    {
     "data": {
      "text/plain": [
       "array([0., 0., 0., 0., 0., 0., 0., 0., 0., 1., 0., 0., 0., 0., 0., 0., 0.,\n",
       "       0., 0., 0.], dtype=float32)"
      ]
     },
     "execution_count": 20,
     "metadata": {},
     "output_type": "execute_result"
    }
   ],
   "source": [
    "Y_test_1[0]"
   ]
  },
  {
   "cell_type": "code",
   "execution_count": 21,
   "metadata": {},
   "outputs": [
    {
     "data": {
      "text/plain": [
       "array(['9'], dtype='<U16')"
      ]
     },
     "execution_count": 21,
     "metadata": {},
     "output_type": "execute_result"
    }
   ],
   "source": [
    "Y_test[0]"
   ]
  },
  {
   "cell_type": "code",
   "execution_count": 24,
   "metadata": {},
   "outputs": [
    {
     "name": "stdout",
     "output_type": "stream",
     "text": [
      "9000/9000 [==============================] - 27s 3ms/step\n",
      "\n",
      "test loss 0.9050455861091614\n",
      "accuracy 0.8583333492279053\n"
     ]
    }
   ],
   "source": [
    "loss,accuracy = model.evaluate(X_test,Y_test_1)\n",
    "print('\\ntest loss',loss)\n",
    "print('accuracy',accuracy)"
   ]
  },
  {
   "cell_type": "code",
   "execution_count": null,
   "metadata": {},
   "outputs": [],
   "source": []
  },
  {
   "cell_type": "code",
   "execution_count": null,
   "metadata": {},
   "outputs": [],
   "source": []
  },
  {
   "cell_type": "code",
   "execution_count": null,
   "metadata": {},
   "outputs": [],
   "source": []
  }
 ],
 "metadata": {
  "kernelspec": {
   "display_name": "Python 3",
   "language": "python",
   "name": "python3"
  },
  "language_info": {
   "codemirror_mode": {
    "name": "ipython",
    "version": 3
   },
   "file_extension": ".py",
   "mimetype": "text/x-python",
   "name": "python",
   "nbconvert_exporter": "python",
   "pygments_lexer": "ipython3",
   "version": "3.7.4"
  }
 },
 "nbformat": 4,
 "nbformat_minor": 4
}
