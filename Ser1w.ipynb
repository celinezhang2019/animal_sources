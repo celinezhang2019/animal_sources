{
 "cells": [
  {
   "cell_type": "code",
   "execution_count": 82,
   "metadata": {},
   "outputs": [],
   "source": [
    "path = '/home/zxt/data/S10'"
   ]
  },
  {
   "cell_type": "code",
   "execution_count": 83,
   "metadata": {},
   "outputs": [],
   "source": [
    "import random, os, shutil,json\n",
    "\n",
    "animal_1w = [5, 18,15,7,11,13,21,39,17]\n",
    "label_dict = {5:[],18:[],15:[],7:[],11:[],13:[],21:[],39:[],17:[]}\n",
    "label_dict_S09 = {5:[],18:[],15:[],7:[],11:[],13:[],21:[],39:[],17:[]}"
   ]
  },
  {
   "cell_type": "code",
   "execution_count": 84,
   "metadata": {},
   "outputs": [],
   "source": [
    "train_file = '/home/zxt/data/SnapshotSerengetiS10.json'\n",
    "\n",
    "with open(train_file) as data_file:\n",
    "    train_anns = json.load(data_file)\n",
    "\n",
    "    for i in train_anns['annotations']:   \n",
    "        if i['category_id'] in animal_1w:\n",
    "#             if i['count'] == '1':\n",
    "            label_dict[i['category_id']].append(i['image_id']+'.jpg')"
   ]
  },
  {
   "cell_type": "code",
   "execution_count": 4,
   "metadata": {},
   "outputs": [
    {
     "name": "stdout",
     "output_type": "stream",
     "text": [
      "5: 28951\n",
      "18: 63925\n",
      "15: 4702\n",
      "7: 17062\n",
      "11: 4148\n",
      "13: 2974\n",
      "21: 1336\n",
      "39: 515\n",
      "17: 2219\n"
     ]
    }
   ],
   "source": [
    "print('5: '+str(len(label_dict[5])))\n",
    "print('18: '+str(len(label_dict[18])))\n",
    "print('15: '+str(len(label_dict[15])))\n",
    "print('7: '+str(len(label_dict[7])))\n",
    "print('11: '+str(len(label_dict[11])))\n",
    "print('13: '+str(len(label_dict[13])))\n",
    "print('21: '+str(len(label_dict[21])))\n",
    "print('39: '+str(len(label_dict[39])))\n",
    "print('17: '+str(len(label_dict[17])))"
   ]
  },
  {
   "cell_type": "markdown",
   "metadata": {},
   "source": [
    "### CHECK THE DUPLICATED IMAGES"
   ]
  },
  {
   "cell_type": "code",
   "execution_count": 85,
   "metadata": {},
   "outputs": [
    {
     "name": "stdout",
     "output_type": "stream",
     "text": [
      "5 has: 28951\n",
      "18 has: 63925\n",
      "15 has: 4702\n",
      "7 has: 17062\n",
      "11 has: 4148\n",
      "13 has: 2974\n",
      "21 has: 1336\n",
      "39 has: 515\n",
      "17 has: 2219\n"
     ]
    }
   ],
   "source": [
    "all_5 = label_dict[5]\n",
    "all_18 = label_dict[18]\n",
    "all_15 = label_dict[15]\n",
    "all_7 = label_dict[7]\n",
    "all_11 = label_dict[11]\n",
    "all_13 = label_dict[13]\n",
    "all_21 = label_dict[21]\n",
    "all_39 = label_dict[39]\n",
    "all_17 = label_dict[17]\n",
    "\n",
    "\n",
    "print('5 has: '+str(len(all_5)))\n",
    "print('18 has: '+str(len(all_18)))\n",
    "print('15 has: '+str(len(all_15)))\n",
    "print('7 has: '+str(len(all_7)))\n",
    "print('11 has: '+str(len(all_11)))\n",
    "print('13 has: '+str(len(all_13)))\n",
    "print('21 has: '+str(len(all_21)))\n",
    "print('39 has: '+str(len(all_39)))\n",
    "print('17 has: '+str(len(all_17)))"
   ]
  },
  {
   "cell_type": "code",
   "execution_count": 86,
   "metadata": {},
   "outputs": [
    {
     "data": {
      "text/plain": [
       "125832"
      ]
     },
     "execution_count": 86,
     "metadata": {},
     "output_type": "execute_result"
    }
   ],
   "source": [
    "all = all_5+all_18+all_15+all_7+all_11+all_13+all_21+all_39+all_17\n",
    "len(all)"
   ]
  },
  {
   "cell_type": "code",
   "execution_count": 7,
   "metadata": {},
   "outputs": [
    {
     "data": {
      "text/plain": [
       "'S10/B03/B03_R1/S10_B03_R1_IMAG0531.jpg'"
      ]
     },
     "execution_count": 7,
     "metadata": {},
     "output_type": "execute_result"
    }
   ],
   "source": [
    "all[0]"
   ]
  },
  {
   "cell_type": "code",
   "execution_count": 8,
   "metadata": {},
   "outputs": [],
   "source": [
    "# check if any duplicated value:\n",
    "from collections import Counter\n",
    "b = dict(Counter(all))\n",
    "# print ([key for key,value in b.items()if value > 1])\n",
    "duplicated_image = [key for key,value in b.items()if value > 1]\n",
    "# print ({key:value for key,value in b.items()if value > 1})"
   ]
  },
  {
   "cell_type": "code",
   "execution_count": 9,
   "metadata": {},
   "outputs": [
    {
     "data": {
      "text/plain": [
       "6794"
      ]
     },
     "execution_count": 9,
     "metadata": {},
     "output_type": "execute_result"
    }
   ],
   "source": [
    "len(duplicated_image)"
   ]
  },
  {
   "cell_type": "markdown",
   "metadata": {},
   "source": [
    "### DELETE THE DUPLICATED IMAGES FOR EACH CATEGORY"
   ]
  },
  {
   "cell_type": "code",
   "execution_count": 10,
   "metadata": {},
   "outputs": [],
   "source": [
    "sample_base_5 =list(set(all_5).difference(set(duplicated_image)))"
   ]
  },
  {
   "cell_type": "code",
   "execution_count": 11,
   "metadata": {},
   "outputs": [
    {
     "data": {
      "text/plain": [
       "22479"
      ]
     },
     "execution_count": 11,
     "metadata": {},
     "output_type": "execute_result"
    }
   ],
   "source": [
    "len(sample_base_5)"
   ]
  },
  {
   "cell_type": "code",
   "execution_count": 12,
   "metadata": {},
   "outputs": [
    {
     "data": {
      "text/plain": [
       "28951"
      ]
     },
     "execution_count": 12,
     "metadata": {},
     "output_type": "execute_result"
    }
   ],
   "source": [
    "len(all_5)"
   ]
  },
  {
   "cell_type": "code",
   "execution_count": 13,
   "metadata": {},
   "outputs": [
    {
     "data": {
      "text/plain": [
       "6472"
      ]
     },
     "execution_count": 13,
     "metadata": {},
     "output_type": "execute_result"
    }
   ],
   "source": [
    "len(all_5)- len(sample_base_5)"
   ]
  },
  {
   "cell_type": "code",
   "execution_count": 15,
   "metadata": {},
   "outputs": [],
   "source": [
    "sample_base_18 = list(set(all_18).difference(set(duplicated_image)))\n",
    "sample_base_15 = list(set(all_15).difference(set(duplicated_image)))\n",
    "sample_base_7 = list(set(all_7).difference(set(duplicated_image)))\n",
    "sample_base_11 = list(set(all_11).difference(set(duplicated_image)))\n",
    "\n",
    "sample_base_13 = list(set(all_13).difference(set(duplicated_image)))\n",
    "sample_base_21 = list(set(all_21).difference(set(duplicated_image)))\n",
    "sample_base_39 = list(set(all_39).difference(set(duplicated_image)))\n",
    "sample_base_17 = list(set(all_17).difference(set(duplicated_image)))\n"
   ]
  },
  {
   "cell_type": "code",
   "execution_count": 87,
   "metadata": {},
   "outputs": [
    {
     "name": "stdout",
     "output_type": "stream",
     "text": [
      "sample_base_5:22479\n",
      "sample_base_18:57502\n",
      "sample_base_15:4641\n",
      "sample_base_7:16758\n",
      "sample_base_11:4115\n",
      "sample_base_13:2919\n",
      "sample_base_21:1282\n",
      "sample_base_39:455\n",
      "sample_base_17:2084\n"
     ]
    }
   ],
   "source": [
    "print('sample_base_5:' + str(len(sample_base_5)))\n",
    "print('sample_base_18:' + str(len(sample_base_18)))\n",
    "print('sample_base_15:' + str(len(sample_base_15)))\n",
    "print('sample_base_7:' + str(len(sample_base_7)))\n",
    "print('sample_base_11:' + str(len(sample_base_11)))\n",
    "print('sample_base_13:' + str(len(sample_base_13)))\n",
    "print('sample_base_21:' + str(len(sample_base_21)))\n",
    "print('sample_base_39:' + str(len(sample_base_39)))\n",
    "print('sample_base_17:' + str(len(sample_base_17)))"
   ]
  },
  {
   "cell_type": "markdown",
   "metadata": {},
   "source": [
    "### SAMPLING"
   ]
  },
  {
   "cell_type": "code",
   "execution_count": 88,
   "metadata": {},
   "outputs": [
    {
     "name": "stdout",
     "output_type": "stream",
     "text": [
      "sample_all: 30000\n"
     ]
    }
   ],
   "source": [
    "# copy 1w 5 & 18 & 7 to the TARGET FOLDER\n",
    "random.seed(523)\n",
    "sample_5   =  random.sample(sample_base_5, 10000)\n",
    "sample_18  =  random.sample(sample_base_18, 10000)\n",
    "sample_7   =  random.sample(sample_base_7, 10000)\n",
    "\n",
    "sample_all = sample_5+sample_18+sample_7\n",
    "print('sample_all: '+str(len(sample_all)))"
   ]
  },
  {
   "cell_type": "code",
   "execution_count": 89,
   "metadata": {},
   "outputs": [
    {
     "data": {
      "text/plain": [
       "'S10/N06/N06_R2/S10_N06_R2_IMAG1749.jpg'"
      ]
     },
     "execution_count": 89,
     "metadata": {},
     "output_type": "execute_result"
    }
   ],
   "source": [
    "sample_all[0]"
   ]
  },
  {
   "cell_type": "code",
   "execution_count": 90,
   "metadata": {},
   "outputs": [
    {
     "name": "stdout",
     "output_type": "stream",
     "text": [
      "{}\n"
     ]
    }
   ],
   "source": [
    "# check if any duplicated value:\n",
    "from collections import Counter\n",
    "b = dict(Counter(sample_all))\n",
    "# print ([key for key,value in b.items()if value > 1])\n",
    "# duplicated_image = [key for key,value in b.items()if value > 1]\n",
    "print ({key:value for key,value in b.items()if value > 1})"
   ]
  },
  {
   "cell_type": "code",
   "execution_count": 91,
   "metadata": {},
   "outputs": [
    {
     "data": {
      "text/plain": [
       "30000"
      ]
     },
     "execution_count": 91,
     "metadata": {},
     "output_type": "execute_result"
    }
   ],
   "source": [
    "len(sample_all)"
   ]
  },
  {
   "cell_type": "code",
   "execution_count": 92,
   "metadata": {},
   "outputs": [],
   "source": [
    "import os, shutil\n",
    "# the target path\n",
    "target_path = '/home/zxt/data/SER1W/'\n",
    "\n",
    "# the original file path \n",
    "origi_path = '/home/zxt/data/'"
   ]
  },
  {
   "cell_type": "code",
   "execution_count": 93,
   "metadata": {},
   "outputs": [],
   "source": [
    "sample0 = sample_all[1]"
   ]
  },
  {
   "cell_type": "code",
   "execution_count": 95,
   "metadata": {},
   "outputs": [
    {
     "data": {
      "text/plain": [
       "'/home/zxt/data/S10/C02/C02_R2/S10_C02_R2_IMAG0385.JPG'"
      ]
     },
     "execution_count": 95,
     "metadata": {},
     "output_type": "execute_result"
    }
   ],
   "source": [
    "origi_path+sample0[:-3]+'JPG'"
   ]
  },
  {
   "cell_type": "code",
   "execution_count": 96,
   "metadata": {},
   "outputs": [],
   "source": [
    "Filelist = []\n",
    "for i in sample_all:\n",
    "    Filelist.append(origi_path+i[:-3]+'JPG')"
   ]
  },
  {
   "cell_type": "code",
   "execution_count": 133,
   "metadata": {},
   "outputs": [
    {
     "data": {
      "text/plain": [
       "30000"
      ]
     },
     "execution_count": 133,
     "metadata": {},
     "output_type": "execute_result"
    }
   ],
   "source": [
    "len(Filelist)"
   ]
  },
  {
   "cell_type": "code",
   "execution_count": 134,
   "metadata": {},
   "outputs": [
    {
     "data": {
      "text/plain": [
       "['/home/zxt/data/S10/N06/N06_R2/S10_N06_R2_IMAG1749.JPG',\n",
       " '/home/zxt/data/S10/C02/C02_R2/S10_C02_R2_IMAG0385.JPG']"
      ]
     },
     "execution_count": 134,
     "metadata": {},
     "output_type": "execute_result"
    }
   ],
   "source": [
    "Filelist[:2]"
   ]
  },
  {
   "cell_type": "code",
   "execution_count": 99,
   "metadata": {},
   "outputs": [
    {
     "name": "stdout",
     "output_type": "stream",
     "text": [
      "Total 29994 images copied into the folder.\n",
      "There are 6 images in json but not exist in images.\n"
     ]
    }
   ],
   "source": [
    "nonelist = []\n",
    "count = 0\n",
    "for i in Filelist:\n",
    "    try:\n",
    "        shutil.copy(i, target_path)\n",
    "        count+=1\n",
    "    except:\n",
    "        nonelist.append(i)\n",
    "        \n",
    "print('Total '+str(count)+' images copied into the folder.')\n",
    "print('There are '+str(len(nonelist))+ ' images in json but not exist in images.')"
   ]
  },
  {
   "cell_type": "code",
   "execution_count": 100,
   "metadata": {},
   "outputs": [
    {
     "data": {
      "text/plain": [
       "['/home/zxt/data/S10/I06/I06_R1/S10_I06_R1_IMAG1193.JPG',\n",
       " '/home/zxt/data/S10/I06/I06_R1/S10_I06_R1_IMAG1192.JPG',\n",
       " '/home/zxt/data/S10/C06/C06_R1/S10_C06_R1_IMAG0661.JPG',\n",
       " '/home/zxt/data/S10/C06/C06_R1/S10_C06_R1_IMAG0660.JPG',\n",
       " '/home/zxt/data/S10/I06/I06_R1/S10_I06_R1_IMAG0558.JPG',\n",
       " '/home/zxt/data/S10/I06/I06_R1/S10_I06_R1_IMAG1618.JPG']"
      ]
     },
     "execution_count": 100,
     "metadata": {},
     "output_type": "execute_result"
    }
   ],
   "source": [
    "nonelist"
   ]
  },
  {
   "cell_type": "code",
   "execution_count": 69,
   "metadata": {},
   "outputs": [
    {
     "data": {
      "text/plain": [
       "['/home/zxt/data/S10/I06/I06_R1/S10_I06_R1_IMAG0559.JPG',\n",
       " '/home/zxt/data/S10/I06/I06_R1/S10_I06_R1_IMAG0557.JPG',\n",
       " '/home/zxt/data/S10/I06/I06_R1/S10_I06_R1_IMAG1191.JPG',\n",
       " '/home/zxt/data/S10/C06/C06_R1/S10_C06_R1_IMAG0661.JPG',\n",
       " '/home/zxt/data/S10/I06/I06_R1/S10_I06_R1_IMAG1570.JPG',\n",
       " '/home/zxt/data/S10/I06/I06_R1/S10_I06_R1_IMAG1579.JPG']"
      ]
     },
     "execution_count": 69,
     "metadata": {},
     "output_type": "execute_result"
    }
   ],
   "source": [
    "nonelist"
   ]
  },
  {
   "cell_type": "markdown",
   "metadata": {},
   "source": [
    "### Supply the nonelist to each category"
   ]
  },
  {
   "cell_type": "code",
   "execution_count": null,
   "metadata": {},
   "outputs": [],
   "source": [
    "all_5[:2]"
   ]
  },
  {
   "cell_type": "code",
   "execution_count": 101,
   "metadata": {},
   "outputs": [
    {
     "name": "stdout",
     "output_type": "stream",
     "text": [
      "S10/C06/C06_R1/S10_C06_R1_IMAG0660.jpg\n",
      "S10/C06/C06_R1/S10_C06_R1_IMAG0661.jpg\n",
      "S10/I06/I06_R1/S10_I06_R1_IMAG0558.jpg\n",
      "S10/I06/I06_R1/S10_I06_R1_IMAG1192.jpg\n",
      "S10/I06/I06_R1/S10_I06_R1_IMAG1193.jpg\n"
     ]
    }
   ],
   "source": [
    "for i in all_5:\n",
    "    j = origi_path+i[:-3]+'JPG'\n",
    "#     print(j)\n",
    "    if j in nonelist:\n",
    "        print(i)"
   ]
  },
  {
   "cell_type": "code",
   "execution_count": 102,
   "metadata": {},
   "outputs": [
    {
     "name": "stdout",
     "output_type": "stream",
     "text": [
      "S10/I06/I06_R1/S10_I06_R1_IMAG1618.jpg\n"
     ]
    }
   ],
   "source": [
    "for i in all_18:\n",
    "    j = origi_path+i[:-3]+'JPG'\n",
    "    if j in nonelist:\n",
    "        print(i)"
   ]
  },
  {
   "cell_type": "code",
   "execution_count": 104,
   "metadata": {},
   "outputs": [],
   "source": [
    "for i in all_7:\n",
    "    j = origi_path+i[:-3]+'JPG'\n",
    "    if j in nonelist:\n",
    "        print(i)"
   ]
  },
  {
   "cell_type": "code",
   "execution_count": 103,
   "metadata": {},
   "outputs": [
    {
     "data": {
      "text/plain": [
       "['S10/K11/K11_R1/S10_K11_R1_IMAG0216.jpg',\n",
       " 'S10/O13/O13_R3/S10_O13_R3_IMAG0302.jpg']"
      ]
     },
     "execution_count": 103,
     "metadata": {},
     "output_type": "execute_result"
    }
   ],
   "source": [
    "sample_base_5[:2]"
   ]
  },
  {
   "cell_type": "markdown",
   "metadata": {},
   "source": [
    "#### sample_base_5 - smaple_5"
   ]
  },
  {
   "cell_type": "code",
   "execution_count": 105,
   "metadata": {},
   "outputs": [],
   "source": [
    "sample_supply_5 = list(set(sample_base_5).difference(set(sample_5)))"
   ]
  },
  {
   "cell_type": "code",
   "execution_count": 106,
   "metadata": {},
   "outputs": [
    {
     "name": "stdout",
     "output_type": "stream",
     "text": [
      "22479\n",
      "10000\n",
      "12479\n"
     ]
    }
   ],
   "source": [
    "print(len(sample_base_5))\n",
    "print(len(sample_5))\n",
    "print(len(sample_supply_5))"
   ]
  },
  {
   "cell_type": "code",
   "execution_count": 107,
   "metadata": {},
   "outputs": [],
   "source": [
    "sample_supply_18 = list(set(sample_base_18).difference(set(sample_18)))"
   ]
  },
  {
   "cell_type": "code",
   "execution_count": 108,
   "metadata": {},
   "outputs": [
    {
     "name": "stdout",
     "output_type": "stream",
     "text": [
      "57502\n",
      "10000\n",
      "47502\n"
     ]
    }
   ],
   "source": [
    "print(len(sample_base_18))\n",
    "print(len(sample_18))\n",
    "print(len(sample_supply_18))"
   ]
  },
  {
   "cell_type": "code",
   "execution_count": 110,
   "metadata": {},
   "outputs": [],
   "source": [
    "random.seed(523)\n",
    "sample_5_supply5 = random.sample(sample_supply_5,5)\n",
    "sample_18_supply1 = random.sample(sample_supply_18,1)"
   ]
  },
  {
   "cell_type": "code",
   "execution_count": 111,
   "metadata": {},
   "outputs": [
    {
     "data": {
      "text/plain": [
       "['S10/Q12/Q12_R2/S10_Q12_R2_IMAG3607.jpg',\n",
       " 'S10/C07/C07_R1/S10_C07_R1_IMAG0220.jpg',\n",
       " 'S10/N09/N09_R3/S10_N09_R3_IMAG0957.jpg',\n",
       " 'S10/D04/D04_R1/S10_D04_R1_IMAG0621.jpg',\n",
       " 'S10/P05/P05_R1/S10_P05_R1_IMAG0574.jpg']"
      ]
     },
     "execution_count": 111,
     "metadata": {},
     "output_type": "execute_result"
    }
   ],
   "source": [
    "sample_5_supply5"
   ]
  },
  {
   "cell_type": "code",
   "execution_count": 112,
   "metadata": {},
   "outputs": [
    {
     "data": {
      "text/plain": [
       "['S10/I04/I04_R1/S10_I04_R1_IMAG0352.jpg']"
      ]
     },
     "execution_count": 112,
     "metadata": {},
     "output_type": "execute_result"
    }
   ],
   "source": [
    "sample_18_supply1"
   ]
  },
  {
   "cell_type": "code",
   "execution_count": 113,
   "metadata": {},
   "outputs": [],
   "source": [
    "sample_supply_all = sample_5_supply5 +sample_18_supply1"
   ]
  },
  {
   "cell_type": "code",
   "execution_count": 114,
   "metadata": {},
   "outputs": [
    {
     "data": {
      "text/plain": [
       "['S10/Q12/Q12_R2/S10_Q12_R2_IMAG3607.jpg',\n",
       " 'S10/C07/C07_R1/S10_C07_R1_IMAG0220.jpg',\n",
       " 'S10/N09/N09_R3/S10_N09_R3_IMAG0957.jpg',\n",
       " 'S10/D04/D04_R1/S10_D04_R1_IMAG0621.jpg',\n",
       " 'S10/P05/P05_R1/S10_P05_R1_IMAG0574.jpg',\n",
       " 'S10/I04/I04_R1/S10_I04_R1_IMAG0352.jpg']"
      ]
     },
     "execution_count": 114,
     "metadata": {},
     "output_type": "execute_result"
    }
   ],
   "source": [
    "sample_supply_all"
   ]
  },
  {
   "cell_type": "code",
   "execution_count": 115,
   "metadata": {},
   "outputs": [
    {
     "name": "stdout",
     "output_type": "stream",
     "text": [
      "Total 6 images copied into the folder.\n",
      "There are 0 images in json but not exist in images.\n"
     ]
    }
   ],
   "source": [
    "nonelist3 = []\n",
    "count = 0\n",
    "for i in sample_supply_all:\n",
    "    j = origi_path +i[:-3]+'JPG'\n",
    "    try:\n",
    "        shutil.copy(j, target_path)\n",
    "        count+=1\n",
    "    except:\n",
    "        nonelist3.append(j)\n",
    "        \n",
    "print('Total '+str(count)+' images copied into the folder.')\n",
    "print('There are '+str(len(nonelist3))+ ' images in json but not exist in images.')"
   ]
  },
  {
   "cell_type": "code",
   "execution_count": 33,
   "metadata": {},
   "outputs": [],
   "source": [
    "img_list = os.listdir(target_path)"
   ]
  },
  {
   "cell_type": "code",
   "execution_count": 34,
   "metadata": {},
   "outputs": [
    {
     "data": {
      "text/plain": [
       "19999"
      ]
     },
     "execution_count": 34,
     "metadata": {},
     "output_type": "execute_result"
    }
   ],
   "source": [
    "len(img_list)"
   ]
  },
  {
   "cell_type": "markdown",
   "metadata": {},
   "source": [
    "### COPY THE OTHER SAMPLE_BASE_X CATEGORIES"
   ]
  },
  {
   "cell_type": "code",
   "execution_count": 116,
   "metadata": {},
   "outputs": [],
   "source": [
    "sample_all_other = sample_base_15+sample_base_11+sample_base_13+ sample_base_21+sample_base_39+sample_base_17          "
   ]
  },
  {
   "cell_type": "code",
   "execution_count": 117,
   "metadata": {},
   "outputs": [
    {
     "data": {
      "text/plain": [
       "15496"
      ]
     },
     "execution_count": 117,
     "metadata": {},
     "output_type": "execute_result"
    }
   ],
   "source": [
    "len(sample_all_other)"
   ]
  },
  {
   "cell_type": "code",
   "execution_count": 118,
   "metadata": {},
   "outputs": [
    {
     "data": {
      "text/plain": [
       "'S10/H02/H02_R2/S10_H02_R2_IMAG0347.jpg'"
      ]
     },
     "execution_count": 118,
     "metadata": {},
     "output_type": "execute_result"
    }
   ],
   "source": [
    "sample_all_other[0]"
   ]
  },
  {
   "cell_type": "code",
   "execution_count": 119,
   "metadata": {},
   "outputs": [],
   "source": [
    "Filelist2 = []\n",
    "for i in sample_all_other:\n",
    "    j = origi_path +i[:-3]+'JPG'\n",
    "    Filelist2.append(j)"
   ]
  },
  {
   "cell_type": "code",
   "execution_count": 120,
   "metadata": {},
   "outputs": [
    {
     "data": {
      "text/plain": [
       "15496"
      ]
     },
     "execution_count": 120,
     "metadata": {},
     "output_type": "execute_result"
    }
   ],
   "source": [
    "len(Filelist2)"
   ]
  },
  {
   "cell_type": "code",
   "execution_count": 121,
   "metadata": {},
   "outputs": [
    {
     "data": {
      "text/plain": [
       "['/home/zxt/data/S10/H02/H02_R2/S10_H02_R2_IMAG0347.JPG',\n",
       " '/home/zxt/data/S10/O11/O11_R1/S10_O11_R1_IMAG0076.JPG']"
      ]
     },
     "execution_count": 121,
     "metadata": {},
     "output_type": "execute_result"
    }
   ],
   "source": [
    "Filelist2[:2]"
   ]
  },
  {
   "cell_type": "markdown",
   "metadata": {},
   "source": [
    "Check duplications:"
   ]
  },
  {
   "cell_type": "code",
   "execution_count": 123,
   "metadata": {},
   "outputs": [
    {
     "name": "stdout",
     "output_type": "stream",
     "text": [
      "{}\n"
     ]
    }
   ],
   "source": [
    "# check if any duplicated value:\n",
    "from collections import Counter\n",
    "b = dict(Counter(Filelist2))\n",
    "# print ([key for key,value in b.items()if value > 1])\n",
    "# duplicated_image = [key for key,value in b.items()if value > 1]\n",
    "print ({key:value for key,value in b.items()if value > 1})"
   ]
  },
  {
   "cell_type": "code",
   "execution_count": 124,
   "metadata": {},
   "outputs": [
    {
     "data": {
      "text/plain": [
       "'/home/zxt/data/SER1W/'"
      ]
     },
     "execution_count": 124,
     "metadata": {},
     "output_type": "execute_result"
    }
   ],
   "source": [
    "target_path"
   ]
  },
  {
   "cell_type": "code",
   "execution_count": 127,
   "metadata": {},
   "outputs": [
    {
     "data": {
      "text/plain": [
       "15496"
      ]
     },
     "execution_count": 127,
     "metadata": {},
     "output_type": "execute_result"
    }
   ],
   "source": [
    "len(Filelist2)"
   ]
  },
  {
   "cell_type": "code",
   "execution_count": 125,
   "metadata": {},
   "outputs": [
    {
     "name": "stdout",
     "output_type": "stream",
     "text": [
      "Total 15478 images copied into the folder.\n",
      "There are 0 images in json but not exist in images.\n"
     ]
    }
   ],
   "source": [
    "nonelist_other = []\n",
    "count = 0\n",
    "for i in Filelist2:\n",
    "    try:\n",
    "        shutil.copy(i, target_path)\n",
    "        count+=1\n",
    "    except:\n",
    "        nonelist.append(i)\n",
    "        \n",
    "print('Total '+str(count)+' images copied into the folder.')\n",
    "print('There are '+str(len(nonelist_other))+ ' images in json but not exist in images.')"
   ]
  },
  {
   "cell_type": "code",
   "execution_count": 130,
   "metadata": {},
   "outputs": [],
   "source": [
    "check = Filelist + Filelist2"
   ]
  },
  {
   "cell_type": "code",
   "execution_count": 132,
   "metadata": {},
   "outputs": [
    {
     "name": "stdout",
     "output_type": "stream",
     "text": [
      "{}\n"
     ]
    }
   ],
   "source": [
    "# check if any duplicated value:\n",
    "from collections import Counter\n",
    "b = dict(Counter(check))\n",
    "# print ([key for key,value in b.items()if value > 1])\n",
    "# duplicated_image = [key for key,value in b.items()if value > 1]\n",
    "print ({key:value for key,value in b.items()if value > 1})"
   ]
  },
  {
   "cell_type": "code",
   "execution_count": null,
   "metadata": {},
   "outputs": [],
   "source": []
  },
  {
   "cell_type": "code",
   "execution_count": 129,
   "metadata": {},
   "outputs": [
    {
     "data": {
      "text/plain": [
       "18"
      ]
     },
     "execution_count": 129,
     "metadata": {},
     "output_type": "execute_result"
    }
   ],
   "source": [
    "15496-15478"
   ]
  },
  {
   "cell_type": "markdown",
   "metadata": {},
   "source": [
    "18 images are missing!!"
   ]
  },
  {
   "cell_type": "code",
   "execution_count": null,
   "metadata": {},
   "outputs": [],
   "source": []
  },
  {
   "cell_type": "markdown",
   "metadata": {},
   "source": [
    "CHECKTHE OTHER CATEGORIES DATA VOLUME"
   ]
  },
  {
   "cell_type": "code",
   "execution_count": 126,
   "metadata": {},
   "outputs": [
    {
     "name": "stdout",
     "output_type": "stream",
     "text": [
      "sample_base_15:4641\n",
      "sample_base_11:4115\n",
      "sample_base_13:2919\n",
      "sample_base_21:1282\n",
      "sample_base_39:455\n",
      "sample_base_17:2084\n"
     ]
    }
   ],
   "source": [
    "print('sample_base_15:' + str(len(sample_base_15)))\n",
    "print('sample_base_11:' + str(len(sample_base_11)))\n",
    "print('sample_base_13:' + str(len(sample_base_13)))\n",
    "print('sample_base_21:' + str(len(sample_base_21)))\n",
    "print('sample_base_39:' + str(len(sample_base_39)))\n",
    "print('sample_base_17:' + str(len(sample_base_17)))"
   ]
  },
  {
   "cell_type": "markdown",
   "metadata": {},
   "source": [
    "### Supply data volume for other categories:"
   ]
  },
  {
   "cell_type": "code",
   "execution_count": 81,
   "metadata": {},
   "outputs": [
    {
     "name": "stdout",
     "output_type": "stream",
     "text": [
      "15 needs: 5359\n",
      "7 needs: -6758\n",
      "11 needs: 5885\n",
      "13 needs: 7081\n",
      "21 needs: 8718\n",
      "39 needs: 9545\n",
      "17 needs: 7916\n"
     ]
    }
   ],
   "source": [
    "print('15 needs: ' + str(10000-len(sample_base_15)))\n",
    "print('7 needs: ' + str(10000-len(sample_base_7)))\n",
    "print('11 needs: ' + str(10000-len(sample_base_11)))\n",
    "print('13 needs: ' + str(10000-len(sample_base_13)))\n",
    "print('21 needs: ' + str(10000-len(sample_base_21)))\n",
    "print('39 needs: ' + str(10000-len(sample_base_39)))\n",
    "print('17 needs: ' + str(10000-len(sample_base_17)))"
   ]
  },
  {
   "cell_type": "code",
   "execution_count": null,
   "metadata": {},
   "outputs": [],
   "source": []
  },
  {
   "cell_type": "markdown",
   "metadata": {},
   "source": [
    "### STORING THE LIST TO CSV FILE"
   ]
  },
  {
   "cell_type": "code",
   "execution_count": 143,
   "metadata": {},
   "outputs": [
    {
     "data": {
      "text/plain": [
       "(30000, 1)"
      ]
     },
     "execution_count": 143,
     "metadata": {},
     "output_type": "execute_result"
    }
   ],
   "source": [
    "import pandas as pd\n",
    "\n",
    "name = ['image_id']\n",
    "filelist_5_18_7 = pd.DataFrame(columns=name, data=Filelist)\n",
    "filelist_5_18_7.head()\n",
    "filelist_5_18_7.shape\n",
    "# filelist_5_18_7.to_csv('/home/zxt/data/backupdata/SER/filelist_5_18_7.csv', encoding='gbk')"
   ]
  },
  {
   "cell_type": "code",
   "execution_count": 144,
   "metadata": {},
   "outputs": [
    {
     "data": {
      "text/plain": [
       "15496"
      ]
     },
     "execution_count": 144,
     "metadata": {},
     "output_type": "execute_result"
    }
   ],
   "source": [
    "len(Filelist2)"
   ]
  },
  {
   "cell_type": "code",
   "execution_count": 145,
   "metadata": {},
   "outputs": [],
   "source": [
    "name = ['image_id']\n",
    "filelist_others = pd.DataFrame(columns=name, data=Filelist2)\n",
    "filelist_others.head()\n",
    "filelist_others.shape\n",
    "filelist_others.to_csv('/home/zxt/data/backupdata/SER/filelist_others.csv', encoding='gbk')"
   ]
  },
  {
   "cell_type": "code",
   "execution_count": null,
   "metadata": {},
   "outputs": [],
   "source": []
  },
  {
   "cell_type": "code",
   "execution_count": null,
   "metadata": {},
   "outputs": [],
   "source": []
  },
  {
   "cell_type": "code",
   "execution_count": null,
   "metadata": {},
   "outputs": [],
   "source": []
  },
  {
   "cell_type": "code",
   "execution_count": null,
   "metadata": {},
   "outputs": [],
   "source": []
  },
  {
   "cell_type": "code",
   "execution_count": null,
   "metadata": {},
   "outputs": [],
   "source": []
  },
  {
   "cell_type": "code",
   "execution_count": null,
   "metadata": {},
   "outputs": [],
   "source": []
  },
  {
   "cell_type": "code",
   "execution_count": null,
   "metadata": {},
   "outputs": [],
   "source": []
  },
  {
   "cell_type": "code",
   "execution_count": null,
   "metadata": {},
   "outputs": [],
   "source": []
  },
  {
   "cell_type": "code",
   "execution_count": null,
   "metadata": {},
   "outputs": [],
   "source": []
  },
  {
   "cell_type": "code",
   "execution_count": null,
   "metadata": {},
   "outputs": [],
   "source": []
  },
  {
   "cell_type": "code",
   "execution_count": null,
   "metadata": {},
   "outputs": [],
   "source": []
  },
  {
   "cell_type": "code",
   "execution_count": null,
   "metadata": {},
   "outputs": [],
   "source": []
  },
  {
   "cell_type": "code",
   "execution_count": null,
   "metadata": {},
   "outputs": [],
   "source": []
  }
 ],
 "metadata": {
  "kernelspec": {
   "display_name": "Python 3",
   "language": "python",
   "name": "python3"
  },
  "language_info": {
   "codemirror_mode": {
    "name": "ipython",
    "version": 3
   },
   "file_extension": ".py",
   "mimetype": "text/x-python",
   "name": "python",
   "nbconvert_exporter": "python",
   "pygments_lexer": "ipython3",
   "version": "3.7.4"
  }
 },
 "nbformat": 4,
 "nbformat_minor": 4
}
